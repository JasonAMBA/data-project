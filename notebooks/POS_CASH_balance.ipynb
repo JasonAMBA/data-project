{
 "cells": [
  {
   "cell_type": "code",
   "execution_count": 1,
   "metadata": {},
   "outputs": [],
   "source": [
    "import pandas as pd\n",
    "import numpy as np\n",
    "from sklearn.ensemble import IsolationForest"
   ]
  },
  {
   "cell_type": "code",
   "execution_count": 2,
   "metadata": {},
   "outputs": [],
   "source": [
    "# Charger le fichier CSV\n",
    "pos_cash_balance = pd.read_csv(r'C:\\Users\\jason\\Desktop\\Cours MS2D\\Bejaoui\\IA\\Credit scoring project\\POS_CASH_balance.csv')"
   ]
  },
  {
   "cell_type": "code",
   "execution_count": 3,
   "metadata": {},
   "outputs": [
    {
     "name": "stdout",
     "output_type": "stream",
     "text": [
      "   SK_ID_PREV  SK_ID_CURR  MONTHS_BALANCE  CNT_INSTALMENT  \\\n",
      "0     1803195      182943             -31            48.0   \n",
      "1     1715348      367990             -33            36.0   \n",
      "2     1784872      397406             -32            12.0   \n",
      "3     1903291      269225             -35            48.0   \n",
      "4     2341044      334279             -35            36.0   \n",
      "\n",
      "   CNT_INSTALMENT_FUTURE NAME_CONTRACT_STATUS  SK_DPD  SK_DPD_DEF  \n",
      "0                   45.0               Active       0           0  \n",
      "1                   35.0               Active       0           0  \n",
      "2                    9.0               Active       0           0  \n",
      "3                   42.0               Active       0           0  \n",
      "4                   35.0               Active       0           0  \n"
     ]
    }
   ],
   "source": [
    "# Afficher les premières lignes du DataFrame\n",
    "print(pos_cash_balance.head())"
   ]
  },
  {
   "cell_type": "code",
   "execution_count": 4,
   "metadata": {},
   "outputs": [
    {
     "name": "stdout",
     "output_type": "stream",
     "text": [
      "Nombre de lignes avant le filtrage des valeurs aberrantes : 10001358\n",
      "SK_ID_PREV                   0\n",
      "SK_ID_CURR                   0\n",
      "MONTHS_BALANCE               0\n",
      "CNT_INSTALMENT           26071\n",
      "CNT_INSTALMENT_FUTURE    26087\n",
      "NAME_CONTRACT_STATUS         0\n",
      "SK_DPD                       0\n",
      "SK_DPD_DEF                   0\n",
      "dtype: int64\n"
     ]
    }
   ],
   "source": [
    "# Sélectionner les colonnes pertinentes\n",
    "selected_columns_pos_cash_balance = [\n",
    "    'SK_ID_PREV', 'SK_ID_CURR', 'MONTHS_BALANCE', 'CNT_INSTALMENT',\n",
    "    'CNT_INSTALMENT_FUTURE', 'NAME_CONTRACT_STATUS', 'SK_DPD', 'SK_DPD_DEF'\n",
    "]\n",
    "\n",
    "pos_cash_balance_selected = pos_cash_balance[selected_columns_pos_cash_balance].copy()\n",
    "\n",
    "# Nombre de lignes avant le filtrage des valeurs aberrantes\n",
    "print(f\"Nombre de lignes avant le filtrage des valeurs aberrantes : {len(pos_cash_balance_selected)}\")\n",
    "\n",
    "# Afficher le nombre de valeurs manquantes par colonne\n",
    "print(pos_cash_balance_selected.isnull().sum())"
   ]
  },
  {
   "cell_type": "code",
   "execution_count": 5,
   "metadata": {},
   "outputs": [],
   "source": [
    "# Traiter les valeurs manquantes en utilisant .loc\n",
    "pos_cash_balance_selected.loc[:, 'CNT_INSTALMENT'] = pos_cash_balance_selected['CNT_INSTALMENT'].fillna(pos_cash_balance_selected['CNT_INSTALMENT'].median())\n",
    "pos_cash_balance_selected.loc[:, 'CNT_INSTALMENT_FUTURE'] = pos_cash_balance_selected['CNT_INSTALMENT_FUTURE'].fillna(pos_cash_balance_selected['CNT_INSTALMENT_FUTURE'].median())"
   ]
  },
  {
   "cell_type": "code",
   "execution_count": 6,
   "metadata": {},
   "outputs": [
    {
     "name": "stdout",
     "output_type": "stream",
     "text": [
      "NAME_CONTRACT_STATUS    9\n",
      "dtype: int64\n",
      "Valeurs uniques pour NAME_CONTRACT_STATUS:\n",
      "['Active' 'Completed' 'Signed' 'Approved' 'Returned to the store' 'Demand'\n",
      " 'Canceled' 'XNA' 'Amortized debt']\n",
      "\n"
     ]
    }
   ],
   "source": [
    "# Sélectionner les colonnes de type 'object' et obtenir le nombre de valeurs uniques\n",
    "object_columns_unique_counts = pos_cash_balance_selected.select_dtypes('object').apply(pd.Series.nunique, axis=0)\n",
    "print(object_columns_unique_counts)\n",
    "\n",
    "# Afficher les valeurs uniques pour chaque colonne de type 'object'\n",
    "for column in pos_cash_balance_selected.select_dtypes('object').columns:\n",
    "    print(f\"Valeurs uniques pour {column}:\")\n",
    "    print(pos_cash_balance_selected[column].unique())\n",
    "    print()"
   ]
  },
  {
   "cell_type": "code",
   "execution_count": 7,
   "metadata": {},
   "outputs": [
    {
     "name": "stdout",
     "output_type": "stream",
     "text": [
      "NAME_CONTRACT_STATUS    8\n",
      "dtype: int64\n"
     ]
    }
   ],
   "source": [
    "# 4. Corriger les valeurs de NAME_CONTRACT_STATUS\n",
    "# Remplacer 'XNA' par la valeur la plus fréquente\n",
    "most_frequent_status = pos_cash_balance_selected['NAME_CONTRACT_STATUS'].mode()[0]\n",
    "pos_cash_balance_selected['NAME_CONTRACT_STATUS'] = pos_cash_balance_selected['NAME_CONTRACT_STATUS'].replace('XNA', most_frequent_status)\n",
    "\n",
    "# Vérification des valeurs uniques après remplacement\n",
    "object_columns_unique_counts_corrected = pos_cash_balance_selected.select_dtypes('object').apply(pd.Series.nunique, axis=0)\n",
    "print(object_columns_unique_counts_corrected)"
   ]
  },
  {
   "cell_type": "code",
   "execution_count": 8,
   "metadata": {},
   "outputs": [],
   "source": [
    "# 5. Transformation logarithmique pour les colonnes numériques pertinentes\n",
    "columns_to_log_transform = ['CNT_INSTALMENT', 'CNT_INSTALMENT_FUTURE', 'SK_DPD', 'SK_DPD_DEF']\n",
    "\n",
    "for col in columns_to_log_transform:\n",
    "    pos_cash_balance_selected[col] = pos_cash_balance_selected[col].apply(lambda x: np.log1p(x) if x > 0 else 0)\n"
   ]
  },
  {
   "cell_type": "code",
   "execution_count": 9,
   "metadata": {},
   "outputs": [],
   "source": [
    "# 6. Imputation des valeurs aberrantes\n",
    "numerical_cols_pos_cash_balance = ['CNT_INSTALMENT', 'CNT_INSTALMENT_FUTURE', 'SK_DPD', 'SK_DPD_DEF']\n",
    "\n",
    "for col in numerical_cols_pos_cash_balance:\n",
    "    q_low = pos_cash_balance_selected[col].quantile(0.01)\n",
    "    q_high = pos_cash_balance_selected[col].quantile(0.99)\n",
    "    \n",
    "    median_value = pos_cash_balance_selected[col].median()\n",
    "    pos_cash_balance_selected[col] = pos_cash_balance_selected[col].mask((pos_cash_balance_selected[col] < q_low) | (pos_cash_balance_selected[col] > q_high), median_value)"
   ]
  },
  {
   "cell_type": "code",
   "execution_count": 10,
   "metadata": {},
   "outputs": [],
   "source": [
    "# 7. Réduction de la taille des données pour l'Isolation Forest\n",
    "pos_cash_balance_sampled = pos_cash_balance_selected.sample(frac=0.1, random_state=42)"
   ]
  },
  {
   "cell_type": "code",
   "execution_count": 11,
   "metadata": {},
   "outputs": [],
   "source": [
    "# 8. Application de l'Isolation Forest pour la détection des anomalies\n",
    "iso = IsolationForest(contamination=0.01, random_state=42)\n",
    "yhat = iso.fit_predict(pos_cash_balance_sampled[numerical_cols_pos_cash_balance])\n",
    "\n",
    "pos_cash_balance_sampled = pos_cash_balance_sampled[yhat != -1]"
   ]
  },
  {
   "cell_type": "code",
   "execution_count": 12,
   "metadata": {},
   "outputs": [
    {
     "name": "stdout",
     "output_type": "stream",
     "text": [
      "<class 'pandas.core.frame.DataFrame'>\n",
      "RangeIndex: 10001358 entries, 0 to 10001357\n",
      "Data columns (total 8 columns):\n",
      " #   Column                 Dtype  \n",
      "---  ------                 -----  \n",
      " 0   SK_ID_PREV             int64  \n",
      " 1   SK_ID_CURR             int64  \n",
      " 2   MONTHS_BALANCE         int64  \n",
      " 3   CNT_INSTALMENT         float64\n",
      " 4   CNT_INSTALMENT_FUTURE  float64\n",
      " 5   NAME_CONTRACT_STATUS   object \n",
      " 6   SK_DPD                 float64\n",
      " 7   SK_DPD_DEF             float64\n",
      "dtypes: float64(4), int64(3), object(1)\n",
      "memory usage: 610.4+ MB\n",
      "None\n"
     ]
    }
   ],
   "source": [
    "# Vérifier les types de données\n",
    "print(pos_cash_balance_selected.info())"
   ]
  },
  {
   "cell_type": "code",
   "execution_count": 13,
   "metadata": {},
   "outputs": [],
   "source": [
    "# 9. Fusionner les résultats\n",
    "pos_cash_balance_selected = pd.concat([pos_cash_balance_selected[~pos_cash_balance_selected.index.isin(pos_cash_balance_sampled.index)], pos_cash_balance_sampled])"
   ]
  },
  {
   "cell_type": "code",
   "execution_count": 14,
   "metadata": {},
   "outputs": [
    {
     "name": "stdout",
     "output_type": "stream",
     "text": [
      "Nombre de lignes après le filtrage des valeurs aberrantes : 10001358\n"
     ]
    }
   ],
   "source": [
    "# Nombre de lignes après le filtrage des valeurs aberrantes\n",
    "print(f\"Nombre de lignes après le filtrage des valeurs aberrantes : {len(pos_cash_balance_selected)}\")"
   ]
  },
  {
   "cell_type": "code",
   "execution_count": 15,
   "metadata": {},
   "outputs": [
    {
     "name": "stdout",
     "output_type": "stream",
     "text": [
      "SK_ID_PREV               0\n",
      "SK_ID_CURR               0\n",
      "MONTHS_BALANCE           0\n",
      "CNT_INSTALMENT           0\n",
      "CNT_INSTALMENT_FUTURE    0\n",
      "NAME_CONTRACT_STATUS     0\n",
      "SK_DPD                   0\n",
      "SK_DPD_DEF               0\n",
      "dtype: int64\n"
     ]
    }
   ],
   "source": [
    "# Vérifier que toutes les valeurs manquantes ont été traitées\n",
    "print(pos_cash_balance_selected.isnull().sum())"
   ]
  },
  {
   "cell_type": "code",
   "execution_count": 16,
   "metadata": {},
   "outputs": [],
   "source": [
    "# Sauvegarder les données nettoyées\n",
    "pos_cash_balance_selected.to_csv(r'C:\\Users\\jason\\Desktop\\Cours MS2D\\Bejaoui\\IA\\Credit scoring project\\POS_CASH_balance_clean.csv', index=False)"
   ]
  }
 ],
 "metadata": {
  "kernelspec": {
   "display_name": "base",
   "language": "python",
   "name": "python3"
  },
  "language_info": {
   "codemirror_mode": {
    "name": "ipython",
    "version": 3
   },
   "file_extension": ".py",
   "mimetype": "text/x-python",
   "name": "python",
   "nbconvert_exporter": "python",
   "pygments_lexer": "ipython3",
   "version": "3.11.5"
  }
 },
 "nbformat": 4,
 "nbformat_minor": 2
}
