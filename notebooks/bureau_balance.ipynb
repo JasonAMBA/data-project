{
 "cells": [
  {
   "cell_type": "code",
   "execution_count": 1,
   "metadata": {},
   "outputs": [],
   "source": [
    "import pandas as pd"
   ]
  },
  {
   "cell_type": "code",
   "execution_count": 2,
   "metadata": {},
   "outputs": [],
   "source": [
    "# Charger le fichier CSV\n",
    "bureau_balance = pd.read_csv(r'C:\\Users\\jason\\Desktop\\Cours MS2D\\Bejaoui\\IA\\Credit scoring project\\bureau_balance.csv')"
   ]
  },
  {
   "cell_type": "code",
   "execution_count": 3,
   "metadata": {},
   "outputs": [
    {
     "name": "stdout",
     "output_type": "stream",
     "text": [
      "   SK_ID_BUREAU  MONTHS_BALANCE STATUS\n",
      "0       5715448               0      C\n",
      "1       5715448              -1      C\n",
      "2       5715448              -2      C\n",
      "3       5715448              -3      C\n",
      "4       5715448              -4      C\n"
     ]
    }
   ],
   "source": [
    "# Afficher les premières lignes du DataFrame\n",
    "print(bureau_balance.head())"
   ]
  },
  {
   "cell_type": "code",
   "execution_count": 4,
   "metadata": {},
   "outputs": [
    {
     "name": "stdout",
     "output_type": "stream",
     "text": [
      "SK_ID_BUREAU      0\n",
      "MONTHS_BALANCE    0\n",
      "STATUS            0\n",
      "dtype: int64\n"
     ]
    }
   ],
   "source": [
    "# Sélectionner les colonnes pertinentes\n",
    "selected_columns_bureau_balance = ['SK_ID_BUREAU', 'MONTHS_BALANCE', 'STATUS']\n",
    "\n",
    "bureau_balance_selected = bureau_balance[selected_columns_bureau_balance].copy()\n",
    "\n",
    "# Afficher le nombre de valeurs manquantes par colonne\n",
    "print(bureau_balance_selected.isnull().sum())"
   ]
  },
  {
   "cell_type": "code",
   "execution_count": 5,
   "metadata": {},
   "outputs": [
    {
     "name": "stdout",
     "output_type": "stream",
     "text": [
      "STATUS    8\n",
      "dtype: int64\n",
      "Valeurs uniques pour STATUS:\n",
      "['C' '0' 'X' '1' '2' '3' '5' '4']\n",
      "\n"
     ]
    }
   ],
   "source": [
    "# Sélectionner les colonnes de type 'object' et obtenir le nombre de valeurs uniques\n",
    "object_columns_unique_counts = bureau_balance_selected.select_dtypes('object').apply(pd.Series.nunique, axis=0)\n",
    "print(object_columns_unique_counts)\n",
    "\n",
    "# Afficher les valeurs uniques pour chaque colonne de type 'object'\n",
    "for column in bureau_balance_selected.select_dtypes('object').columns:\n",
    "    print(f\"Valeurs uniques pour {column}:\")\n",
    "    print(bureau_balance_selected[column].unique())\n",
    "    print()"
   ]
  },
  {
   "cell_type": "code",
   "execution_count": 10,
   "metadata": {},
   "outputs": [
    {
     "name": "stdout",
     "output_type": "stream",
     "text": [
      "<class 'pandas.core.frame.DataFrame'>\n",
      "RangeIndex: 27299925 entries, 0 to 27299924\n",
      "Data columns (total 3 columns):\n",
      " #   Column          Dtype \n",
      "---  ------          ----- \n",
      " 0   SK_ID_BUREAU    int64 \n",
      " 1   MONTHS_BALANCE  int64 \n",
      " 2   STATUS          object\n",
      "dtypes: int64(2), object(1)\n",
      "memory usage: 624.8+ MB\n",
      "None\n"
     ]
    }
   ],
   "source": [
    "# Vérifier les types de données\n",
    "print(bureau_balance_selected.info())"
   ]
  },
  {
   "cell_type": "code",
   "execution_count": 11,
   "metadata": {},
   "outputs": [],
   "source": [
    "# Traiter les valeurs aberrantes pour la colonne MONTHS_BALANCE\n",
    "q_low = bureau_balance_selected['MONTHS_BALANCE'].quantile(0.01)\n",
    "q_high = bureau_balance_selected['MONTHS_BALANCE'].quantile(0.99)\n",
    "bureau_balance_selected = bureau_balance_selected[(bureau_balance_selected['MONTHS_BALANCE'] > q_low) & (bureau_balance_selected['MONTHS_BALANCE'] < q_high)]"
   ]
  },
  {
   "cell_type": "code",
   "execution_count": 12,
   "metadata": {},
   "outputs": [],
   "source": [
    "# Sauvegarder les données nettoyées\n",
    "bureau_balance_selected.to_csv(r'C:\\Users\\jason\\Desktop\\Cours MS2D\\Bejaoui\\IA\\Credit scoring project\\bureau_balance_clean.csv', index=False)"
   ]
  }
 ],
 "metadata": {
  "kernelspec": {
   "display_name": "base",
   "language": "python",
   "name": "python3"
  },
  "language_info": {
   "codemirror_mode": {
    "name": "ipython",
    "version": 3
   },
   "file_extension": ".py",
   "mimetype": "text/x-python",
   "name": "python",
   "nbconvert_exporter": "python",
   "pygments_lexer": "ipython3",
   "version": "3.11.5"
  }
 },
 "nbformat": 4,
 "nbformat_minor": 2
}
