{
 "cells": [
  {
   "cell_type": "code",
   "execution_count": 101,
   "metadata": {},
   "outputs": [],
   "source": [
    "import dask\n",
    "from dask import delayed\n",
    "from dask.distributed import Client\n",
    "import dask.dataframe as dd\n",
    "import pandas as pd\n",
    "import numpy as np"
   ]
  },
  {
   "cell_type": "code",
   "execution_count": 102,
   "metadata": {},
   "outputs": [
    {
     "data": {
      "text/plain": [
       "<dask.config.set at 0x1c0a3d24510>"
      ]
     },
     "execution_count": 102,
     "metadata": {},
     "output_type": "execute_result"
    }
   ],
   "source": [
    "# Configurer le scheduler pour utiliser les threads\n",
    "dask.config.set(scheduler='threads')"
   ]
  },
  {
   "cell_type": "code",
   "execution_count": 103,
   "metadata": {},
   "outputs": [],
   "source": [
    "df_application = dd.read_csv(r'C:\\Users\\jason\\Desktop\\Cours MS2D\\Bejaoui\\IA\\Credit scoring project\\application_train_clean.csv')\n",
    "df_bureau = dd.read_csv(r'C:\\Users\\jason\\Desktop\\Cours MS2D\\Bejaoui\\IA\\Credit scoring project\\bureau_clean.csv')\n",
    "df_bureau_balance = dd.read_csv(r'C:\\Users\\jason\\Desktop\\Cours MS2D\\Bejaoui\\IA\\Credit scoring project\\bureau_balance_clean.csv')\n",
    "df_prev_app = dd.read_csv(r'C:\\Users\\jason\\Desktop\\Cours MS2D\\Bejaoui\\IA\\Credit scoring project\\previous_application_clean.csv')\n",
    "df_credit_card = dd.read_csv(r'C:\\Users\\jason\\Desktop\\Cours MS2D\\Bejaoui\\IA\\Credit scoring project\\credit_card_balance_clean.csv')\n",
    "df_pos_cash = dd.read_csv(r'C:\\Users\\jason\\Desktop\\Cours MS2D\\Bejaoui\\IA\\Credit scoring project\\POS_CASH_balance_clean.csv')\n",
    "df_installments_payments = dd.read_csv(r'C:\\Users\\jason\\Desktop\\Cours MS2D\\Bejaoui\\IA\\Credit scoring project\\installments_payments_clean.csv')"
   ]
  },
  {
   "cell_type": "code",
   "execution_count": 104,
   "metadata": {},
   "outputs": [
    {
     "name": "stderr",
     "output_type": "stream",
     "text": [
      "c:\\Users\\jason\\anaconda3\\Lib\\site-packages\\dask\\base.py:1366: UserWarning: Running on a single-machine scheduler when a distributed client is active might lead to unexpected results.\n",
      "  warnings.warn(\n"
     ]
    },
    {
     "name": "stdout",
     "output_type": "stream",
     "text": [
      "          SK_ID_CURR         TARGET   CNT_CHILDREN  AMT_INCOME_TOTAL  \\\n",
      "count  287203.000000  287203.000000  287203.000000     287203.000000   \n",
      "mean   278240.032468       0.082607       0.417701     163018.034641   \n",
      "std    102803.466569       0.275288       0.721232      74621.715391   \n",
      "min    100002.000000       0.000000       0.000000      45184.500000   \n",
      "25%    189154.500000       0.000000       0.000000     112500.000000   \n",
      "50%    278290.000000       0.000000       0.000000     144000.000000   \n",
      "75%    367160.500000       0.000000       1.000000     202500.000000   \n",
      "max    456255.000000       1.000000      19.000000     468823.500000   \n",
      "\n",
      "         AMT_CREDIT    AMT_ANNUITY  \n",
      "count  2.872030e+05  287203.000000  \n",
      "mean   5.858922e+05   26514.686415  \n",
      "std    3.575384e+05   12066.656724  \n",
      "min    7.912800e+04    6754.500000  \n",
      "25%    2.786130e+05   16920.000000  \n",
      "50%    5.163975e+05   24939.000000  \n",
      "75%    8.086500e+05   33750.000000  \n",
      "max    1.798605e+06   66838.500000  \n"
     ]
    }
   ],
   "source": [
    "# Configurer le scheduler pour utiliser les threads\n",
    "dask.config.set(scheduler='threads')\n",
    "\n",
    "print(df_application.describe().compute())"
   ]
  },
  {
   "cell_type": "code",
   "execution_count": 105,
   "metadata": {},
   "outputs": [
    {
     "name": "stdout",
     "output_type": "stream",
     "text": [
      "Valeurs manquantes par fichier :\n"
     ]
    },
    {
     "name": "stderr",
     "output_type": "stream",
     "text": [
      "c:\\Users\\jason\\anaconda3\\Lib\\site-packages\\dask\\base.py:1366: UserWarning: Running on a single-machine scheduler when a distributed client is active might lead to unexpected results.\n",
      "  warnings.warn(\n"
     ]
    },
    {
     "name": "stdout",
     "output_type": "stream",
     "text": [
      "Application:\n",
      " SK_ID_CURR            0\n",
      "TARGET                0\n",
      "NAME_CONTRACT_TYPE    0\n",
      "CODE_GENDER           0\n",
      "FLAG_OWN_CAR          0\n",
      "FLAG_OWN_REALTY       0\n",
      "CNT_CHILDREN          0\n",
      "AMT_INCOME_TOTAL      0\n",
      "AMT_CREDIT            0\n",
      "AMT_ANNUITY           0\n",
      "dtype: int64\n"
     ]
    },
    {
     "name": "stderr",
     "output_type": "stream",
     "text": [
      "c:\\Users\\jason\\anaconda3\\Lib\\site-packages\\dask\\base.py:1366: UserWarning: Running on a single-machine scheduler when a distributed client is active might lead to unexpected results.\n",
      "  warnings.warn(\n"
     ]
    },
    {
     "name": "stdout",
     "output_type": "stream",
     "text": [
      "Bureau:\n",
      " SK_ID_CURR                0\n",
      "SK_ID_BUREAU              0\n",
      "CREDIT_ACTIVE             0\n",
      "CREDIT_CURRENCY           0\n",
      "DAYS_CREDIT               0\n",
      "CREDIT_DAY_OVERDUE        0\n",
      "DAYS_CREDIT_ENDDATE       0\n",
      "DAYS_ENDDATE_FACT         0\n",
      "AMT_CREDIT_MAX_OVERDUE    0\n",
      "CNT_CREDIT_PROLONG        0\n",
      "AMT_CREDIT_SUM            0\n",
      "AMT_CREDIT_SUM_DEBT       0\n",
      "AMT_CREDIT_SUM_LIMIT      0\n",
      "AMT_CREDIT_SUM_OVERDUE    0\n",
      "CREDIT_TYPE               0\n",
      "DAYS_CREDIT_UPDATE        0\n",
      "AMT_ANNUITY               0\n",
      "dtype: int64\n"
     ]
    },
    {
     "name": "stderr",
     "output_type": "stream",
     "text": [
      "c:\\Users\\jason\\anaconda3\\Lib\\site-packages\\dask\\base.py:1366: UserWarning: Running on a single-machine scheduler when a distributed client is active might lead to unexpected results.\n",
      "  warnings.warn(\n"
     ]
    },
    {
     "name": "stdout",
     "output_type": "stream",
     "text": [
      "Bureau Balance:\n",
      " SK_ID_BUREAU      0\n",
      "MONTHS_BALANCE    0\n",
      "STATUS            0\n",
      "dtype: int64\n"
     ]
    },
    {
     "name": "stderr",
     "output_type": "stream",
     "text": [
      "c:\\Users\\jason\\anaconda3\\Lib\\site-packages\\dask\\base.py:1366: UserWarning: Running on a single-machine scheduler when a distributed client is active might lead to unexpected results.\n",
      "  warnings.warn(\n"
     ]
    },
    {
     "name": "stdout",
     "output_type": "stream",
     "text": [
      "Previous Application:\n",
      " K_ID_PREV                      0\n",
      "SK_ID_CURR                     0\n",
      "NAME_CONTRACT_TYPE             0\n",
      "AMT_ANNUITY                    0\n",
      "AMT_APPLICATION                0\n",
      "AMT_CREDIT                     0\n",
      "AMT_DOWN_PAYMENT               0\n",
      "AMT_GOODS_PRICE                0\n",
      "WEEKDAY_APPR_PROCESS_START     0\n",
      "HOUR_APPR_PROCESS_START        0\n",
      "FLAG_LAST_APPL_PER_CONTRACT    0\n",
      "NFLAG_LAST_APPL_IN_DAY         0\n",
      "RATE_DOWN_PAYMENT              0\n",
      "RATE_INTEREST_PRIMARY          0\n",
      "RATE_INTEREST_PRIVILEGED       0\n",
      "dtype: int64\n"
     ]
    },
    {
     "name": "stderr",
     "output_type": "stream",
     "text": [
      "c:\\Users\\jason\\anaconda3\\Lib\\site-packages\\dask\\base.py:1366: UserWarning: Running on a single-machine scheduler when a distributed client is active might lead to unexpected results.\n",
      "  warnings.warn(\n"
     ]
    },
    {
     "name": "stdout",
     "output_type": "stream",
     "text": [
      "Credit Card:\n",
      " SK_ID_PREV                    0\n",
      "SK_ID_CURR                    0\n",
      "MONTHS_BALANCE                0\n",
      "AMT_BALANCE                   0\n",
      "AMT_CREDIT_LIMIT_ACTUAL       0\n",
      "AMT_DRAWINGS_ATM_CURRENT      0\n",
      "AMT_DRAWINGS_CURRENT          0\n",
      "AMT_DRAWINGS_OTHER_CURRENT    0\n",
      "AMT_DRAWINGS_POS_CURRENT      0\n",
      "AMT_INST_MIN_REGULARITY       0\n",
      "dtype: int64\n"
     ]
    },
    {
     "name": "stderr",
     "output_type": "stream",
     "text": [
      "c:\\Users\\jason\\anaconda3\\Lib\\site-packages\\dask\\base.py:1366: UserWarning: Running on a single-machine scheduler when a distributed client is active might lead to unexpected results.\n",
      "  warnings.warn(\n"
     ]
    },
    {
     "name": "stdout",
     "output_type": "stream",
     "text": [
      "POS Cash:\n",
      " SK_ID_PREV               0\n",
      "SK_ID_CURR               0\n",
      "MONTHS_BALANCE           0\n",
      "CNT_INSTALMENT           0\n",
      "CNT_INSTALMENT_FUTURE    0\n",
      "NAME_CONTRACT_STATUS     0\n",
      "SK_DPD                   0\n",
      "SK_DPD_DEF               0\n",
      "dtype: int64\n"
     ]
    },
    {
     "name": "stderr",
     "output_type": "stream",
     "text": [
      "c:\\Users\\jason\\anaconda3\\Lib\\site-packages\\dask\\base.py:1366: UserWarning: Running on a single-machine scheduler when a distributed client is active might lead to unexpected results.\n",
      "  warnings.warn(\n"
     ]
    },
    {
     "name": "stdout",
     "output_type": "stream",
     "text": [
      "Installments Payments:\n",
      " SK_ID_PREV                0\n",
      "SK_ID_CURR                0\n",
      "NUM_INSTALMENT_VERSION    0\n",
      "NUM_INSTALMENT_NUMBER     0\n",
      "DAYS_INSTALMENT           0\n",
      "DAYS_ENTRY_PAYMENT        0\n",
      "AMT_INSTALMENT            0\n",
      "AMT_PAYMENT               0\n",
      "dtype: int64\n"
     ]
    }
   ],
   "source": [
    "# Vérification des valeurs manquantes\n",
    "print(\"Valeurs manquantes par fichier :\")\n",
    "print(\"Application:\\n\", df_application.isnull().sum().compute())\n",
    "print(\"Bureau:\\n\", df_bureau.isnull().sum().compute())\n",
    "print(\"Bureau Balance:\\n\", df_bureau_balance.isnull().sum().compute())\n",
    "print(\"Previous Application:\\n\", df_prev_app.isnull().sum().compute())\n",
    "print(\"Credit Card:\\n\", df_credit_card.isnull().sum().compute())\n",
    "print(\"POS Cash:\\n\", df_pos_cash.isnull().sum().compute())\n",
    "print(\"Installments Payments:\\n\", df_installments_payments.isnull().sum().compute())"
   ]
  },
  {
   "cell_type": "code",
   "execution_count": 81,
   "metadata": {},
   "outputs": [
    {
     "name": "stdout",
     "output_type": "stream",
     "text": [
      "Doublons par fichier :\n"
     ]
    },
    {
     "name": "stderr",
     "output_type": "stream",
     "text": [
      "c:\\Users\\jason\\anaconda3\\Lib\\site-packages\\dask\\base.py:1366: UserWarning: Running on a single-machine scheduler when a distributed client is active might lead to unexpected results.\n",
      "  warnings.warn(\n",
      "c:\\Users\\jason\\anaconda3\\Lib\\site-packages\\dask\\base.py:1366: UserWarning: Running on a single-machine scheduler when a distributed client is active might lead to unexpected results.\n",
      "  warnings.warn(\n"
     ]
    },
    {
     "name": "stdout",
     "output_type": "stream",
     "text": [
      "Application: 0\n"
     ]
    },
    {
     "name": "stderr",
     "output_type": "stream",
     "text": [
      "c:\\Users\\jason\\anaconda3\\Lib\\site-packages\\dask\\base.py:1366: UserWarning: Running on a single-machine scheduler when a distributed client is active might lead to unexpected results.\n",
      "  warnings.warn(\n",
      "c:\\Users\\jason\\anaconda3\\Lib\\site-packages\\dask\\base.py:1366: UserWarning: Running on a single-machine scheduler when a distributed client is active might lead to unexpected results.\n",
      "  warnings.warn(\n"
     ]
    },
    {
     "name": "stdout",
     "output_type": "stream",
     "text": [
      "Bureau: 0\n"
     ]
    },
    {
     "name": "stderr",
     "output_type": "stream",
     "text": [
      "c:\\Users\\jason\\anaconda3\\Lib\\site-packages\\dask\\base.py:1366: UserWarning: Running on a single-machine scheduler when a distributed client is active might lead to unexpected results.\n",
      "  warnings.warn(\n",
      "c:\\Users\\jason\\anaconda3\\Lib\\site-packages\\dask\\base.py:1366: UserWarning: Running on a single-machine scheduler when a distributed client is active might lead to unexpected results.\n",
      "  warnings.warn(\n"
     ]
    },
    {
     "name": "stdout",
     "output_type": "stream",
     "text": [
      "Bureau Balance: 0\n"
     ]
    },
    {
     "name": "stderr",
     "output_type": "stream",
     "text": [
      "c:\\Users\\jason\\anaconda3\\Lib\\site-packages\\dask\\base.py:1366: UserWarning: Running on a single-machine scheduler when a distributed client is active might lead to unexpected results.\n",
      "  warnings.warn(\n",
      "c:\\Users\\jason\\anaconda3\\Lib\\site-packages\\dask\\base.py:1366: UserWarning: Running on a single-machine scheduler when a distributed client is active might lead to unexpected results.\n",
      "  warnings.warn(\n"
     ]
    },
    {
     "name": "stdout",
     "output_type": "stream",
     "text": [
      "Previous Application: 0\n"
     ]
    },
    {
     "name": "stderr",
     "output_type": "stream",
     "text": [
      "c:\\Users\\jason\\anaconda3\\Lib\\site-packages\\dask\\base.py:1366: UserWarning: Running on a single-machine scheduler when a distributed client is active might lead to unexpected results.\n",
      "  warnings.warn(\n",
      "c:\\Users\\jason\\anaconda3\\Lib\\site-packages\\dask\\base.py:1366: UserWarning: Running on a single-machine scheduler when a distributed client is active might lead to unexpected results.\n",
      "  warnings.warn(\n"
     ]
    },
    {
     "name": "stdout",
     "output_type": "stream",
     "text": [
      "Credit Card: 0\n"
     ]
    },
    {
     "name": "stderr",
     "output_type": "stream",
     "text": [
      "c:\\Users\\jason\\anaconda3\\Lib\\site-packages\\dask\\base.py:1366: UserWarning: Running on a single-machine scheduler when a distributed client is active might lead to unexpected results.\n",
      "  warnings.warn(\n",
      "c:\\Users\\jason\\anaconda3\\Lib\\site-packages\\dask\\base.py:1366: UserWarning: Running on a single-machine scheduler when a distributed client is active might lead to unexpected results.\n",
      "  warnings.warn(\n"
     ]
    },
    {
     "name": "stdout",
     "output_type": "stream",
     "text": [
      "POS Cash: 0\n"
     ]
    },
    {
     "name": "stderr",
     "output_type": "stream",
     "text": [
      "c:\\Users\\jason\\anaconda3\\Lib\\site-packages\\dask\\base.py:1366: UserWarning: Running on a single-machine scheduler when a distributed client is active might lead to unexpected results.\n",
      "  warnings.warn(\n",
      "c:\\Users\\jason\\anaconda3\\Lib\\site-packages\\dask\\base.py:1366: UserWarning: Running on a single-machine scheduler when a distributed client is active might lead to unexpected results.\n",
      "  warnings.warn(\n"
     ]
    },
    {
     "name": "stdout",
     "output_type": "stream",
     "text": [
      "Installments Payments: 0\n"
     ]
    }
   ],
   "source": [
    "# Fonction pour vérifier les doublons\n",
    "def count_duplicates(df):\n",
    "    # Compte les doublons en regroupant toutes les colonnes et en comptant leur taille\n",
    "    return df.groupby(df.columns.tolist()).size().compute().sum() - len(df)\n",
    "\n",
    "# Vérification des doublons\n",
    "print(\"Doublons par fichier :\")\n",
    "print(\"Application:\", count_duplicates(df_application))\n",
    "print(\"Bureau:\", count_duplicates(df_bureau))\n",
    "print(\"Bureau Balance:\", count_duplicates(df_bureau_balance))\n",
    "print(\"Previous Application:\", count_duplicates(df_prev_app))\n",
    "print(\"Credit Card:\", count_duplicates(df_credit_card))\n",
    "print(\"POS Cash:\", count_duplicates(df_pos_cash))\n",
    "print(\"Installments Payments:\", count_duplicates(df_installments_payments))"
   ]
  },
  {
   "cell_type": "code",
   "execution_count": 106,
   "metadata": {},
   "outputs": [
    {
     "name": "stdout",
     "output_type": "stream",
     "text": [
      "Types de données par fichier :\n",
      "Application:\n",
      " SK_ID_CURR              int64\n",
      "TARGET                  int64\n",
      "NAME_CONTRACT_TYPE     object\n",
      "CODE_GENDER            object\n",
      "FLAG_OWN_CAR           object\n",
      "FLAG_OWN_REALTY        object\n",
      "CNT_CHILDREN            int64\n",
      "AMT_INCOME_TOTAL      float64\n",
      "AMT_CREDIT            float64\n",
      "AMT_ANNUITY           float64\n",
      "dtype: object\n",
      "Bureau:\n",
      " SK_ID_CURR                  int64\n",
      "SK_ID_BUREAU                int64\n",
      "CREDIT_ACTIVE              object\n",
      "CREDIT_CURRENCY            object\n",
      "DAYS_CREDIT                 int64\n",
      "CREDIT_DAY_OVERDUE          int64\n",
      "DAYS_CREDIT_ENDDATE       float64\n",
      "DAYS_ENDDATE_FACT         float64\n",
      "AMT_CREDIT_MAX_OVERDUE    float64\n",
      "CNT_CREDIT_PROLONG          int64\n",
      "AMT_CREDIT_SUM            float64\n",
      "AMT_CREDIT_SUM_DEBT       float64\n",
      "AMT_CREDIT_SUM_LIMIT      float64\n",
      "AMT_CREDIT_SUM_OVERDUE    float64\n",
      "CREDIT_TYPE                object\n",
      "DAYS_CREDIT_UPDATE          int64\n",
      "AMT_ANNUITY               float64\n",
      "dtype: object\n",
      "Bureau Balance:\n",
      " SK_ID_BUREAU       int64\n",
      "MONTHS_BALANCE     int64\n",
      "STATUS            object\n",
      "dtype: object\n",
      "Previous Application:\n",
      " K_ID_PREV                        int64\n",
      "SK_ID_CURR                       int64\n",
      "NAME_CONTRACT_TYPE              object\n",
      "AMT_ANNUITY                    float64\n",
      "AMT_APPLICATION                float64\n",
      "AMT_CREDIT                     float64\n",
      "AMT_DOWN_PAYMENT               float64\n",
      "AMT_GOODS_PRICE                float64\n",
      "WEEKDAY_APPR_PROCESS_START      object\n",
      "HOUR_APPR_PROCESS_START          int64\n",
      "FLAG_LAST_APPL_PER_CONTRACT     object\n",
      "NFLAG_LAST_APPL_IN_DAY           int64\n",
      "RATE_DOWN_PAYMENT              float64\n",
      "RATE_INTEREST_PRIMARY          float64\n",
      "RATE_INTEREST_PRIVILEGED       float64\n",
      "dtype: object\n",
      "Credit Card:\n",
      " SK_ID_PREV                      int64\n",
      "SK_ID_CURR                      int64\n",
      "MONTHS_BALANCE                  int64\n",
      "AMT_BALANCE                   float64\n",
      "AMT_CREDIT_LIMIT_ACTUAL       float64\n",
      "AMT_DRAWINGS_ATM_CURRENT      float64\n",
      "AMT_DRAWINGS_CURRENT          float64\n",
      "AMT_DRAWINGS_OTHER_CURRENT    float64\n",
      "AMT_DRAWINGS_POS_CURRENT      float64\n",
      "AMT_INST_MIN_REGULARITY       float64\n",
      "dtype: object\n",
      "POS Cash:\n",
      " SK_ID_PREV                 int64\n",
      "SK_ID_CURR                 int64\n",
      "MONTHS_BALANCE             int64\n",
      "CNT_INSTALMENT           float64\n",
      "CNT_INSTALMENT_FUTURE    float64\n",
      "NAME_CONTRACT_STATUS      object\n",
      "SK_DPD                   float64\n",
      "SK_DPD_DEF               float64\n",
      "dtype: object\n",
      "Installments Payments:\n",
      " SK_ID_PREV                  int64\n",
      "SK_ID_CURR                  int64\n",
      "NUM_INSTALMENT_VERSION    float64\n",
      "NUM_INSTALMENT_NUMBER       int64\n",
      "DAYS_INSTALMENT           float64\n",
      "DAYS_ENTRY_PAYMENT        float64\n",
      "AMT_INSTALMENT            float64\n",
      "AMT_PAYMENT               float64\n",
      "dtype: object\n"
     ]
    }
   ],
   "source": [
    "print(\"Types de données par fichier :\")\n",
    "print(\"Application:\\n\", df_application.dtypes)\n",
    "print(\"Bureau:\\n\", df_bureau.dtypes)\n",
    "print(\"Bureau Balance:\\n\", df_bureau_balance.dtypes)\n",
    "print(\"Previous Application:\\n\", df_prev_app.dtypes)\n",
    "print(\"Credit Card:\\n\", df_credit_card.dtypes)\n",
    "print(\"POS Cash:\\n\", df_pos_cash.dtypes)\n",
    "print(\"Installments Payments:\\n\", df_installments_payments.dtypes)"
   ]
  },
  {
   "cell_type": "code",
   "execution_count": 107,
   "metadata": {},
   "outputs": [
    {
     "name": "stdout",
     "output_type": "stream",
     "text": [
      "Valeurs négatives par fichier :\n"
     ]
    },
    {
     "name": "stderr",
     "output_type": "stream",
     "text": [
      "c:\\Users\\jason\\anaconda3\\Lib\\site-packages\\dask\\base.py:1366: UserWarning: Running on a single-machine scheduler when a distributed client is active might lead to unexpected results.\n",
      "  warnings.warn(\n"
     ]
    },
    {
     "name": "stdout",
     "output_type": "stream",
     "text": [
      "Application - AMT_INCOME_TOTAL négatif: 0\n",
      "Application - AMT_CREDIT négatif: 0\n"
     ]
    },
    {
     "name": "stderr",
     "output_type": "stream",
     "text": [
      "c:\\Users\\jason\\anaconda3\\Lib\\site-packages\\dask\\base.py:1366: UserWarning: Running on a single-machine scheduler when a distributed client is active might lead to unexpected results.\n",
      "  warnings.warn(\n",
      "c:\\Users\\jason\\anaconda3\\Lib\\site-packages\\dask\\base.py:1366: UserWarning: Running on a single-machine scheduler when a distributed client is active might lead to unexpected results.\n",
      "  warnings.warn(\n"
     ]
    },
    {
     "name": "stdout",
     "output_type": "stream",
     "text": [
      "Application - AMT_ANNUITY négatif: 0\n"
     ]
    },
    {
     "name": "stderr",
     "output_type": "stream",
     "text": [
      "c:\\Users\\jason\\anaconda3\\Lib\\site-packages\\dask\\base.py:1366: UserWarning: Running on a single-machine scheduler when a distributed client is active might lead to unexpected results.\n",
      "  warnings.warn(\n"
     ]
    },
    {
     "name": "stdout",
     "output_type": "stream",
     "text": [
      "Application - CNT_CHILDREN négatif: 0\n"
     ]
    },
    {
     "name": "stderr",
     "output_type": "stream",
     "text": [
      "c:\\Users\\jason\\anaconda3\\Lib\\site-packages\\dask\\base.py:1366: UserWarning: Running on a single-machine scheduler when a distributed client is active might lead to unexpected results.\n",
      "  warnings.warn(\n"
     ]
    },
    {
     "name": "stdout",
     "output_type": "stream",
     "text": [
      "Bureau - AMT_CREDIT_SUM négatif: 0\n"
     ]
    },
    {
     "name": "stderr",
     "output_type": "stream",
     "text": [
      "c:\\Users\\jason\\anaconda3\\Lib\\site-packages\\dask\\base.py:1366: UserWarning: Running on a single-machine scheduler when a distributed client is active might lead to unexpected results.\n",
      "  warnings.warn(\n"
     ]
    },
    {
     "name": "stdout",
     "output_type": "stream",
     "text": [
      "Bureau - DAYS_CREDIT négatif: 1716403\n"
     ]
    },
    {
     "name": "stderr",
     "output_type": "stream",
     "text": [
      "c:\\Users\\jason\\anaconda3\\Lib\\site-packages\\dask\\base.py:1366: UserWarning: Running on a single-machine scheduler when a distributed client is active might lead to unexpected results.\n",
      "  warnings.warn(\n"
     ]
    },
    {
     "name": "stdout",
     "output_type": "stream",
     "text": [
      "Bureau Balance - STATUS invalide: 0\n"
     ]
    },
    {
     "name": "stderr",
     "output_type": "stream",
     "text": [
      "c:\\Users\\jason\\anaconda3\\Lib\\site-packages\\dask\\base.py:1366: UserWarning: Running on a single-machine scheduler when a distributed client is active might lead to unexpected results.\n",
      "  warnings.warn(\n"
     ]
    },
    {
     "name": "stdout",
     "output_type": "stream",
     "text": [
      "Previous Application - AMT_ANNUITY négatif: 0\n"
     ]
    },
    {
     "name": "stderr",
     "output_type": "stream",
     "text": [
      "c:\\Users\\jason\\anaconda3\\Lib\\site-packages\\dask\\base.py:1366: UserWarning: Running on a single-machine scheduler when a distributed client is active might lead to unexpected results.\n",
      "  warnings.warn(\n"
     ]
    },
    {
     "name": "stdout",
     "output_type": "stream",
     "text": [
      "Previous Application - AMT_APPLICATION négatif: 0\n"
     ]
    },
    {
     "name": "stderr",
     "output_type": "stream",
     "text": [
      "c:\\Users\\jason\\anaconda3\\Lib\\site-packages\\dask\\base.py:1366: UserWarning: Running on a single-machine scheduler when a distributed client is active might lead to unexpected results.\n",
      "  warnings.warn(\n"
     ]
    },
    {
     "name": "stdout",
     "output_type": "stream",
     "text": [
      "Previous Application - AMT_CREDIT négatif: 0\n"
     ]
    },
    {
     "name": "stderr",
     "output_type": "stream",
     "text": [
      "c:\\Users\\jason\\anaconda3\\Lib\\site-packages\\dask\\base.py:1366: UserWarning: Running on a single-machine scheduler when a distributed client is active might lead to unexpected results.\n",
      "  warnings.warn(\n"
     ]
    },
    {
     "name": "stdout",
     "output_type": "stream",
     "text": [
      "Credit Card - AMT_BALANCE négatif: 0\n"
     ]
    },
    {
     "name": "stderr",
     "output_type": "stream",
     "text": [
      "c:\\Users\\jason\\anaconda3\\Lib\\site-packages\\dask\\base.py:1366: UserWarning: Running on a single-machine scheduler when a distributed client is active might lead to unexpected results.\n",
      "  warnings.warn(\n"
     ]
    },
    {
     "name": "stdout",
     "output_type": "stream",
     "text": [
      "Credit Card - AMT_CREDIT_LIMIT_ACTUAL négatif: 0\n"
     ]
    },
    {
     "name": "stderr",
     "output_type": "stream",
     "text": [
      "c:\\Users\\jason\\anaconda3\\Lib\\site-packages\\dask\\base.py:1366: UserWarning: Running on a single-machine scheduler when a distributed client is active might lead to unexpected results.\n",
      "  warnings.warn(\n"
     ]
    },
    {
     "name": "stdout",
     "output_type": "stream",
     "text": [
      "POS Cash - CNT_INSTALMENT négatif: 0\n"
     ]
    },
    {
     "name": "stderr",
     "output_type": "stream",
     "text": [
      "c:\\Users\\jason\\anaconda3\\Lib\\site-packages\\dask\\base.py:1366: UserWarning: Running on a single-machine scheduler when a distributed client is active might lead to unexpected results.\n",
      "  warnings.warn(\n"
     ]
    },
    {
     "name": "stdout",
     "output_type": "stream",
     "text": [
      "POS Cash - CNT_INSTALMENT_FUTURE négatif: 0\n"
     ]
    },
    {
     "name": "stderr",
     "output_type": "stream",
     "text": [
      "c:\\Users\\jason\\anaconda3\\Lib\\site-packages\\dask\\base.py:1366: UserWarning: Running on a single-machine scheduler when a distributed client is active might lead to unexpected results.\n",
      "  warnings.warn(\n"
     ]
    },
    {
     "name": "stdout",
     "output_type": "stream",
     "text": [
      "Installments Payments - AMT_INSTALMENT négatif: 0\n"
     ]
    },
    {
     "name": "stderr",
     "output_type": "stream",
     "text": [
      "c:\\Users\\jason\\anaconda3\\Lib\\site-packages\\dask\\base.py:1366: UserWarning: Running on a single-machine scheduler when a distributed client is active might lead to unexpected results.\n",
      "  warnings.warn(\n"
     ]
    },
    {
     "name": "stdout",
     "output_type": "stream",
     "text": [
      "Installments Payments - AMT_PAYMENT négatif: 0\n",
      "\n",
      "Dates incohérentes par fichier :\n"
     ]
    },
    {
     "name": "stderr",
     "output_type": "stream",
     "text": [
      "c:\\Users\\jason\\anaconda3\\Lib\\site-packages\\dask\\base.py:1366: UserWarning: Running on a single-machine scheduler when a distributed client is active might lead to unexpected results.\n",
      "  warnings.warn(\n"
     ]
    },
    {
     "name": "stdout",
     "output_type": "stream",
     "text": [
      "Bureau - DAYS_CREDIT_ENDDATE avant DAYS_CREDIT : 33508\n"
     ]
    },
    {
     "name": "stderr",
     "output_type": "stream",
     "text": [
      "c:\\Users\\jason\\anaconda3\\Lib\\site-packages\\dask\\base.py:1366: UserWarning: Running on a single-machine scheduler when a distributed client is active might lead to unexpected results.\n",
      "  warnings.warn(\n"
     ]
    },
    {
     "name": "stdout",
     "output_type": "stream",
     "text": [
      "Previous Application - AMT_APPLICATION supérieur à AMT_CREDIT : 360549\n"
     ]
    }
   ],
   "source": [
    "# Recherche des valeurs négatives\n",
    "print(\"Valeurs négatives par fichier :\")\n",
    "\n",
    "# Application\n",
    "print(\"Application - AMT_INCOME_TOTAL négatif:\", (df_application['AMT_INCOME_TOTAL'] < 0).sum().compute())\n",
    "print(\"Application - AMT_CREDIT négatif:\", (df_application['AMT_CREDIT'] < 0).sum().compute())\n",
    "print(\"Application - AMT_ANNUITY négatif:\", (df_application['AMT_ANNUITY'] < 0).sum().compute())\n",
    "print(\"Application - CNT_CHILDREN négatif:\", (df_application['CNT_CHILDREN'] < 0).sum().compute())\n",
    "\n",
    "# Bureau\n",
    "print(\"Bureau - AMT_CREDIT_SUM négatif:\", (df_bureau['AMT_CREDIT_SUM'] < 0).sum().compute())\n",
    "print(\"Bureau - DAYS_CREDIT négatif:\", (df_bureau['DAYS_CREDIT'] < 0).sum().compute())\n",
    "\n",
    "# Bureau Balance (exemple si vous avez une date de début et de fin)\n",
    "print(\"Bureau Balance - STATUS invalide:\", (~df_bureau_balance['STATUS'].isin(['0', '1', '2', '3', '4', '5', 'C', 'X'])).sum().compute())\n",
    "\n",
    "# Previous Application\n",
    "print(\"Previous Application - AMT_ANNUITY négatif:\", (df_prev_app['AMT_ANNUITY'] < 0).sum().compute())\n",
    "print(\"Previous Application - AMT_APPLICATION négatif:\", (df_prev_app['AMT_APPLICATION'] < 0).sum().compute())\n",
    "print(\"Previous Application - AMT_CREDIT négatif:\", (df_prev_app['AMT_CREDIT'] < 0).sum().compute())\n",
    "\n",
    "# Credit Card\n",
    "print(\"Credit Card - AMT_BALANCE négatif:\", (df_credit_card['AMT_BALANCE'] < 0).sum().compute())\n",
    "print(\"Credit Card - AMT_CREDIT_LIMIT_ACTUAL négatif:\", (df_credit_card['AMT_CREDIT_LIMIT_ACTUAL'] < 0).sum().compute())\n",
    "\n",
    "# POS Cash\n",
    "print(\"POS Cash - CNT_INSTALMENT négatif:\", (df_pos_cash['CNT_INSTALMENT'] < 0).sum().compute())\n",
    "print(\"POS Cash - CNT_INSTALMENT_FUTURE négatif:\", (df_pos_cash['CNT_INSTALMENT_FUTURE'] < 0).sum().compute())\n",
    "\n",
    "# Installments Payments\n",
    "print(\"Installments Payments - AMT_INSTALMENT négatif:\", (df_installments_payments['AMT_INSTALMENT'] < 0).sum().compute())\n",
    "print(\"Installments Payments - AMT_PAYMENT négatif:\", (df_installments_payments['AMT_PAYMENT'] < 0).sum().compute())\n",
    "\n",
    "# Recherche des dates incohérentes (exemple)\n",
    "print(\"\\nDates incohérentes par fichier :\")\n",
    "\n",
    "# Vérifier si une date de fin est avant une date de début\n",
    "print(\"Bureau - DAYS_CREDIT_ENDDATE avant DAYS_CREDIT :\", \n",
    "      (df_bureau['DAYS_CREDIT_ENDDATE'] < df_bureau['DAYS_CREDIT']).sum().compute())\n",
    "\n",
    "# Vérifier les montants incohérents dans Previous Application\n",
    "print(\"Previous Application - AMT_APPLICATION supérieur à AMT_CREDIT :\", \n",
    "      (df_prev_app['AMT_APPLICATION'] > df_prev_app['AMT_CREDIT']).sum().compute())\n"
   ]
  },
  {
   "cell_type": "code",
   "execution_count": 108,
   "metadata": {},
   "outputs": [
    {
     "name": "stderr",
     "output_type": "stream",
     "text": [
      "c:\\Users\\jason\\anaconda3\\Lib\\site-packages\\dask\\base.py:1366: UserWarning: Running on a single-machine scheduler when a distributed client is active might lead to unexpected results.\n",
      "  warnings.warn(\n",
      "c:\\Users\\jason\\anaconda3\\Lib\\site-packages\\dask\\base.py:1366: UserWarning: Running on a single-machine scheduler when a distributed client is active might lead to unexpected results.\n",
      "  warnings.warn(\n"
     ]
    },
    {
     "name": "stdout",
     "output_type": "stream",
     "text": [
      "Corrections appliquées.\n"
     ]
    }
   ],
   "source": [
    "# Correction des incohérences\n",
    "\n",
    "# Bureau: Corriger DAYS_CREDIT_ENDDATE avant DAYS_CREDIT\n",
    "df_bureau['DAYS_CREDIT_ENDDATE'] = df_bureau['DAYS_CREDIT_ENDDATE'].where(\n",
    "    df_bureau['DAYS_CREDIT_ENDDATE'] >= df_bureau['DAYS_CREDIT'], \n",
    "    np.nan\n",
    ")\n",
    "\n",
    "# Previous Application: Corriger AMT_APPLICATION > AMT_CREDIT\n",
    "df_prev_app['AMT_APPLICATION'] = df_prev_app['AMT_APPLICATION'].where(\n",
    "    df_prev_app['AMT_APPLICATION'] <= df_prev_app['AMT_CREDIT'], \n",
    "    df_prev_app['AMT_CREDIT']\n",
    ")\n",
    "\n",
    "# Recalculer les valeurs après correction\n",
    "df_bureau.compute()\n",
    "df_prev_app.compute()\n",
    "\n",
    "print(\"Corrections appliquées.\")\n"
   ]
  },
  {
   "cell_type": "code",
   "execution_count": 109,
   "metadata": {},
   "outputs": [
    {
     "name": "stdout",
     "output_type": "stream",
     "text": [
      "Valeurs négatives par fichier :\n"
     ]
    },
    {
     "name": "stderr",
     "output_type": "stream",
     "text": [
      "c:\\Users\\jason\\anaconda3\\Lib\\site-packages\\dask\\base.py:1366: UserWarning: Running on a single-machine scheduler when a distributed client is active might lead to unexpected results.\n",
      "  warnings.warn(\n"
     ]
    },
    {
     "name": "stdout",
     "output_type": "stream",
     "text": [
      "Application - AMT_INCOME_TOTAL négatif: 0\n",
      "Application - AMT_CREDIT négatif: 0\n"
     ]
    },
    {
     "name": "stderr",
     "output_type": "stream",
     "text": [
      "c:\\Users\\jason\\anaconda3\\Lib\\site-packages\\dask\\base.py:1366: UserWarning: Running on a single-machine scheduler when a distributed client is active might lead to unexpected results.\n",
      "  warnings.warn(\n",
      "c:\\Users\\jason\\anaconda3\\Lib\\site-packages\\dask\\base.py:1366: UserWarning: Running on a single-machine scheduler when a distributed client is active might lead to unexpected results.\n",
      "  warnings.warn(\n"
     ]
    },
    {
     "name": "stdout",
     "output_type": "stream",
     "text": [
      "Application - AMT_ANNUITY négatif: 0\n",
      "Application - CNT_CHILDREN négatif: 0\n"
     ]
    },
    {
     "name": "stderr",
     "output_type": "stream",
     "text": [
      "c:\\Users\\jason\\anaconda3\\Lib\\site-packages\\dask\\base.py:1366: UserWarning: Running on a single-machine scheduler when a distributed client is active might lead to unexpected results.\n",
      "  warnings.warn(\n",
      "c:\\Users\\jason\\anaconda3\\Lib\\site-packages\\dask\\base.py:1366: UserWarning: Running on a single-machine scheduler when a distributed client is active might lead to unexpected results.\n",
      "  warnings.warn(\n"
     ]
    },
    {
     "name": "stdout",
     "output_type": "stream",
     "text": [
      "Bureau - AMT_CREDIT_SUM négatif: 0\n"
     ]
    },
    {
     "name": "stderr",
     "output_type": "stream",
     "text": [
      "c:\\Users\\jason\\anaconda3\\Lib\\site-packages\\dask\\base.py:1366: UserWarning: Running on a single-machine scheduler when a distributed client is active might lead to unexpected results.\n",
      "  warnings.warn(\n"
     ]
    },
    {
     "name": "stdout",
     "output_type": "stream",
     "text": [
      "Bureau - DAYS_CREDIT négatif: 1716403\n"
     ]
    },
    {
     "name": "stderr",
     "output_type": "stream",
     "text": [
      "c:\\Users\\jason\\anaconda3\\Lib\\site-packages\\dask\\base.py:1366: UserWarning: Running on a single-machine scheduler when a distributed client is active might lead to unexpected results.\n",
      "  warnings.warn(\n"
     ]
    },
    {
     "name": "stdout",
     "output_type": "stream",
     "text": [
      "Bureau Balance - STATUS invalide: 0\n"
     ]
    },
    {
     "name": "stderr",
     "output_type": "stream",
     "text": [
      "c:\\Users\\jason\\anaconda3\\Lib\\site-packages\\dask\\base.py:1366: UserWarning: Running on a single-machine scheduler when a distributed client is active might lead to unexpected results.\n",
      "  warnings.warn(\n"
     ]
    },
    {
     "name": "stdout",
     "output_type": "stream",
     "text": [
      "Previous Application - AMT_ANNUITY négatif: 0\n"
     ]
    },
    {
     "name": "stderr",
     "output_type": "stream",
     "text": [
      "c:\\Users\\jason\\anaconda3\\Lib\\site-packages\\dask\\base.py:1366: UserWarning: Running on a single-machine scheduler when a distributed client is active might lead to unexpected results.\n",
      "  warnings.warn(\n"
     ]
    },
    {
     "name": "stdout",
     "output_type": "stream",
     "text": [
      "Previous Application - AMT_APPLICATION négatif: 0\n"
     ]
    },
    {
     "name": "stderr",
     "output_type": "stream",
     "text": [
      "c:\\Users\\jason\\anaconda3\\Lib\\site-packages\\dask\\base.py:1366: UserWarning: Running on a single-machine scheduler when a distributed client is active might lead to unexpected results.\n",
      "  warnings.warn(\n"
     ]
    },
    {
     "name": "stdout",
     "output_type": "stream",
     "text": [
      "Previous Application - AMT_CREDIT négatif: 0\n"
     ]
    },
    {
     "name": "stderr",
     "output_type": "stream",
     "text": [
      "c:\\Users\\jason\\anaconda3\\Lib\\site-packages\\dask\\base.py:1366: UserWarning: Running on a single-machine scheduler when a distributed client is active might lead to unexpected results.\n",
      "  warnings.warn(\n"
     ]
    },
    {
     "name": "stdout",
     "output_type": "stream",
     "text": [
      "Credit Card - AMT_BALANCE négatif: 0\n"
     ]
    },
    {
     "name": "stderr",
     "output_type": "stream",
     "text": [
      "c:\\Users\\jason\\anaconda3\\Lib\\site-packages\\dask\\base.py:1366: UserWarning: Running on a single-machine scheduler when a distributed client is active might lead to unexpected results.\n",
      "  warnings.warn(\n"
     ]
    },
    {
     "name": "stdout",
     "output_type": "stream",
     "text": [
      "Credit Card - AMT_CREDIT_LIMIT_ACTUAL négatif: 0\n"
     ]
    },
    {
     "name": "stderr",
     "output_type": "stream",
     "text": [
      "c:\\Users\\jason\\anaconda3\\Lib\\site-packages\\dask\\base.py:1366: UserWarning: Running on a single-machine scheduler when a distributed client is active might lead to unexpected results.\n",
      "  warnings.warn(\n"
     ]
    },
    {
     "name": "stdout",
     "output_type": "stream",
     "text": [
      "POS Cash - CNT_INSTALMENT négatif: 0\n"
     ]
    },
    {
     "name": "stderr",
     "output_type": "stream",
     "text": [
      "c:\\Users\\jason\\anaconda3\\Lib\\site-packages\\dask\\base.py:1366: UserWarning: Running on a single-machine scheduler when a distributed client is active might lead to unexpected results.\n",
      "  warnings.warn(\n"
     ]
    },
    {
     "name": "stdout",
     "output_type": "stream",
     "text": [
      "POS Cash - CNT_INSTALMENT_FUTURE négatif: 0\n"
     ]
    },
    {
     "name": "stderr",
     "output_type": "stream",
     "text": [
      "c:\\Users\\jason\\anaconda3\\Lib\\site-packages\\dask\\base.py:1366: UserWarning: Running on a single-machine scheduler when a distributed client is active might lead to unexpected results.\n",
      "  warnings.warn(\n"
     ]
    },
    {
     "name": "stdout",
     "output_type": "stream",
     "text": [
      "Installments Payments - AMT_INSTALMENT négatif: 0\n"
     ]
    },
    {
     "name": "stderr",
     "output_type": "stream",
     "text": [
      "c:\\Users\\jason\\anaconda3\\Lib\\site-packages\\dask\\base.py:1366: UserWarning: Running on a single-machine scheduler when a distributed client is active might lead to unexpected results.\n",
      "  warnings.warn(\n"
     ]
    },
    {
     "name": "stdout",
     "output_type": "stream",
     "text": [
      "Installments Payments - AMT_PAYMENT négatif: 0\n",
      "\n",
      "Dates incohérentes par fichier :\n"
     ]
    },
    {
     "name": "stderr",
     "output_type": "stream",
     "text": [
      "c:\\Users\\jason\\anaconda3\\Lib\\site-packages\\dask\\base.py:1366: UserWarning: Running on a single-machine scheduler when a distributed client is active might lead to unexpected results.\n",
      "  warnings.warn(\n"
     ]
    },
    {
     "name": "stdout",
     "output_type": "stream",
     "text": [
      "Bureau - DAYS_CREDIT_ENDDATE avant DAYS_CREDIT : 0\n"
     ]
    },
    {
     "name": "stderr",
     "output_type": "stream",
     "text": [
      "c:\\Users\\jason\\anaconda3\\Lib\\site-packages\\dask\\base.py:1366: UserWarning: Running on a single-machine scheduler when a distributed client is active might lead to unexpected results.\n",
      "  warnings.warn(\n"
     ]
    },
    {
     "name": "stdout",
     "output_type": "stream",
     "text": [
      "Previous Application - AMT_APPLICATION supérieur à AMT_CREDIT : 0\n"
     ]
    }
   ],
   "source": [
    "# Recherche des valeurs négatives\n",
    "print(\"Valeurs négatives par fichier :\")\n",
    "\n",
    "# Application\n",
    "print(\"Application - AMT_INCOME_TOTAL négatif:\", (df_application['AMT_INCOME_TOTAL'] < 0).sum().compute())\n",
    "print(\"Application - AMT_CREDIT négatif:\", (df_application['AMT_CREDIT'] < 0).sum().compute())\n",
    "print(\"Application - AMT_ANNUITY négatif:\", (df_application['AMT_ANNUITY'] < 0).sum().compute())\n",
    "print(\"Application - CNT_CHILDREN négatif:\", (df_application['CNT_CHILDREN'] < 0).sum().compute())\n",
    "\n",
    "# Bureau\n",
    "print(\"Bureau - AMT_CREDIT_SUM négatif:\", (df_bureau['AMT_CREDIT_SUM'] < 0).sum().compute())\n",
    "print(\"Bureau - DAYS_CREDIT négatif:\", (df_bureau['DAYS_CREDIT'] < 0).sum().compute())\n",
    "\n",
    "# Bureau Balance (exemple si vous avez une date de début et de fin)\n",
    "print(\"Bureau Balance - STATUS invalide:\", (~df_bureau_balance['STATUS'].isin(['0', '1', '2', '3', '4', '5', 'C', 'X'])).sum().compute())\n",
    "\n",
    "# Previous Application\n",
    "print(\"Previous Application - AMT_ANNUITY négatif:\", (df_prev_app['AMT_ANNUITY'] < 0).sum().compute())\n",
    "print(\"Previous Application - AMT_APPLICATION négatif:\", (df_prev_app['AMT_APPLICATION'] < 0).sum().compute())\n",
    "print(\"Previous Application - AMT_CREDIT négatif:\", (df_prev_app['AMT_CREDIT'] < 0).sum().compute())\n",
    "\n",
    "# Credit Card\n",
    "print(\"Credit Card - AMT_BALANCE négatif:\", (df_credit_card['AMT_BALANCE'] < 0).sum().compute())\n",
    "print(\"Credit Card - AMT_CREDIT_LIMIT_ACTUAL négatif:\", (df_credit_card['AMT_CREDIT_LIMIT_ACTUAL'] < 0).sum().compute())\n",
    "\n",
    "# POS Cash\n",
    "print(\"POS Cash - CNT_INSTALMENT négatif:\", (df_pos_cash['CNT_INSTALMENT'] < 0).sum().compute())\n",
    "print(\"POS Cash - CNT_INSTALMENT_FUTURE négatif:\", (df_pos_cash['CNT_INSTALMENT_FUTURE'] < 0).sum().compute())\n",
    "\n",
    "# Installments Payments\n",
    "print(\"Installments Payments - AMT_INSTALMENT négatif:\", (df_installments_payments['AMT_INSTALMENT'] < 0).sum().compute())\n",
    "print(\"Installments Payments - AMT_PAYMENT négatif:\", (df_installments_payments['AMT_PAYMENT'] < 0).sum().compute())\n",
    "\n",
    "# Recherche des dates incohérentes (exemple)\n",
    "print(\"\\nDates incohérentes par fichier :\")\n",
    "\n",
    "# Vérifier si une date de fin est avant une date de début\n",
    "print(\"Bureau - DAYS_CREDIT_ENDDATE avant DAYS_CREDIT :\", \n",
    "      (df_bureau['DAYS_CREDIT_ENDDATE'] < df_bureau['DAYS_CREDIT']).sum().compute())\n",
    "\n",
    "# Vérifier les montants incohérents dans Previous Application\n",
    "print(\"Previous Application - AMT_APPLICATION supérieur à AMT_CREDIT :\", \n",
    "      (df_prev_app['AMT_APPLICATION'] > df_prev_app['AMT_CREDIT']).sum().compute())\n"
   ]
  },
  {
   "cell_type": "code",
   "execution_count": 111,
   "metadata": {},
   "outputs": [
    {
     "name": "stderr",
     "output_type": "stream",
     "text": [
      "c:\\Users\\jason\\anaconda3\\Lib\\site-packages\\dask\\base.py:1366: UserWarning: Running on a single-machine scheduler when a distributed client is active might lead to unexpected results.\n",
      "  warnings.warn(\n",
      "c:\\Users\\jason\\anaconda3\\Lib\\site-packages\\dask\\base.py:1366: UserWarning: Running on a single-machine scheduler when a distributed client is active might lead to unexpected results.\n",
      "  warnings.warn(\n"
     ]
    },
    {
     "name": "stdout",
     "output_type": "stream",
     "text": [
      "Les fichiers corrigés ont été sauvegardés dans le nouveau dossier.\n"
     ]
    }
   ],
   "source": [
    "# Définir les nouveaux chemins de sauvegarde\n",
    "nouveau_chemin_bureau = r'C:\\Users\\jason\\Desktop\\Cours MS2D\\bureau_clean.csv'\n",
    "nouveau_chemin_prev_app = r'C:\\Users\\jason\\Desktop\\Cours MS2D\\previous_application_clean.csv'\n",
    "\n",
    "# Sauvegarder les fichiers dans le nouvel emplacement\n",
    "df_bureau.to_csv(nouveau_chemin_bureau, index=False, single_file=True)\n",
    "df_prev_app.to_csv(nouveau_chemin_prev_app, index=False, single_file=True)\n",
    "\n",
    "print(\"Les fichiers corrigés ont été sauvegardés dans le nouveau dossier.\")"
   ]
  },
  {
   "cell_type": "code",
   "execution_count": 112,
   "metadata": {},
   "outputs": [
    {
     "name": "stderr",
     "output_type": "stream",
     "text": [
      "c:\\Users\\jason\\anaconda3\\Lib\\site-packages\\dask\\base.py:1366: UserWarning: Running on a single-machine scheduler when a distributed client is active might lead to unexpected results.\n",
      "  warnings.warn(\n",
      "c:\\Users\\jason\\anaconda3\\Lib\\site-packages\\dask\\base.py:1366: UserWarning: Running on a single-machine scheduler when a distributed client is active might lead to unexpected results.\n",
      "  warnings.warn(\n",
      "c:\\Users\\jason\\anaconda3\\Lib\\site-packages\\dask\\base.py:1366: UserWarning: Running on a single-machine scheduler when a distributed client is active might lead to unexpected results.\n",
      "  warnings.warn(\n",
      "c:\\Users\\jason\\anaconda3\\Lib\\site-packages\\dask\\base.py:1366: UserWarning: Running on a single-machine scheduler when a distributed client is active might lead to unexpected results.\n",
      "  warnings.warn(\n",
      "c:\\Users\\jason\\anaconda3\\Lib\\site-packages\\dask\\base.py:1366: UserWarning: Running on a single-machine scheduler when a distributed client is active might lead to unexpected results.\n",
      "  warnings.warn(\n",
      "c:\\Users\\jason\\anaconda3\\Lib\\site-packages\\dask\\base.py:1366: UserWarning: Running on a single-machine scheduler when a distributed client is active might lead to unexpected results.\n",
      "  warnings.warn(\n"
     ]
    }
   ],
   "source": [
    "# Bureau : Agréger les crédits par client\n",
    "bureau_features = df_bureau.groupby('SK_ID_CURR').agg({\n",
    "    'AMT_CREDIT_SUM': ['mean', 'sum', 'max'],\n",
    "    'DAYS_CREDIT': ['mean', 'min']\n",
    "}).reset_index().compute()\n",
    "\n",
    "# Bureau Balance : Compter le nombre de mois et les crédits fermés ('C')\n",
    "df_bureau_balance['STATUS_C'] = (df_bureau_balance['STATUS'] == 'C').astype(int)\n",
    "bureau_balance_features = df_bureau_balance.groupby('SK_ID_BUREAU').agg({\n",
    "    'MONTHS_BALANCE': 'count',\n",
    "    'STATUS_C': 'sum'\n",
    "}).reset_index().compute()\n",
    "\n",
    "# Previous Application : Calculer les moyennes et sommes\n",
    "prev_app_features = df_prev_app.groupby('SK_ID_CURR').agg({\n",
    "    'AMT_ANNUITY': ['mean', 'sum'],\n",
    "    'AMT_APPLICATION': ['mean', 'sum']\n",
    "}).reset_index().compute()\n",
    "\n",
    "# Credit Card Balance : Agréger par client\n",
    "credit_card_features = df_credit_card.groupby('SK_ID_CURR').agg({\n",
    "    'AMT_BALANCE': ['mean', 'max'],\n",
    "    'AMT_CREDIT_LIMIT_ACTUAL': 'mean'\n",
    "}).reset_index().compute()\n",
    "\n",
    "# POS CASH Balance : Agréger les informations\n",
    "pos_cash_features = df_pos_cash.groupby('SK_ID_CURR').agg({\n",
    "    'CNT_INSTALMENT': 'sum',\n",
    "    'CNT_INSTALMENT_FUTURE': 'mean'\n",
    "}).reset_index().compute()\n",
    "\n",
    "# Installments Payments : Agréger les informations\n",
    "installments_features = df_installments_payments.groupby('SK_ID_CURR').agg({\n",
    "    'AMT_INSTALMENT': ['mean', 'sum'],\n",
    "    'AMT_PAYMENT': ['mean', 'sum']\n",
    "}).reset_index().compute()\n"
   ]
  },
  {
   "cell_type": "code",
   "execution_count": 115,
   "metadata": {},
   "outputs": [
    {
     "name": "stdout",
     "output_type": "stream",
     "text": [
      "Colonnes dans bureau_features: Index(['SK_ID_CURR_', 'AMT_CREDIT_SUM_mean', 'AMT_CREDIT_SUM_sum',\n",
      "       'AMT_CREDIT_SUM_max', 'DAYS_CREDIT_mean', 'DAYS_CREDIT_min'],\n",
      "      dtype='object')\n",
      "Colonnes dans bureau_balance_features: Index(['SK_ID_BUREAU', 'MONTHS_BALANCE', 'STATUS_C'], dtype='object')\n",
      "Colonnes dans prev_app_features: Index(['SK_ID_CURR_', 'AMT_ANNUITY_mean', 'AMT_ANNUITY_sum',\n",
      "       'AMT_APPLICATION_mean', 'AMT_APPLICATION_sum'],\n",
      "      dtype='object')\n",
      "Colonnes dans credit_card_features: Index(['SK_ID_CURR_', 'AMT_BALANCE_mean', 'AMT_BALANCE_max',\n",
      "       'AMT_CREDIT_LIMIT_ACTUAL_mean'],\n",
      "      dtype='object')\n",
      "Colonnes dans pos_cash_features: Index(['SK_ID_CURR', 'CNT_INSTALMENT', 'CNT_INSTALMENT_FUTURE'], dtype='object')\n",
      "Colonnes dans installments_features: Index(['SK_ID_CURR_', 'AMT_INSTALMENT_mean', 'AMT_INSTALMENT_sum',\n",
      "       'AMT_PAYMENT_mean', 'AMT_PAYMENT_sum'],\n",
      "      dtype='object')\n"
     ]
    }
   ],
   "source": [
    "# Vérifier les colonnes de chaque DataFrame\n",
    "print(\"Colonnes dans bureau_features:\", bureau_features.columns)\n",
    "print(\"Colonnes dans bureau_balance_features:\", bureau_balance_features.columns)\n",
    "print(\"Colonnes dans prev_app_features:\", prev_app_features.columns)\n",
    "print(\"Colonnes dans credit_card_features:\", credit_card_features.columns)\n",
    "print(\"Colonnes dans pos_cash_features:\", pos_cash_features.columns)\n",
    "print(\"Colonnes dans installments_features:\", installments_features.columns)"
   ]
  },
  {
   "cell_type": "code",
   "execution_count": 116,
   "metadata": {},
   "outputs": [
    {
     "name": "stdout",
     "output_type": "stream",
     "text": [
      "Colonnes dans bureau_features après correction: Index(['SK_ID_CURR', 'AMT_CREDIT_SUM_mean', 'AMT_CREDIT_SUM_sum',\n",
      "       'AMT_CREDIT_SUM_max', 'DAYS_CREDIT_mean', 'DAYS_CREDIT_min'],\n",
      "      dtype='object')\n",
      "Colonnes dans bureau_balance_features après correction: Index(['SK_ID_BUREAU', 'MONTHS_BALANCE', 'STATUS_C'], dtype='object')\n",
      "Colonnes dans prev_app_features après correction: Index(['SK_ID_CURR', 'AMT_ANNUITY_mean', 'AMT_ANNUITY_sum',\n",
      "       'AMT_APPLICATION_mean', 'AMT_APPLICATION_sum'],\n",
      "      dtype='object')\n",
      "Colonnes dans credit_card_features après correction: Index(['SK_ID_CURR', 'AMT_BALANCE_mean', 'AMT_BALANCE_max',\n",
      "       'AMT_CREDIT_LIMIT_ACTUAL_mean'],\n",
      "      dtype='object')\n",
      "Colonnes dans pos_cash_features après correction: Index(['SK_ID_CURR', 'CNT_INSTALMENT', 'CNT_INSTALMENT_FUTURE'], dtype='object')\n",
      "Colonnes dans installments_features après correction: Index(['SK_ID_CURR', 'AMT_INSTALMENT_mean', 'AMT_INSTALMENT_sum',\n",
      "       'AMT_PAYMENT_mean', 'AMT_PAYMENT_sum'],\n",
      "      dtype='object')\n"
     ]
    }
   ],
   "source": [
    "# Renommer les colonnes 'SK_ID_CURR_' en 'SK_ID_CURR'\n",
    "bureau_features.rename(columns={'SK_ID_CURR_': 'SK_ID_CURR'}, inplace=True)\n",
    "prev_app_features.rename(columns={'SK_ID_CURR_': 'SK_ID_CURR'}, inplace=True)\n",
    "credit_card_features.rename(columns={'SK_ID_CURR_': 'SK_ID_CURR'}, inplace=True)\n",
    "installments_features.rename(columns={'SK_ID_CURR_': 'SK_ID_CURR'}, inplace=True)\n",
    "\n",
    "# Maintenant, vérifier à nouveau les colonnes\n",
    "print(\"Colonnes dans bureau_features après correction:\", bureau_features.columns)\n",
    "print(\"Colonnes dans bureau_balance_features après correction:\", bureau_balance_features.columns)\n",
    "print(\"Colonnes dans prev_app_features après correction:\", prev_app_features.columns)\n",
    "print(\"Colonnes dans credit_card_features après correction:\", credit_card_features.columns)\n",
    "print(\"Colonnes dans pos_cash_features après correction:\", pos_cash_features.columns)\n",
    "print(\"Colonnes dans installments_features après correction:\", installments_features.columns)"
   ]
  },
  {
   "cell_type": "code",
   "execution_count": 117,
   "metadata": {},
   "outputs": [
    {
     "ename": "KeyError",
     "evalue": "'SK_ID_BUREAU'",
     "output_type": "error",
     "traceback": [
      "\u001b[1;31m---------------------------------------------------------------------------\u001b[0m",
      "\u001b[1;31mKeyError\u001b[0m                                  Traceback (most recent call last)",
      "\u001b[1;32m~\\AppData\\Local\\Temp\\ipykernel_178448\\2165430953.py\u001b[0m in \u001b[0;36m?\u001b[1;34m()\u001b[0m\n\u001b[0;32m      1\u001b[0m \u001b[1;31m# Fusionner les caractéristiques agrégées avec le jeu de données principal\u001b[0m\u001b[1;33m\u001b[0m\u001b[1;33m\u001b[0m\u001b[0m\n\u001b[0;32m      2\u001b[0m \u001b[0mdf_merged\u001b[0m \u001b[1;33m=\u001b[0m \u001b[0mdf_application\u001b[0m\u001b[1;33m.\u001b[0m\u001b[0mmerge\u001b[0m\u001b[1;33m(\u001b[0m\u001b[0mbureau_features\u001b[0m\u001b[1;33m,\u001b[0m \u001b[0mon\u001b[0m\u001b[1;33m=\u001b[0m\u001b[1;34m'SK_ID_CURR'\u001b[0m\u001b[1;33m,\u001b[0m \u001b[0mhow\u001b[0m\u001b[1;33m=\u001b[0m\u001b[1;34m'left'\u001b[0m\u001b[1;33m)\u001b[0m\u001b[0;31m \u001b[0m\u001b[0;31m\\\u001b[0m\u001b[1;33m\u001b[0m\u001b[1;33m\u001b[0m\u001b[0m\n\u001b[1;32m----> 3\u001b[1;33m     \u001b[1;33m.\u001b[0m\u001b[0mmerge\u001b[0m\u001b[1;33m(\u001b[0m\u001b[0mbureau_balance_features\u001b[0m\u001b[1;33m,\u001b[0m \u001b[0mon\u001b[0m\u001b[1;33m=\u001b[0m\u001b[1;34m'SK_ID_BUREAU'\u001b[0m\u001b[1;33m,\u001b[0m \u001b[0mhow\u001b[0m\u001b[1;33m=\u001b[0m\u001b[1;34m'left'\u001b[0m\u001b[1;33m)\u001b[0m\u001b[0;31m \u001b[0m\u001b[0;31m\\\u001b[0m\u001b[1;33m\u001b[0m\u001b[1;33m\u001b[0m\u001b[0m\n\u001b[0m\u001b[0;32m      4\u001b[0m     \u001b[1;33m.\u001b[0m\u001b[0mmerge\u001b[0m\u001b[1;33m(\u001b[0m\u001b[0mprev_app_features\u001b[0m\u001b[1;33m,\u001b[0m \u001b[0mon\u001b[0m\u001b[1;33m=\u001b[0m\u001b[1;34m'SK_ID_CURR'\u001b[0m\u001b[1;33m,\u001b[0m \u001b[0mhow\u001b[0m\u001b[1;33m=\u001b[0m\u001b[1;34m'left'\u001b[0m\u001b[1;33m)\u001b[0m\u001b[0;31m \u001b[0m\u001b[0;31m\\\u001b[0m\u001b[1;33m\u001b[0m\u001b[1;33m\u001b[0m\u001b[0m\n\u001b[0;32m      5\u001b[0m     \u001b[1;33m.\u001b[0m\u001b[0mmerge\u001b[0m\u001b[1;33m(\u001b[0m\u001b[0mcredit_card_features\u001b[0m\u001b[1;33m,\u001b[0m \u001b[0mon\u001b[0m\u001b[1;33m=\u001b[0m\u001b[1;34m'SK_ID_CURR'\u001b[0m\u001b[1;33m,\u001b[0m \u001b[0mhow\u001b[0m\u001b[1;33m=\u001b[0m\u001b[1;34m'left'\u001b[0m\u001b[1;33m)\u001b[0m\u001b[0;31m \u001b[0m\u001b[0;31m\\\u001b[0m\u001b[1;33m\u001b[0m\u001b[1;33m\u001b[0m\u001b[0m\n\u001b[0;32m      6\u001b[0m     \u001b[1;33m.\u001b[0m\u001b[0mmerge\u001b[0m\u001b[1;33m(\u001b[0m\u001b[0mpos_cash_features\u001b[0m\u001b[1;33m,\u001b[0m \u001b[0mon\u001b[0m\u001b[1;33m=\u001b[0m\u001b[1;34m'SK_ID_CURR'\u001b[0m\u001b[1;33m,\u001b[0m \u001b[0mhow\u001b[0m\u001b[1;33m=\u001b[0m\u001b[1;34m'left'\u001b[0m\u001b[1;33m)\u001b[0m\u001b[0;31m \u001b[0m\u001b[0;31m\\\u001b[0m\u001b[1;33m\u001b[0m\u001b[1;33m\u001b[0m\u001b[0m\n",
      "\u001b[1;32mc:\\Users\\jason\\anaconda3\\Lib\\site-packages\\dask\\dataframe\\core.py\u001b[0m in \u001b[0;36m?\u001b[1;34m(self, right, how, on, left_on, right_on, left_index, right_index, suffixes, indicator, npartitions, shuffle, broadcast)\u001b[0m\n\u001b[0;32m   5711\u001b[0m             \u001b[1;32mraise\u001b[0m \u001b[0mValueError\u001b[0m\u001b[1;33m(\u001b[0m\u001b[1;34m\"right must be DataFrame\"\u001b[0m\u001b[1;33m)\u001b[0m\u001b[1;33m\u001b[0m\u001b[1;33m\u001b[0m\u001b[0m\n\u001b[0;32m   5712\u001b[0m \u001b[1;33m\u001b[0m\u001b[0m\n\u001b[0;32m   5713\u001b[0m         \u001b[1;32mfrom\u001b[0m \u001b[0mdask\u001b[0m\u001b[1;33m.\u001b[0m\u001b[0mdataframe\u001b[0m\u001b[1;33m.\u001b[0m\u001b[0mmulti\u001b[0m \u001b[1;32mimport\u001b[0m \u001b[0mmerge\u001b[0m\u001b[1;33m\u001b[0m\u001b[1;33m\u001b[0m\u001b[0m\n\u001b[0;32m   5714\u001b[0m \u001b[1;33m\u001b[0m\u001b[0m\n\u001b[1;32m-> 5715\u001b[1;33m         return merge(\n\u001b[0m\u001b[0;32m   5716\u001b[0m             \u001b[0mself\u001b[0m\u001b[1;33m,\u001b[0m\u001b[1;33m\u001b[0m\u001b[1;33m\u001b[0m\u001b[0m\n\u001b[0;32m   5717\u001b[0m             \u001b[0mright\u001b[0m\u001b[1;33m,\u001b[0m\u001b[1;33m\u001b[0m\u001b[1;33m\u001b[0m\u001b[0m\n\u001b[0;32m   5718\u001b[0m             \u001b[0mhow\u001b[0m\u001b[1;33m=\u001b[0m\u001b[0mhow\u001b[0m\u001b[1;33m,\u001b[0m\u001b[1;33m\u001b[0m\u001b[1;33m\u001b[0m\u001b[0m\n",
      "\u001b[1;32mc:\\Users\\jason\\anaconda3\\Lib\\site-packages\\dask\\dataframe\\multi.py\u001b[0m in \u001b[0;36m?\u001b[1;34m(left, right, how, on, left_on, right_on, left_index, right_index, suffixes, indicator, npartitions, shuffle, max_branch, broadcast)\u001b[0m\n\u001b[0;32m    607\u001b[0m         \u001b[1;32mand\u001b[0m \u001b[0mhow\u001b[0m \u001b[1;32min\u001b[0m \u001b[0mallowed_right\u001b[0m\u001b[1;33m\u001b[0m\u001b[1;33m\u001b[0m\u001b[0m\n\u001b[0;32m    608\u001b[0m         \u001b[1;32mor\u001b[0m \u001b[0mright\u001b[0m\u001b[1;33m.\u001b[0m\u001b[0mnpartitions\u001b[0m \u001b[1;33m==\u001b[0m \u001b[1;36m1\u001b[0m\u001b[1;33m\u001b[0m\u001b[1;33m\u001b[0m\u001b[0m\n\u001b[0;32m    609\u001b[0m         \u001b[1;32mand\u001b[0m \u001b[0mhow\u001b[0m \u001b[1;32min\u001b[0m \u001b[0mallowed_left\u001b[0m\u001b[1;33m\u001b[0m\u001b[1;33m\u001b[0m\u001b[0m\n\u001b[0;32m    610\u001b[0m     ):\n\u001b[1;32m--> 611\u001b[1;33m         return single_partition_join(\n\u001b[0m\u001b[0;32m    612\u001b[0m             \u001b[0mleft\u001b[0m\u001b[1;33m,\u001b[0m\u001b[1;33m\u001b[0m\u001b[1;33m\u001b[0m\u001b[0m\n\u001b[0;32m    613\u001b[0m             \u001b[0mright\u001b[0m\u001b[1;33m,\u001b[0m\u001b[1;33m\u001b[0m\u001b[1;33m\u001b[0m\u001b[0m\n\u001b[0;32m    614\u001b[0m             \u001b[0mhow\u001b[0m\u001b[1;33m=\u001b[0m\u001b[0mhow\u001b[0m\u001b[1;33m,\u001b[0m\u001b[1;33m\u001b[0m\u001b[1;33m\u001b[0m\u001b[0m\n",
      "\u001b[1;32mc:\\Users\\jason\\anaconda3\\Lib\\site-packages\\dask\\dataframe\\multi.py\u001b[0m in \u001b[0;36m?\u001b[1;34m(left, right, **kwargs)\u001b[0m\n\u001b[0;32m    423\u001b[0m \u001b[1;32mdef\u001b[0m \u001b[0msingle_partition_join\u001b[0m\u001b[1;33m(\u001b[0m\u001b[0mleft\u001b[0m\u001b[1;33m,\u001b[0m \u001b[0mright\u001b[0m\u001b[1;33m,\u001b[0m \u001b[1;33m**\u001b[0m\u001b[0mkwargs\u001b[0m\u001b[1;33m)\u001b[0m\u001b[1;33m:\u001b[0m\u001b[1;33m\u001b[0m\u001b[1;33m\u001b[0m\u001b[0m\n\u001b[0;32m    424\u001b[0m     \u001b[1;31m# if the merge is performed on_index, divisions can be kept, otherwise the\u001b[0m\u001b[1;33m\u001b[0m\u001b[1;33m\u001b[0m\u001b[0m\n\u001b[0;32m    425\u001b[0m     \u001b[1;31m# new index will not necessarily correspond with the current divisions\u001b[0m\u001b[1;33m\u001b[0m\u001b[1;33m\u001b[0m\u001b[0m\n\u001b[0;32m    426\u001b[0m \u001b[1;33m\u001b[0m\u001b[0m\n\u001b[1;32m--> 427\u001b[1;33m     \u001b[0mmeta\u001b[0m \u001b[1;33m=\u001b[0m \u001b[0mleft\u001b[0m\u001b[1;33m.\u001b[0m\u001b[0m_meta_nonempty\u001b[0m\u001b[1;33m.\u001b[0m\u001b[0mmerge\u001b[0m\u001b[1;33m(\u001b[0m\u001b[0mright\u001b[0m\u001b[1;33m.\u001b[0m\u001b[0m_meta_nonempty\u001b[0m\u001b[1;33m,\u001b[0m \u001b[1;33m**\u001b[0m\u001b[0mkwargs\u001b[0m\u001b[1;33m)\u001b[0m\u001b[1;33m\u001b[0m\u001b[1;33m\u001b[0m\u001b[0m\n\u001b[0m\u001b[0;32m    428\u001b[0m \u001b[1;33m\u001b[0m\u001b[0m\n\u001b[0;32m    429\u001b[0m     use_left = kwargs.get(\"right_index\") or right._contains_index_name(\n\u001b[0;32m    430\u001b[0m         \u001b[0mkwargs\u001b[0m\u001b[1;33m.\u001b[0m\u001b[0mget\u001b[0m\u001b[1;33m(\u001b[0m\u001b[1;34m\"right_on\"\u001b[0m\u001b[1;33m)\u001b[0m\u001b[1;33m\u001b[0m\u001b[1;33m\u001b[0m\u001b[0m\n",
      "\u001b[1;32m~\\AppData\\Roaming\\Python\\Python311\\site-packages\\pandas\\core\\frame.py\u001b[0m in \u001b[0;36m?\u001b[1;34m(self, right, how, on, left_on, right_on, left_index, right_index, sort, suffixes, copy, indicator, validate)\u001b[0m\n\u001b[0;32m  10486\u001b[0m         \u001b[0mvalidate\u001b[0m\u001b[1;33m:\u001b[0m \u001b[0mMergeValidate\u001b[0m \u001b[1;33m|\u001b[0m \u001b[1;32mNone\u001b[0m \u001b[1;33m=\u001b[0m \u001b[1;32mNone\u001b[0m\u001b[1;33m,\u001b[0m\u001b[1;33m\u001b[0m\u001b[1;33m\u001b[0m\u001b[0m\n\u001b[0;32m  10487\u001b[0m     ) -> DataFrame:\n\u001b[0;32m  10488\u001b[0m         \u001b[1;32mfrom\u001b[0m \u001b[0mpandas\u001b[0m\u001b[1;33m.\u001b[0m\u001b[0mcore\u001b[0m\u001b[1;33m.\u001b[0m\u001b[0mreshape\u001b[0m\u001b[1;33m.\u001b[0m\u001b[0mmerge\u001b[0m \u001b[1;32mimport\u001b[0m \u001b[0mmerge\u001b[0m\u001b[1;33m\u001b[0m\u001b[1;33m\u001b[0m\u001b[0m\n\u001b[0;32m  10489\u001b[0m \u001b[1;33m\u001b[0m\u001b[0m\n\u001b[1;32m> 10490\u001b[1;33m         return merge(\n\u001b[0m\u001b[0;32m  10491\u001b[0m             \u001b[0mself\u001b[0m\u001b[1;33m,\u001b[0m\u001b[1;33m\u001b[0m\u001b[1;33m\u001b[0m\u001b[0m\n\u001b[0;32m  10492\u001b[0m             \u001b[0mright\u001b[0m\u001b[1;33m,\u001b[0m\u001b[1;33m\u001b[0m\u001b[1;33m\u001b[0m\u001b[0m\n\u001b[0;32m  10493\u001b[0m             \u001b[0mhow\u001b[0m\u001b[1;33m=\u001b[0m\u001b[0mhow\u001b[0m\u001b[1;33m,\u001b[0m\u001b[1;33m\u001b[0m\u001b[1;33m\u001b[0m\u001b[0m\n",
      "\u001b[1;32m~\\AppData\\Roaming\\Python\\Python311\\site-packages\\pandas\\core\\reshape\\merge.py\u001b[0m in \u001b[0;36m?\u001b[1;34m(left, right, how, on, left_on, right_on, left_index, right_index, sort, suffixes, copy, indicator, validate)\u001b[0m\n\u001b[0;32m    165\u001b[0m             \u001b[0mvalidate\u001b[0m\u001b[1;33m=\u001b[0m\u001b[0mvalidate\u001b[0m\u001b[1;33m,\u001b[0m\u001b[1;33m\u001b[0m\u001b[1;33m\u001b[0m\u001b[0m\n\u001b[0;32m    166\u001b[0m             \u001b[0mcopy\u001b[0m\u001b[1;33m=\u001b[0m\u001b[0mcopy\u001b[0m\u001b[1;33m,\u001b[0m\u001b[1;33m\u001b[0m\u001b[1;33m\u001b[0m\u001b[0m\n\u001b[0;32m    167\u001b[0m         )\n\u001b[0;32m    168\u001b[0m     \u001b[1;32melse\u001b[0m\u001b[1;33m:\u001b[0m\u001b[1;33m\u001b[0m\u001b[1;33m\u001b[0m\u001b[0m\n\u001b[1;32m--> 169\u001b[1;33m         op = _MergeOperation(\n\u001b[0m\u001b[0;32m    170\u001b[0m             \u001b[0mleft_df\u001b[0m\u001b[1;33m,\u001b[0m\u001b[1;33m\u001b[0m\u001b[1;33m\u001b[0m\u001b[0m\n\u001b[0;32m    171\u001b[0m             \u001b[0mright_df\u001b[0m\u001b[1;33m,\u001b[0m\u001b[1;33m\u001b[0m\u001b[1;33m\u001b[0m\u001b[0m\n\u001b[0;32m    172\u001b[0m             \u001b[0mhow\u001b[0m\u001b[1;33m=\u001b[0m\u001b[0mhow\u001b[0m\u001b[1;33m,\u001b[0m\u001b[1;33m\u001b[0m\u001b[1;33m\u001b[0m\u001b[0m\n",
      "\u001b[1;32m~\\AppData\\Roaming\\Python\\Python311\\site-packages\\pandas\\core\\reshape\\merge.py\u001b[0m in \u001b[0;36m?\u001b[1;34m(self, left, right, how, on, left_on, right_on, left_index, right_index, sort, suffixes, indicator, validate)\u001b[0m\n\u001b[0;32m    787\u001b[0m             \u001b[0mself\u001b[0m\u001b[1;33m.\u001b[0m\u001b[0mright_join_keys\u001b[0m\u001b[1;33m,\u001b[0m\u001b[1;33m\u001b[0m\u001b[1;33m\u001b[0m\u001b[0m\n\u001b[0;32m    788\u001b[0m             \u001b[0mself\u001b[0m\u001b[1;33m.\u001b[0m\u001b[0mjoin_names\u001b[0m\u001b[1;33m,\u001b[0m\u001b[1;33m\u001b[0m\u001b[1;33m\u001b[0m\u001b[0m\n\u001b[0;32m    789\u001b[0m             \u001b[0mleft_drop\u001b[0m\u001b[1;33m,\u001b[0m\u001b[1;33m\u001b[0m\u001b[1;33m\u001b[0m\u001b[0m\n\u001b[0;32m    790\u001b[0m             \u001b[0mright_drop\u001b[0m\u001b[1;33m,\u001b[0m\u001b[1;33m\u001b[0m\u001b[1;33m\u001b[0m\u001b[0m\n\u001b[1;32m--> 791\u001b[1;33m         ) = self._get_merge_keys()\n\u001b[0m\u001b[0;32m    792\u001b[0m \u001b[1;33m\u001b[0m\u001b[0m\n\u001b[0;32m    793\u001b[0m         \u001b[1;32mif\u001b[0m \u001b[0mleft_drop\u001b[0m\u001b[1;33m:\u001b[0m\u001b[1;33m\u001b[0m\u001b[1;33m\u001b[0m\u001b[0m\n\u001b[0;32m    794\u001b[0m             \u001b[0mself\u001b[0m\u001b[1;33m.\u001b[0m\u001b[0mleft\u001b[0m \u001b[1;33m=\u001b[0m \u001b[0mself\u001b[0m\u001b[1;33m.\u001b[0m\u001b[0mleft\u001b[0m\u001b[1;33m.\u001b[0m\u001b[0m_drop_labels_or_levels\u001b[0m\u001b[1;33m(\u001b[0m\u001b[0mleft_drop\u001b[0m\u001b[1;33m)\u001b[0m\u001b[1;33m\u001b[0m\u001b[1;33m\u001b[0m\u001b[0m\n",
      "\u001b[1;32m~\\AppData\\Roaming\\Python\\Python311\\site-packages\\pandas\\core\\reshape\\merge.py\u001b[0m in \u001b[0;36m?\u001b[1;34m(self)\u001b[0m\n\u001b[0;32m   1283\u001b[0m                     \u001b[1;32mif\u001b[0m \u001b[0mlk\u001b[0m \u001b[1;32mis\u001b[0m \u001b[1;32mnot\u001b[0m \u001b[1;32mNone\u001b[0m\u001b[1;33m:\u001b[0m\u001b[1;33m\u001b[0m\u001b[1;33m\u001b[0m\u001b[0m\n\u001b[0;32m   1284\u001b[0m                         \u001b[1;31m# Then we're either Hashable or a wrong-length arraylike,\u001b[0m\u001b[1;33m\u001b[0m\u001b[1;33m\u001b[0m\u001b[0m\n\u001b[0;32m   1285\u001b[0m                         \u001b[1;31m#  the latter of which will raise\u001b[0m\u001b[1;33m\u001b[0m\u001b[1;33m\u001b[0m\u001b[0m\n\u001b[0;32m   1286\u001b[0m                         \u001b[0mlk\u001b[0m \u001b[1;33m=\u001b[0m \u001b[0mcast\u001b[0m\u001b[1;33m(\u001b[0m\u001b[0mHashable\u001b[0m\u001b[1;33m,\u001b[0m \u001b[0mlk\u001b[0m\u001b[1;33m)\u001b[0m\u001b[1;33m\u001b[0m\u001b[1;33m\u001b[0m\u001b[0m\n\u001b[1;32m-> 1287\u001b[1;33m                         \u001b[0mleft_keys\u001b[0m\u001b[1;33m.\u001b[0m\u001b[0mappend\u001b[0m\u001b[1;33m(\u001b[0m\u001b[0mleft\u001b[0m\u001b[1;33m.\u001b[0m\u001b[0m_get_label_or_level_values\u001b[0m\u001b[1;33m(\u001b[0m\u001b[0mlk\u001b[0m\u001b[1;33m)\u001b[0m\u001b[1;33m)\u001b[0m\u001b[1;33m\u001b[0m\u001b[1;33m\u001b[0m\u001b[0m\n\u001b[0m\u001b[0;32m   1288\u001b[0m                         \u001b[0mjoin_names\u001b[0m\u001b[1;33m.\u001b[0m\u001b[0mappend\u001b[0m\u001b[1;33m(\u001b[0m\u001b[0mlk\u001b[0m\u001b[1;33m)\u001b[0m\u001b[1;33m\u001b[0m\u001b[1;33m\u001b[0m\u001b[0m\n\u001b[0;32m   1289\u001b[0m                     \u001b[1;32melse\u001b[0m\u001b[1;33m:\u001b[0m\u001b[1;33m\u001b[0m\u001b[1;33m\u001b[0m\u001b[0m\n\u001b[0;32m   1290\u001b[0m                         \u001b[1;31m# work-around for merge_asof(left_index=True)\u001b[0m\u001b[1;33m\u001b[0m\u001b[1;33m\u001b[0m\u001b[0m\n",
      "\u001b[1;32m~\\AppData\\Roaming\\Python\\Python311\\site-packages\\pandas\\core\\generic.py\u001b[0m in \u001b[0;36m?\u001b[1;34m(self, key, axis)\u001b[0m\n\u001b[0;32m   1840\u001b[0m             \u001b[0mvalues\u001b[0m \u001b[1;33m=\u001b[0m \u001b[0mself\u001b[0m\u001b[1;33m.\u001b[0m\u001b[0mxs\u001b[0m\u001b[1;33m(\u001b[0m\u001b[0mkey\u001b[0m\u001b[1;33m,\u001b[0m \u001b[0maxis\u001b[0m\u001b[1;33m=\u001b[0m\u001b[0mother_axes\u001b[0m\u001b[1;33m[\u001b[0m\u001b[1;36m0\u001b[0m\u001b[1;33m]\u001b[0m\u001b[1;33m)\u001b[0m\u001b[1;33m.\u001b[0m\u001b[0m_values\u001b[0m\u001b[1;33m\u001b[0m\u001b[1;33m\u001b[0m\u001b[0m\n\u001b[0;32m   1841\u001b[0m         \u001b[1;32melif\u001b[0m \u001b[0mself\u001b[0m\u001b[1;33m.\u001b[0m\u001b[0m_is_level_reference\u001b[0m\u001b[1;33m(\u001b[0m\u001b[0mkey\u001b[0m\u001b[1;33m,\u001b[0m \u001b[0maxis\u001b[0m\u001b[1;33m=\u001b[0m\u001b[0maxis\u001b[0m\u001b[1;33m)\u001b[0m\u001b[1;33m:\u001b[0m\u001b[1;33m\u001b[0m\u001b[1;33m\u001b[0m\u001b[0m\n\u001b[0;32m   1842\u001b[0m             \u001b[0mvalues\u001b[0m \u001b[1;33m=\u001b[0m \u001b[0mself\u001b[0m\u001b[1;33m.\u001b[0m\u001b[0maxes\u001b[0m\u001b[1;33m[\u001b[0m\u001b[0maxis\u001b[0m\u001b[1;33m]\u001b[0m\u001b[1;33m.\u001b[0m\u001b[0mget_level_values\u001b[0m\u001b[1;33m(\u001b[0m\u001b[0mkey\u001b[0m\u001b[1;33m)\u001b[0m\u001b[1;33m.\u001b[0m\u001b[0m_values\u001b[0m\u001b[1;33m\u001b[0m\u001b[1;33m\u001b[0m\u001b[0m\n\u001b[0;32m   1843\u001b[0m         \u001b[1;32melse\u001b[0m\u001b[1;33m:\u001b[0m\u001b[1;33m\u001b[0m\u001b[1;33m\u001b[0m\u001b[0m\n\u001b[1;32m-> 1844\u001b[1;33m             \u001b[1;32mraise\u001b[0m \u001b[0mKeyError\u001b[0m\u001b[1;33m(\u001b[0m\u001b[0mkey\u001b[0m\u001b[1;33m)\u001b[0m\u001b[1;33m\u001b[0m\u001b[1;33m\u001b[0m\u001b[0m\n\u001b[0m\u001b[0;32m   1845\u001b[0m \u001b[1;33m\u001b[0m\u001b[0m\n\u001b[0;32m   1846\u001b[0m         \u001b[1;31m# Check for duplicates\u001b[0m\u001b[1;33m\u001b[0m\u001b[1;33m\u001b[0m\u001b[0m\n\u001b[0;32m   1847\u001b[0m         \u001b[1;32mif\u001b[0m \u001b[0mvalues\u001b[0m\u001b[1;33m.\u001b[0m\u001b[0mndim\u001b[0m \u001b[1;33m>\u001b[0m \u001b[1;36m1\u001b[0m\u001b[1;33m:\u001b[0m\u001b[1;33m\u001b[0m\u001b[1;33m\u001b[0m\u001b[0m\n",
      "\u001b[1;31mKeyError\u001b[0m: 'SK_ID_BUREAU'"
     ]
    }
   ],
   "source": [
    "# Fusionner les caractéristiques agrégées avec le jeu de données principal\n",
    "df_merged = df_application.merge(bureau_features, on='SK_ID_CURR', how='left') \\\n",
    "    .merge(bureau_balance_features, on='SK_ID_BUREAU', how='left') \\\n",
    "    .merge(prev_app_features, on='SK_ID_CURR', how='left') \\\n",
    "    .merge(credit_card_features, on='SK_ID_CURR', how='left') \\\n",
    "    .merge(pos_cash_features, on='SK_ID_CURR', how='left') \\\n",
    "    .merge(installments_features, on='SK_ID_CURR', how='left')\n",
    "\n",
    "# Vérifier le résultat de la fusion\n",
    "print(\"Fusion des données réussie. Nombre de lignes :\", len(df_merged))"
   ]
  },
  {
   "cell_type": "code",
   "execution_count": 118,
   "metadata": {},
   "outputs": [
    {
     "name": "stdout",
     "output_type": "stream",
     "text": [
      "Colonnes dans df_application: Index(['SK_ID_CURR', 'TARGET', 'NAME_CONTRACT_TYPE', 'CODE_GENDER',\n",
      "       'FLAG_OWN_CAR', 'FLAG_OWN_REALTY', 'CNT_CHILDREN', 'AMT_INCOME_TOTAL',\n",
      "       'AMT_CREDIT', 'AMT_ANNUITY'],\n",
      "      dtype='object')\n",
      "Colonnes dans bureau_balance_features: Index(['SK_ID_BUREAU', 'MONTHS_BALANCE', 'STATUS_C'], dtype='object')\n"
     ]
    }
   ],
   "source": [
    "# Vérifier les colonnes de df_application\n",
    "print(\"Colonnes dans df_application:\", df_application.columns)\n",
    "\n",
    "# Vérifier les colonnes de bureau_balance_features\n",
    "print(\"Colonnes dans bureau_balance_features:\", bureau_balance_features.columns)\n"
   ]
  },
  {
   "cell_type": "code",
   "execution_count": 119,
   "metadata": {},
   "outputs": [
    {
     "ename": "KeyError",
     "evalue": "'SK_ID_BUREAU'",
     "output_type": "error",
     "traceback": [
      "\u001b[1;31m---------------------------------------------------------------------------\u001b[0m",
      "\u001b[1;31mKeyError\u001b[0m                                  Traceback (most recent call last)",
      "\u001b[1;32m~\\AppData\\Local\\Temp\\ipykernel_178448\\4219575708.py\u001b[0m in \u001b[0;36m?\u001b[1;34m()\u001b[0m\n\u001b[0;32m      1\u001b[0m \u001b[1;31m# Fusionner bureau_balance_features avec bureau_features sur 'SK_ID_BUREAU'\u001b[0m\u001b[1;33m\u001b[0m\u001b[1;33m\u001b[0m\u001b[0m\n\u001b[1;32m----> 2\u001b[1;33m \u001b[0mbureau_combined\u001b[0m \u001b[1;33m=\u001b[0m \u001b[0mbureau_features\u001b[0m\u001b[1;33m.\u001b[0m\u001b[0mmerge\u001b[0m\u001b[1;33m(\u001b[0m\u001b[0mbureau_balance_features\u001b[0m\u001b[1;33m,\u001b[0m \u001b[0mon\u001b[0m\u001b[1;33m=\u001b[0m\u001b[1;34m'SK_ID_BUREAU'\u001b[0m\u001b[1;33m,\u001b[0m \u001b[0mhow\u001b[0m\u001b[1;33m=\u001b[0m\u001b[1;34m'left'\u001b[0m\u001b[1;33m)\u001b[0m\u001b[1;33m\u001b[0m\u001b[1;33m\u001b[0m\u001b[0m\n\u001b[0m\u001b[0;32m      3\u001b[0m \u001b[1;33m\u001b[0m\u001b[0m\n\u001b[0;32m      4\u001b[0m \u001b[1;31m# Fusionner le résultat avec le jeu de données principal\u001b[0m\u001b[1;33m\u001b[0m\u001b[1;33m\u001b[0m\u001b[0m\n\u001b[0;32m      5\u001b[0m \u001b[0mdf_merged\u001b[0m \u001b[1;33m=\u001b[0m \u001b[0mdf_application\u001b[0m\u001b[1;33m.\u001b[0m\u001b[0mmerge\u001b[0m\u001b[1;33m(\u001b[0m\u001b[0mbureau_combined\u001b[0m\u001b[1;33m,\u001b[0m \u001b[0mon\u001b[0m\u001b[1;33m=\u001b[0m\u001b[1;34m'SK_ID_CURR'\u001b[0m\u001b[1;33m,\u001b[0m \u001b[0mhow\u001b[0m\u001b[1;33m=\u001b[0m\u001b[1;34m'left'\u001b[0m\u001b[1;33m)\u001b[0m\u001b[0;31m \u001b[0m\u001b[0;31m\\\u001b[0m\u001b[1;33m\u001b[0m\u001b[1;33m\u001b[0m\u001b[0m\n",
      "\u001b[1;32m~\\AppData\\Roaming\\Python\\Python311\\site-packages\\pandas\\core\\frame.py\u001b[0m in \u001b[0;36m?\u001b[1;34m(self, right, how, on, left_on, right_on, left_index, right_index, sort, suffixes, copy, indicator, validate)\u001b[0m\n\u001b[0;32m  10486\u001b[0m         \u001b[0mvalidate\u001b[0m\u001b[1;33m:\u001b[0m \u001b[0mMergeValidate\u001b[0m \u001b[1;33m|\u001b[0m \u001b[1;32mNone\u001b[0m \u001b[1;33m=\u001b[0m \u001b[1;32mNone\u001b[0m\u001b[1;33m,\u001b[0m\u001b[1;33m\u001b[0m\u001b[1;33m\u001b[0m\u001b[0m\n\u001b[0;32m  10487\u001b[0m     ) -> DataFrame:\n\u001b[0;32m  10488\u001b[0m         \u001b[1;32mfrom\u001b[0m \u001b[0mpandas\u001b[0m\u001b[1;33m.\u001b[0m\u001b[0mcore\u001b[0m\u001b[1;33m.\u001b[0m\u001b[0mreshape\u001b[0m\u001b[1;33m.\u001b[0m\u001b[0mmerge\u001b[0m \u001b[1;32mimport\u001b[0m \u001b[0mmerge\u001b[0m\u001b[1;33m\u001b[0m\u001b[1;33m\u001b[0m\u001b[0m\n\u001b[0;32m  10489\u001b[0m \u001b[1;33m\u001b[0m\u001b[0m\n\u001b[1;32m> 10490\u001b[1;33m         return merge(\n\u001b[0m\u001b[0;32m  10491\u001b[0m             \u001b[0mself\u001b[0m\u001b[1;33m,\u001b[0m\u001b[1;33m\u001b[0m\u001b[1;33m\u001b[0m\u001b[0m\n\u001b[0;32m  10492\u001b[0m             \u001b[0mright\u001b[0m\u001b[1;33m,\u001b[0m\u001b[1;33m\u001b[0m\u001b[1;33m\u001b[0m\u001b[0m\n\u001b[0;32m  10493\u001b[0m             \u001b[0mhow\u001b[0m\u001b[1;33m=\u001b[0m\u001b[0mhow\u001b[0m\u001b[1;33m,\u001b[0m\u001b[1;33m\u001b[0m\u001b[1;33m\u001b[0m\u001b[0m\n",
      "\u001b[1;32m~\\AppData\\Roaming\\Python\\Python311\\site-packages\\pandas\\core\\reshape\\merge.py\u001b[0m in \u001b[0;36m?\u001b[1;34m(left, right, how, on, left_on, right_on, left_index, right_index, sort, suffixes, copy, indicator, validate)\u001b[0m\n\u001b[0;32m    165\u001b[0m             \u001b[0mvalidate\u001b[0m\u001b[1;33m=\u001b[0m\u001b[0mvalidate\u001b[0m\u001b[1;33m,\u001b[0m\u001b[1;33m\u001b[0m\u001b[1;33m\u001b[0m\u001b[0m\n\u001b[0;32m    166\u001b[0m             \u001b[0mcopy\u001b[0m\u001b[1;33m=\u001b[0m\u001b[0mcopy\u001b[0m\u001b[1;33m,\u001b[0m\u001b[1;33m\u001b[0m\u001b[1;33m\u001b[0m\u001b[0m\n\u001b[0;32m    167\u001b[0m         )\n\u001b[0;32m    168\u001b[0m     \u001b[1;32melse\u001b[0m\u001b[1;33m:\u001b[0m\u001b[1;33m\u001b[0m\u001b[1;33m\u001b[0m\u001b[0m\n\u001b[1;32m--> 169\u001b[1;33m         op = _MergeOperation(\n\u001b[0m\u001b[0;32m    170\u001b[0m             \u001b[0mleft_df\u001b[0m\u001b[1;33m,\u001b[0m\u001b[1;33m\u001b[0m\u001b[1;33m\u001b[0m\u001b[0m\n\u001b[0;32m    171\u001b[0m             \u001b[0mright_df\u001b[0m\u001b[1;33m,\u001b[0m\u001b[1;33m\u001b[0m\u001b[1;33m\u001b[0m\u001b[0m\n\u001b[0;32m    172\u001b[0m             \u001b[0mhow\u001b[0m\u001b[1;33m=\u001b[0m\u001b[0mhow\u001b[0m\u001b[1;33m,\u001b[0m\u001b[1;33m\u001b[0m\u001b[1;33m\u001b[0m\u001b[0m\n",
      "\u001b[1;32m~\\AppData\\Roaming\\Python\\Python311\\site-packages\\pandas\\core\\reshape\\merge.py\u001b[0m in \u001b[0;36m?\u001b[1;34m(self, left, right, how, on, left_on, right_on, left_index, right_index, sort, suffixes, indicator, validate)\u001b[0m\n\u001b[0;32m    787\u001b[0m             \u001b[0mself\u001b[0m\u001b[1;33m.\u001b[0m\u001b[0mright_join_keys\u001b[0m\u001b[1;33m,\u001b[0m\u001b[1;33m\u001b[0m\u001b[1;33m\u001b[0m\u001b[0m\n\u001b[0;32m    788\u001b[0m             \u001b[0mself\u001b[0m\u001b[1;33m.\u001b[0m\u001b[0mjoin_names\u001b[0m\u001b[1;33m,\u001b[0m\u001b[1;33m\u001b[0m\u001b[1;33m\u001b[0m\u001b[0m\n\u001b[0;32m    789\u001b[0m             \u001b[0mleft_drop\u001b[0m\u001b[1;33m,\u001b[0m\u001b[1;33m\u001b[0m\u001b[1;33m\u001b[0m\u001b[0m\n\u001b[0;32m    790\u001b[0m             \u001b[0mright_drop\u001b[0m\u001b[1;33m,\u001b[0m\u001b[1;33m\u001b[0m\u001b[1;33m\u001b[0m\u001b[0m\n\u001b[1;32m--> 791\u001b[1;33m         ) = self._get_merge_keys()\n\u001b[0m\u001b[0;32m    792\u001b[0m \u001b[1;33m\u001b[0m\u001b[0m\n\u001b[0;32m    793\u001b[0m         \u001b[1;32mif\u001b[0m \u001b[0mleft_drop\u001b[0m\u001b[1;33m:\u001b[0m\u001b[1;33m\u001b[0m\u001b[1;33m\u001b[0m\u001b[0m\n\u001b[0;32m    794\u001b[0m             \u001b[0mself\u001b[0m\u001b[1;33m.\u001b[0m\u001b[0mleft\u001b[0m \u001b[1;33m=\u001b[0m \u001b[0mself\u001b[0m\u001b[1;33m.\u001b[0m\u001b[0mleft\u001b[0m\u001b[1;33m.\u001b[0m\u001b[0m_drop_labels_or_levels\u001b[0m\u001b[1;33m(\u001b[0m\u001b[0mleft_drop\u001b[0m\u001b[1;33m)\u001b[0m\u001b[1;33m\u001b[0m\u001b[1;33m\u001b[0m\u001b[0m\n",
      "\u001b[1;32m~\\AppData\\Roaming\\Python\\Python311\\site-packages\\pandas\\core\\reshape\\merge.py\u001b[0m in \u001b[0;36m?\u001b[1;34m(self)\u001b[0m\n\u001b[0;32m   1283\u001b[0m                     \u001b[1;32mif\u001b[0m \u001b[0mlk\u001b[0m \u001b[1;32mis\u001b[0m \u001b[1;32mnot\u001b[0m \u001b[1;32mNone\u001b[0m\u001b[1;33m:\u001b[0m\u001b[1;33m\u001b[0m\u001b[1;33m\u001b[0m\u001b[0m\n\u001b[0;32m   1284\u001b[0m                         \u001b[1;31m# Then we're either Hashable or a wrong-length arraylike,\u001b[0m\u001b[1;33m\u001b[0m\u001b[1;33m\u001b[0m\u001b[0m\n\u001b[0;32m   1285\u001b[0m                         \u001b[1;31m#  the latter of which will raise\u001b[0m\u001b[1;33m\u001b[0m\u001b[1;33m\u001b[0m\u001b[0m\n\u001b[0;32m   1286\u001b[0m                         \u001b[0mlk\u001b[0m \u001b[1;33m=\u001b[0m \u001b[0mcast\u001b[0m\u001b[1;33m(\u001b[0m\u001b[0mHashable\u001b[0m\u001b[1;33m,\u001b[0m \u001b[0mlk\u001b[0m\u001b[1;33m)\u001b[0m\u001b[1;33m\u001b[0m\u001b[1;33m\u001b[0m\u001b[0m\n\u001b[1;32m-> 1287\u001b[1;33m                         \u001b[0mleft_keys\u001b[0m\u001b[1;33m.\u001b[0m\u001b[0mappend\u001b[0m\u001b[1;33m(\u001b[0m\u001b[0mleft\u001b[0m\u001b[1;33m.\u001b[0m\u001b[0m_get_label_or_level_values\u001b[0m\u001b[1;33m(\u001b[0m\u001b[0mlk\u001b[0m\u001b[1;33m)\u001b[0m\u001b[1;33m)\u001b[0m\u001b[1;33m\u001b[0m\u001b[1;33m\u001b[0m\u001b[0m\n\u001b[0m\u001b[0;32m   1288\u001b[0m                         \u001b[0mjoin_names\u001b[0m\u001b[1;33m.\u001b[0m\u001b[0mappend\u001b[0m\u001b[1;33m(\u001b[0m\u001b[0mlk\u001b[0m\u001b[1;33m)\u001b[0m\u001b[1;33m\u001b[0m\u001b[1;33m\u001b[0m\u001b[0m\n\u001b[0;32m   1289\u001b[0m                     \u001b[1;32melse\u001b[0m\u001b[1;33m:\u001b[0m\u001b[1;33m\u001b[0m\u001b[1;33m\u001b[0m\u001b[0m\n\u001b[0;32m   1290\u001b[0m                         \u001b[1;31m# work-around for merge_asof(left_index=True)\u001b[0m\u001b[1;33m\u001b[0m\u001b[1;33m\u001b[0m\u001b[0m\n",
      "\u001b[1;32m~\\AppData\\Roaming\\Python\\Python311\\site-packages\\pandas\\core\\generic.py\u001b[0m in \u001b[0;36m?\u001b[1;34m(self, key, axis)\u001b[0m\n\u001b[0;32m   1840\u001b[0m             \u001b[0mvalues\u001b[0m \u001b[1;33m=\u001b[0m \u001b[0mself\u001b[0m\u001b[1;33m.\u001b[0m\u001b[0mxs\u001b[0m\u001b[1;33m(\u001b[0m\u001b[0mkey\u001b[0m\u001b[1;33m,\u001b[0m \u001b[0maxis\u001b[0m\u001b[1;33m=\u001b[0m\u001b[0mother_axes\u001b[0m\u001b[1;33m[\u001b[0m\u001b[1;36m0\u001b[0m\u001b[1;33m]\u001b[0m\u001b[1;33m)\u001b[0m\u001b[1;33m.\u001b[0m\u001b[0m_values\u001b[0m\u001b[1;33m\u001b[0m\u001b[1;33m\u001b[0m\u001b[0m\n\u001b[0;32m   1841\u001b[0m         \u001b[1;32melif\u001b[0m \u001b[0mself\u001b[0m\u001b[1;33m.\u001b[0m\u001b[0m_is_level_reference\u001b[0m\u001b[1;33m(\u001b[0m\u001b[0mkey\u001b[0m\u001b[1;33m,\u001b[0m \u001b[0maxis\u001b[0m\u001b[1;33m=\u001b[0m\u001b[0maxis\u001b[0m\u001b[1;33m)\u001b[0m\u001b[1;33m:\u001b[0m\u001b[1;33m\u001b[0m\u001b[1;33m\u001b[0m\u001b[0m\n\u001b[0;32m   1842\u001b[0m             \u001b[0mvalues\u001b[0m \u001b[1;33m=\u001b[0m \u001b[0mself\u001b[0m\u001b[1;33m.\u001b[0m\u001b[0maxes\u001b[0m\u001b[1;33m[\u001b[0m\u001b[0maxis\u001b[0m\u001b[1;33m]\u001b[0m\u001b[1;33m.\u001b[0m\u001b[0mget_level_values\u001b[0m\u001b[1;33m(\u001b[0m\u001b[0mkey\u001b[0m\u001b[1;33m)\u001b[0m\u001b[1;33m.\u001b[0m\u001b[0m_values\u001b[0m\u001b[1;33m\u001b[0m\u001b[1;33m\u001b[0m\u001b[0m\n\u001b[0;32m   1843\u001b[0m         \u001b[1;32melse\u001b[0m\u001b[1;33m:\u001b[0m\u001b[1;33m\u001b[0m\u001b[1;33m\u001b[0m\u001b[0m\n\u001b[1;32m-> 1844\u001b[1;33m             \u001b[1;32mraise\u001b[0m \u001b[0mKeyError\u001b[0m\u001b[1;33m(\u001b[0m\u001b[0mkey\u001b[0m\u001b[1;33m)\u001b[0m\u001b[1;33m\u001b[0m\u001b[1;33m\u001b[0m\u001b[0m\n\u001b[0m\u001b[0;32m   1845\u001b[0m \u001b[1;33m\u001b[0m\u001b[0m\n\u001b[0;32m   1846\u001b[0m         \u001b[1;31m# Check for duplicates\u001b[0m\u001b[1;33m\u001b[0m\u001b[1;33m\u001b[0m\u001b[0m\n\u001b[0;32m   1847\u001b[0m         \u001b[1;32mif\u001b[0m \u001b[0mvalues\u001b[0m\u001b[1;33m.\u001b[0m\u001b[0mndim\u001b[0m \u001b[1;33m>\u001b[0m \u001b[1;36m1\u001b[0m\u001b[1;33m:\u001b[0m\u001b[1;33m\u001b[0m\u001b[1;33m\u001b[0m\u001b[0m\n",
      "\u001b[1;31mKeyError\u001b[0m: 'SK_ID_BUREAU'"
     ]
    }
   ],
   "source": [
    "# Fusionner bureau_balance_features avec bureau_features sur 'SK_ID_BUREAU'\n",
    "bureau_combined = bureau_features.merge(bureau_balance_features, on='SK_ID_BUREAU', how='left')\n",
    "\n",
    "# Fusionner le résultat avec le jeu de données principal\n",
    "df_merged = df_application.merge(bureau_combined, on='SK_ID_CURR', how='left') \\\n",
    "    .merge(prev_app_features, on='SK_ID_CURR', how='left') \\\n",
    "    .merge(credit_card_features, on='SK_ID_CURR', how='left') \\\n",
    "    .merge(pos_cash_features, on='SK_ID_CURR', how='left') \\\n",
    "    .merge(installments_features, on='SK_ID_CURR', how='left')\n",
    "\n",
    "# Vérifier le résultat de la fusion\n",
    "print(\"Fusion des données réussie. Nombre de lignes :\", len(df_merged))"
   ]
  },
  {
   "cell_type": "code",
   "execution_count": 120,
   "metadata": {},
   "outputs": [
    {
     "name": "stdout",
     "output_type": "stream",
     "text": [
      "Colonnes dans bureau_features: Index(['SK_ID_CURR', 'AMT_CREDIT_SUM_mean', 'AMT_CREDIT_SUM_sum',\n",
      "       'AMT_CREDIT_SUM_max', 'DAYS_CREDIT_mean', 'DAYS_CREDIT_min'],\n",
      "      dtype='object')\n"
     ]
    }
   ],
   "source": [
    "print(\"Colonnes dans bureau_features:\", bureau_features.columns)"
   ]
  },
  {
   "cell_type": "code",
   "execution_count": 121,
   "metadata": {},
   "outputs": [],
   "source": [
    "# Bureau\n",
    "# Ajouter 'SK_ID_BUREAU' dans le groupby pour l'inclure dans les résultats\n",
    "bureau_features = df_bureau.groupby(['SK_ID_CURR', 'SK_ID_BUREAU']).agg({\n",
    "    'AMT_CREDIT_SUM': ['mean', 'sum', 'max'],\n",
    "    'DAYS_CREDIT': ['mean', 'min']\n",
    "}).reset_index()\n",
    "\n",
    "# Ajuster les colonnes pour la fusion\n",
    "bureau_features.columns = ['_'.join(col).strip() if type(col) is tuple else col for col in bureau_features.columns.values]\n"
   ]
  },
  {
   "cell_type": "code",
   "execution_count": 122,
   "metadata": {},
   "outputs": [
    {
     "ename": "KeyError",
     "evalue": "'SK_ID_BUREAU'",
     "output_type": "error",
     "traceback": [
      "\u001b[1;31m---------------------------------------------------------------------------\u001b[0m",
      "\u001b[1;31mKeyError\u001b[0m                                  Traceback (most recent call last)",
      "\u001b[1;32m~\\AppData\\Local\\Temp\\ipykernel_178448\\4219575708.py\u001b[0m in \u001b[0;36m?\u001b[1;34m()\u001b[0m\n\u001b[0;32m      1\u001b[0m \u001b[1;31m# Fusionner bureau_balance_features avec bureau_features sur 'SK_ID_BUREAU'\u001b[0m\u001b[1;33m\u001b[0m\u001b[1;33m\u001b[0m\u001b[0m\n\u001b[1;32m----> 2\u001b[1;33m \u001b[0mbureau_combined\u001b[0m \u001b[1;33m=\u001b[0m \u001b[0mbureau_features\u001b[0m\u001b[1;33m.\u001b[0m\u001b[0mmerge\u001b[0m\u001b[1;33m(\u001b[0m\u001b[0mbureau_balance_features\u001b[0m\u001b[1;33m,\u001b[0m \u001b[0mon\u001b[0m\u001b[1;33m=\u001b[0m\u001b[1;34m'SK_ID_BUREAU'\u001b[0m\u001b[1;33m,\u001b[0m \u001b[0mhow\u001b[0m\u001b[1;33m=\u001b[0m\u001b[1;34m'left'\u001b[0m\u001b[1;33m)\u001b[0m\u001b[1;33m\u001b[0m\u001b[1;33m\u001b[0m\u001b[0m\n\u001b[0m\u001b[0;32m      3\u001b[0m \u001b[1;33m\u001b[0m\u001b[0m\n\u001b[0;32m      4\u001b[0m \u001b[1;31m# Fusionner le résultat avec le jeu de données principal\u001b[0m\u001b[1;33m\u001b[0m\u001b[1;33m\u001b[0m\u001b[0m\n\u001b[0;32m      5\u001b[0m \u001b[0mdf_merged\u001b[0m \u001b[1;33m=\u001b[0m \u001b[0mdf_application\u001b[0m\u001b[1;33m.\u001b[0m\u001b[0mmerge\u001b[0m\u001b[1;33m(\u001b[0m\u001b[0mbureau_combined\u001b[0m\u001b[1;33m,\u001b[0m \u001b[0mon\u001b[0m\u001b[1;33m=\u001b[0m\u001b[1;34m'SK_ID_CURR'\u001b[0m\u001b[1;33m,\u001b[0m \u001b[0mhow\u001b[0m\u001b[1;33m=\u001b[0m\u001b[1;34m'left'\u001b[0m\u001b[1;33m)\u001b[0m\u001b[0;31m \u001b[0m\u001b[0;31m\\\u001b[0m\u001b[1;33m\u001b[0m\u001b[1;33m\u001b[0m\u001b[0m\n",
      "\u001b[1;32mc:\\Users\\jason\\anaconda3\\Lib\\site-packages\\dask\\dataframe\\core.py\u001b[0m in \u001b[0;36m?\u001b[1;34m(self, right, how, on, left_on, right_on, left_index, right_index, suffixes, indicator, npartitions, shuffle, broadcast)\u001b[0m\n\u001b[0;32m   5711\u001b[0m             \u001b[1;32mraise\u001b[0m \u001b[0mValueError\u001b[0m\u001b[1;33m(\u001b[0m\u001b[1;34m\"right must be DataFrame\"\u001b[0m\u001b[1;33m)\u001b[0m\u001b[1;33m\u001b[0m\u001b[1;33m\u001b[0m\u001b[0m\n\u001b[0;32m   5712\u001b[0m \u001b[1;33m\u001b[0m\u001b[0m\n\u001b[0;32m   5713\u001b[0m         \u001b[1;32mfrom\u001b[0m \u001b[0mdask\u001b[0m\u001b[1;33m.\u001b[0m\u001b[0mdataframe\u001b[0m\u001b[1;33m.\u001b[0m\u001b[0mmulti\u001b[0m \u001b[1;32mimport\u001b[0m \u001b[0mmerge\u001b[0m\u001b[1;33m\u001b[0m\u001b[1;33m\u001b[0m\u001b[0m\n\u001b[0;32m   5714\u001b[0m \u001b[1;33m\u001b[0m\u001b[0m\n\u001b[1;32m-> 5715\u001b[1;33m         return merge(\n\u001b[0m\u001b[0;32m   5716\u001b[0m             \u001b[0mself\u001b[0m\u001b[1;33m,\u001b[0m\u001b[1;33m\u001b[0m\u001b[1;33m\u001b[0m\u001b[0m\n\u001b[0;32m   5717\u001b[0m             \u001b[0mright\u001b[0m\u001b[1;33m,\u001b[0m\u001b[1;33m\u001b[0m\u001b[1;33m\u001b[0m\u001b[0m\n\u001b[0;32m   5718\u001b[0m             \u001b[0mhow\u001b[0m\u001b[1;33m=\u001b[0m\u001b[0mhow\u001b[0m\u001b[1;33m,\u001b[0m\u001b[1;33m\u001b[0m\u001b[1;33m\u001b[0m\u001b[0m\n",
      "\u001b[1;32mc:\\Users\\jason\\anaconda3\\Lib\\site-packages\\dask\\dataframe\\multi.py\u001b[0m in \u001b[0;36m?\u001b[1;34m(left, right, how, on, left_on, right_on, left_index, right_index, suffixes, indicator, npartitions, shuffle, max_branch, broadcast)\u001b[0m\n\u001b[0;32m    607\u001b[0m         \u001b[1;32mand\u001b[0m \u001b[0mhow\u001b[0m \u001b[1;32min\u001b[0m \u001b[0mallowed_right\u001b[0m\u001b[1;33m\u001b[0m\u001b[1;33m\u001b[0m\u001b[0m\n\u001b[0;32m    608\u001b[0m         \u001b[1;32mor\u001b[0m \u001b[0mright\u001b[0m\u001b[1;33m.\u001b[0m\u001b[0mnpartitions\u001b[0m \u001b[1;33m==\u001b[0m \u001b[1;36m1\u001b[0m\u001b[1;33m\u001b[0m\u001b[1;33m\u001b[0m\u001b[0m\n\u001b[0;32m    609\u001b[0m         \u001b[1;32mand\u001b[0m \u001b[0mhow\u001b[0m \u001b[1;32min\u001b[0m \u001b[0mallowed_left\u001b[0m\u001b[1;33m\u001b[0m\u001b[1;33m\u001b[0m\u001b[0m\n\u001b[0;32m    610\u001b[0m     ):\n\u001b[1;32m--> 611\u001b[1;33m         return single_partition_join(\n\u001b[0m\u001b[0;32m    612\u001b[0m             \u001b[0mleft\u001b[0m\u001b[1;33m,\u001b[0m\u001b[1;33m\u001b[0m\u001b[1;33m\u001b[0m\u001b[0m\n\u001b[0;32m    613\u001b[0m             \u001b[0mright\u001b[0m\u001b[1;33m,\u001b[0m\u001b[1;33m\u001b[0m\u001b[1;33m\u001b[0m\u001b[0m\n\u001b[0;32m    614\u001b[0m             \u001b[0mhow\u001b[0m\u001b[1;33m=\u001b[0m\u001b[0mhow\u001b[0m\u001b[1;33m,\u001b[0m\u001b[1;33m\u001b[0m\u001b[1;33m\u001b[0m\u001b[0m\n",
      "\u001b[1;32mc:\\Users\\jason\\anaconda3\\Lib\\site-packages\\dask\\dataframe\\multi.py\u001b[0m in \u001b[0;36m?\u001b[1;34m(left, right, **kwargs)\u001b[0m\n\u001b[0;32m    423\u001b[0m \u001b[1;32mdef\u001b[0m \u001b[0msingle_partition_join\u001b[0m\u001b[1;33m(\u001b[0m\u001b[0mleft\u001b[0m\u001b[1;33m,\u001b[0m \u001b[0mright\u001b[0m\u001b[1;33m,\u001b[0m \u001b[1;33m**\u001b[0m\u001b[0mkwargs\u001b[0m\u001b[1;33m)\u001b[0m\u001b[1;33m:\u001b[0m\u001b[1;33m\u001b[0m\u001b[1;33m\u001b[0m\u001b[0m\n\u001b[0;32m    424\u001b[0m     \u001b[1;31m# if the merge is performed on_index, divisions can be kept, otherwise the\u001b[0m\u001b[1;33m\u001b[0m\u001b[1;33m\u001b[0m\u001b[0m\n\u001b[0;32m    425\u001b[0m     \u001b[1;31m# new index will not necessarily correspond with the current divisions\u001b[0m\u001b[1;33m\u001b[0m\u001b[1;33m\u001b[0m\u001b[0m\n\u001b[0;32m    426\u001b[0m \u001b[1;33m\u001b[0m\u001b[0m\n\u001b[1;32m--> 427\u001b[1;33m     \u001b[0mmeta\u001b[0m \u001b[1;33m=\u001b[0m \u001b[0mleft\u001b[0m\u001b[1;33m.\u001b[0m\u001b[0m_meta_nonempty\u001b[0m\u001b[1;33m.\u001b[0m\u001b[0mmerge\u001b[0m\u001b[1;33m(\u001b[0m\u001b[0mright\u001b[0m\u001b[1;33m.\u001b[0m\u001b[0m_meta_nonempty\u001b[0m\u001b[1;33m,\u001b[0m \u001b[1;33m**\u001b[0m\u001b[0mkwargs\u001b[0m\u001b[1;33m)\u001b[0m\u001b[1;33m\u001b[0m\u001b[1;33m\u001b[0m\u001b[0m\n\u001b[0m\u001b[0;32m    428\u001b[0m \u001b[1;33m\u001b[0m\u001b[0m\n\u001b[0;32m    429\u001b[0m     use_left = kwargs.get(\"right_index\") or right._contains_index_name(\n\u001b[0;32m    430\u001b[0m         \u001b[0mkwargs\u001b[0m\u001b[1;33m.\u001b[0m\u001b[0mget\u001b[0m\u001b[1;33m(\u001b[0m\u001b[1;34m\"right_on\"\u001b[0m\u001b[1;33m)\u001b[0m\u001b[1;33m\u001b[0m\u001b[1;33m\u001b[0m\u001b[0m\n",
      "\u001b[1;32m~\\AppData\\Roaming\\Python\\Python311\\site-packages\\pandas\\core\\frame.py\u001b[0m in \u001b[0;36m?\u001b[1;34m(self, right, how, on, left_on, right_on, left_index, right_index, sort, suffixes, copy, indicator, validate)\u001b[0m\n\u001b[0;32m  10486\u001b[0m         \u001b[0mvalidate\u001b[0m\u001b[1;33m:\u001b[0m \u001b[0mMergeValidate\u001b[0m \u001b[1;33m|\u001b[0m \u001b[1;32mNone\u001b[0m \u001b[1;33m=\u001b[0m \u001b[1;32mNone\u001b[0m\u001b[1;33m,\u001b[0m\u001b[1;33m\u001b[0m\u001b[1;33m\u001b[0m\u001b[0m\n\u001b[0;32m  10487\u001b[0m     ) -> DataFrame:\n\u001b[0;32m  10488\u001b[0m         \u001b[1;32mfrom\u001b[0m \u001b[0mpandas\u001b[0m\u001b[1;33m.\u001b[0m\u001b[0mcore\u001b[0m\u001b[1;33m.\u001b[0m\u001b[0mreshape\u001b[0m\u001b[1;33m.\u001b[0m\u001b[0mmerge\u001b[0m \u001b[1;32mimport\u001b[0m \u001b[0mmerge\u001b[0m\u001b[1;33m\u001b[0m\u001b[1;33m\u001b[0m\u001b[0m\n\u001b[0;32m  10489\u001b[0m \u001b[1;33m\u001b[0m\u001b[0m\n\u001b[1;32m> 10490\u001b[1;33m         return merge(\n\u001b[0m\u001b[0;32m  10491\u001b[0m             \u001b[0mself\u001b[0m\u001b[1;33m,\u001b[0m\u001b[1;33m\u001b[0m\u001b[1;33m\u001b[0m\u001b[0m\n\u001b[0;32m  10492\u001b[0m             \u001b[0mright\u001b[0m\u001b[1;33m,\u001b[0m\u001b[1;33m\u001b[0m\u001b[1;33m\u001b[0m\u001b[0m\n\u001b[0;32m  10493\u001b[0m             \u001b[0mhow\u001b[0m\u001b[1;33m=\u001b[0m\u001b[0mhow\u001b[0m\u001b[1;33m,\u001b[0m\u001b[1;33m\u001b[0m\u001b[1;33m\u001b[0m\u001b[0m\n",
      "\u001b[1;32m~\\AppData\\Roaming\\Python\\Python311\\site-packages\\pandas\\core\\reshape\\merge.py\u001b[0m in \u001b[0;36m?\u001b[1;34m(left, right, how, on, left_on, right_on, left_index, right_index, sort, suffixes, copy, indicator, validate)\u001b[0m\n\u001b[0;32m    165\u001b[0m             \u001b[0mvalidate\u001b[0m\u001b[1;33m=\u001b[0m\u001b[0mvalidate\u001b[0m\u001b[1;33m,\u001b[0m\u001b[1;33m\u001b[0m\u001b[1;33m\u001b[0m\u001b[0m\n\u001b[0;32m    166\u001b[0m             \u001b[0mcopy\u001b[0m\u001b[1;33m=\u001b[0m\u001b[0mcopy\u001b[0m\u001b[1;33m,\u001b[0m\u001b[1;33m\u001b[0m\u001b[1;33m\u001b[0m\u001b[0m\n\u001b[0;32m    167\u001b[0m         )\n\u001b[0;32m    168\u001b[0m     \u001b[1;32melse\u001b[0m\u001b[1;33m:\u001b[0m\u001b[1;33m\u001b[0m\u001b[1;33m\u001b[0m\u001b[0m\n\u001b[1;32m--> 169\u001b[1;33m         op = _MergeOperation(\n\u001b[0m\u001b[0;32m    170\u001b[0m             \u001b[0mleft_df\u001b[0m\u001b[1;33m,\u001b[0m\u001b[1;33m\u001b[0m\u001b[1;33m\u001b[0m\u001b[0m\n\u001b[0;32m    171\u001b[0m             \u001b[0mright_df\u001b[0m\u001b[1;33m,\u001b[0m\u001b[1;33m\u001b[0m\u001b[1;33m\u001b[0m\u001b[0m\n\u001b[0;32m    172\u001b[0m             \u001b[0mhow\u001b[0m\u001b[1;33m=\u001b[0m\u001b[0mhow\u001b[0m\u001b[1;33m,\u001b[0m\u001b[1;33m\u001b[0m\u001b[1;33m\u001b[0m\u001b[0m\n",
      "\u001b[1;32m~\\AppData\\Roaming\\Python\\Python311\\site-packages\\pandas\\core\\reshape\\merge.py\u001b[0m in \u001b[0;36m?\u001b[1;34m(self, left, right, how, on, left_on, right_on, left_index, right_index, sort, suffixes, indicator, validate)\u001b[0m\n\u001b[0;32m    787\u001b[0m             \u001b[0mself\u001b[0m\u001b[1;33m.\u001b[0m\u001b[0mright_join_keys\u001b[0m\u001b[1;33m,\u001b[0m\u001b[1;33m\u001b[0m\u001b[1;33m\u001b[0m\u001b[0m\n\u001b[0;32m    788\u001b[0m             \u001b[0mself\u001b[0m\u001b[1;33m.\u001b[0m\u001b[0mjoin_names\u001b[0m\u001b[1;33m,\u001b[0m\u001b[1;33m\u001b[0m\u001b[1;33m\u001b[0m\u001b[0m\n\u001b[0;32m    789\u001b[0m             \u001b[0mleft_drop\u001b[0m\u001b[1;33m,\u001b[0m\u001b[1;33m\u001b[0m\u001b[1;33m\u001b[0m\u001b[0m\n\u001b[0;32m    790\u001b[0m             \u001b[0mright_drop\u001b[0m\u001b[1;33m,\u001b[0m\u001b[1;33m\u001b[0m\u001b[1;33m\u001b[0m\u001b[0m\n\u001b[1;32m--> 791\u001b[1;33m         ) = self._get_merge_keys()\n\u001b[0m\u001b[0;32m    792\u001b[0m \u001b[1;33m\u001b[0m\u001b[0m\n\u001b[0;32m    793\u001b[0m         \u001b[1;32mif\u001b[0m \u001b[0mleft_drop\u001b[0m\u001b[1;33m:\u001b[0m\u001b[1;33m\u001b[0m\u001b[1;33m\u001b[0m\u001b[0m\n\u001b[0;32m    794\u001b[0m             \u001b[0mself\u001b[0m\u001b[1;33m.\u001b[0m\u001b[0mleft\u001b[0m \u001b[1;33m=\u001b[0m \u001b[0mself\u001b[0m\u001b[1;33m.\u001b[0m\u001b[0mleft\u001b[0m\u001b[1;33m.\u001b[0m\u001b[0m_drop_labels_or_levels\u001b[0m\u001b[1;33m(\u001b[0m\u001b[0mleft_drop\u001b[0m\u001b[1;33m)\u001b[0m\u001b[1;33m\u001b[0m\u001b[1;33m\u001b[0m\u001b[0m\n",
      "\u001b[1;32m~\\AppData\\Roaming\\Python\\Python311\\site-packages\\pandas\\core\\reshape\\merge.py\u001b[0m in \u001b[0;36m?\u001b[1;34m(self)\u001b[0m\n\u001b[0;32m   1283\u001b[0m                     \u001b[1;32mif\u001b[0m \u001b[0mlk\u001b[0m \u001b[1;32mis\u001b[0m \u001b[1;32mnot\u001b[0m \u001b[1;32mNone\u001b[0m\u001b[1;33m:\u001b[0m\u001b[1;33m\u001b[0m\u001b[1;33m\u001b[0m\u001b[0m\n\u001b[0;32m   1284\u001b[0m                         \u001b[1;31m# Then we're either Hashable or a wrong-length arraylike,\u001b[0m\u001b[1;33m\u001b[0m\u001b[1;33m\u001b[0m\u001b[0m\n\u001b[0;32m   1285\u001b[0m                         \u001b[1;31m#  the latter of which will raise\u001b[0m\u001b[1;33m\u001b[0m\u001b[1;33m\u001b[0m\u001b[0m\n\u001b[0;32m   1286\u001b[0m                         \u001b[0mlk\u001b[0m \u001b[1;33m=\u001b[0m \u001b[0mcast\u001b[0m\u001b[1;33m(\u001b[0m\u001b[0mHashable\u001b[0m\u001b[1;33m,\u001b[0m \u001b[0mlk\u001b[0m\u001b[1;33m)\u001b[0m\u001b[1;33m\u001b[0m\u001b[1;33m\u001b[0m\u001b[0m\n\u001b[1;32m-> 1287\u001b[1;33m                         \u001b[0mleft_keys\u001b[0m\u001b[1;33m.\u001b[0m\u001b[0mappend\u001b[0m\u001b[1;33m(\u001b[0m\u001b[0mleft\u001b[0m\u001b[1;33m.\u001b[0m\u001b[0m_get_label_or_level_values\u001b[0m\u001b[1;33m(\u001b[0m\u001b[0mlk\u001b[0m\u001b[1;33m)\u001b[0m\u001b[1;33m)\u001b[0m\u001b[1;33m\u001b[0m\u001b[1;33m\u001b[0m\u001b[0m\n\u001b[0m\u001b[0;32m   1288\u001b[0m                         \u001b[0mjoin_names\u001b[0m\u001b[1;33m.\u001b[0m\u001b[0mappend\u001b[0m\u001b[1;33m(\u001b[0m\u001b[0mlk\u001b[0m\u001b[1;33m)\u001b[0m\u001b[1;33m\u001b[0m\u001b[1;33m\u001b[0m\u001b[0m\n\u001b[0;32m   1289\u001b[0m                     \u001b[1;32melse\u001b[0m\u001b[1;33m:\u001b[0m\u001b[1;33m\u001b[0m\u001b[1;33m\u001b[0m\u001b[0m\n\u001b[0;32m   1290\u001b[0m                         \u001b[1;31m# work-around for merge_asof(left_index=True)\u001b[0m\u001b[1;33m\u001b[0m\u001b[1;33m\u001b[0m\u001b[0m\n",
      "\u001b[1;32m~\\AppData\\Roaming\\Python\\Python311\\site-packages\\pandas\\core\\generic.py\u001b[0m in \u001b[0;36m?\u001b[1;34m(self, key, axis)\u001b[0m\n\u001b[0;32m   1840\u001b[0m             \u001b[0mvalues\u001b[0m \u001b[1;33m=\u001b[0m \u001b[0mself\u001b[0m\u001b[1;33m.\u001b[0m\u001b[0mxs\u001b[0m\u001b[1;33m(\u001b[0m\u001b[0mkey\u001b[0m\u001b[1;33m,\u001b[0m \u001b[0maxis\u001b[0m\u001b[1;33m=\u001b[0m\u001b[0mother_axes\u001b[0m\u001b[1;33m[\u001b[0m\u001b[1;36m0\u001b[0m\u001b[1;33m]\u001b[0m\u001b[1;33m)\u001b[0m\u001b[1;33m.\u001b[0m\u001b[0m_values\u001b[0m\u001b[1;33m\u001b[0m\u001b[1;33m\u001b[0m\u001b[0m\n\u001b[0;32m   1841\u001b[0m         \u001b[1;32melif\u001b[0m \u001b[0mself\u001b[0m\u001b[1;33m.\u001b[0m\u001b[0m_is_level_reference\u001b[0m\u001b[1;33m(\u001b[0m\u001b[0mkey\u001b[0m\u001b[1;33m,\u001b[0m \u001b[0maxis\u001b[0m\u001b[1;33m=\u001b[0m\u001b[0maxis\u001b[0m\u001b[1;33m)\u001b[0m\u001b[1;33m:\u001b[0m\u001b[1;33m\u001b[0m\u001b[1;33m\u001b[0m\u001b[0m\n\u001b[0;32m   1842\u001b[0m             \u001b[0mvalues\u001b[0m \u001b[1;33m=\u001b[0m \u001b[0mself\u001b[0m\u001b[1;33m.\u001b[0m\u001b[0maxes\u001b[0m\u001b[1;33m[\u001b[0m\u001b[0maxis\u001b[0m\u001b[1;33m]\u001b[0m\u001b[1;33m.\u001b[0m\u001b[0mget_level_values\u001b[0m\u001b[1;33m(\u001b[0m\u001b[0mkey\u001b[0m\u001b[1;33m)\u001b[0m\u001b[1;33m.\u001b[0m\u001b[0m_values\u001b[0m\u001b[1;33m\u001b[0m\u001b[1;33m\u001b[0m\u001b[0m\n\u001b[0;32m   1843\u001b[0m         \u001b[1;32melse\u001b[0m\u001b[1;33m:\u001b[0m\u001b[1;33m\u001b[0m\u001b[1;33m\u001b[0m\u001b[0m\n\u001b[1;32m-> 1844\u001b[1;33m             \u001b[1;32mraise\u001b[0m \u001b[0mKeyError\u001b[0m\u001b[1;33m(\u001b[0m\u001b[0mkey\u001b[0m\u001b[1;33m)\u001b[0m\u001b[1;33m\u001b[0m\u001b[1;33m\u001b[0m\u001b[0m\n\u001b[0m\u001b[0;32m   1845\u001b[0m \u001b[1;33m\u001b[0m\u001b[0m\n\u001b[0;32m   1846\u001b[0m         \u001b[1;31m# Check for duplicates\u001b[0m\u001b[1;33m\u001b[0m\u001b[1;33m\u001b[0m\u001b[0m\n\u001b[0;32m   1847\u001b[0m         \u001b[1;32mif\u001b[0m \u001b[0mvalues\u001b[0m\u001b[1;33m.\u001b[0m\u001b[0mndim\u001b[0m \u001b[1;33m>\u001b[0m \u001b[1;36m1\u001b[0m\u001b[1;33m:\u001b[0m\u001b[1;33m\u001b[0m\u001b[1;33m\u001b[0m\u001b[0m\n",
      "\u001b[1;31mKeyError\u001b[0m: 'SK_ID_BUREAU'"
     ]
    }
   ],
   "source": [
    "# Fusionner bureau_balance_features avec bureau_features sur 'SK_ID_BUREAU'\n",
    "bureau_combined = bureau_features.merge(bureau_balance_features, on='SK_ID_BUREAU', how='left')\n",
    "\n",
    "# Fusionner le résultat avec le jeu de données principal\n",
    "df_merged = df_application.merge(bureau_combined, on='SK_ID_CURR', how='left') \\\n",
    "    .merge(prev_app_features, on='SK_ID_CURR', how='left') \\\n",
    "    .merge(credit_card_features, on='SK_ID_CURR', how='left') \\\n",
    "    .merge(pos_cash_features, on='SK_ID_CURR', how='left') \\\n",
    "    .merge(installments_features, on='SK_ID_CURR', how='left')\n",
    "\n",
    "# Vérifier le résultat de la fusion\n",
    "print(\"Fusion des données réussie. Nombre de lignes :\", len(df_merged))"
   ]
  },
  {
   "cell_type": "code",
   "execution_count": 123,
   "metadata": {},
   "outputs": [
    {
     "ename": "AttributeError",
     "evalue": "'DataFrame' object has no attribute 'compute'",
     "output_type": "error",
     "traceback": [
      "\u001b[1;31m---------------------------------------------------------------------------\u001b[0m",
      "\u001b[1;31mAttributeError\u001b[0m                            Traceback (most recent call last)",
      "\u001b[1;32m~\\AppData\\Local\\Temp\\ipykernel_178448\\558629818.py\u001b[0m in \u001b[0;36m?\u001b[1;34m()\u001b[0m\n\u001b[0;32m      1\u001b[0m \u001b[1;31m# Convertir les DataFrames Dask en pandas\u001b[0m\u001b[1;33m\u001b[0m\u001b[1;33m\u001b[0m\u001b[0m\n\u001b[1;32m----> 2\u001b[1;33m \u001b[0mbureau_balance_features_pd\u001b[0m \u001b[1;33m=\u001b[0m \u001b[0mbureau_balance_features\u001b[0m\u001b[1;33m.\u001b[0m\u001b[0mcompute\u001b[0m\u001b[1;33m(\u001b[0m\u001b[1;33m)\u001b[0m\u001b[1;33m\u001b[0m\u001b[1;33m\u001b[0m\u001b[0m\n\u001b[0m\u001b[0;32m      3\u001b[0m \u001b[0mbureau_features_pd\u001b[0m \u001b[1;33m=\u001b[0m \u001b[0mbureau_features\u001b[0m\u001b[1;33m.\u001b[0m\u001b[0mcompute\u001b[0m\u001b[1;33m(\u001b[0m\u001b[1;33m)\u001b[0m\u001b[1;33m\u001b[0m\u001b[1;33m\u001b[0m\u001b[0m\n\u001b[0;32m      4\u001b[0m \u001b[1;33m\u001b[0m\u001b[0m\n\u001b[0;32m      5\u001b[0m \u001b[1;31m# Fusionner bureau_balance_features avec bureau_features sur 'SK_ID_BUREAU'\u001b[0m\u001b[1;33m\u001b[0m\u001b[1;33m\u001b[0m\u001b[0m\n",
      "\u001b[1;32m~\\AppData\\Roaming\\Python\\Python311\\site-packages\\pandas\\core\\generic.py\u001b[0m in \u001b[0;36m?\u001b[1;34m(self, name)\u001b[0m\n\u001b[0;32m   6200\u001b[0m             \u001b[1;32mand\u001b[0m \u001b[0mname\u001b[0m \u001b[1;32mnot\u001b[0m \u001b[1;32min\u001b[0m \u001b[0mself\u001b[0m\u001b[1;33m.\u001b[0m\u001b[0m_accessors\u001b[0m\u001b[1;33m\u001b[0m\u001b[1;33m\u001b[0m\u001b[0m\n\u001b[0;32m   6201\u001b[0m             \u001b[1;32mand\u001b[0m \u001b[0mself\u001b[0m\u001b[1;33m.\u001b[0m\u001b[0m_info_axis\u001b[0m\u001b[1;33m.\u001b[0m\u001b[0m_can_hold_identifiers_and_holds_name\u001b[0m\u001b[1;33m(\u001b[0m\u001b[0mname\u001b[0m\u001b[1;33m)\u001b[0m\u001b[1;33m\u001b[0m\u001b[1;33m\u001b[0m\u001b[0m\n\u001b[0;32m   6202\u001b[0m         ):\n\u001b[0;32m   6203\u001b[0m             \u001b[1;32mreturn\u001b[0m \u001b[0mself\u001b[0m\u001b[1;33m[\u001b[0m\u001b[0mname\u001b[0m\u001b[1;33m]\u001b[0m\u001b[1;33m\u001b[0m\u001b[1;33m\u001b[0m\u001b[0m\n\u001b[1;32m-> 6204\u001b[1;33m         \u001b[1;32mreturn\u001b[0m \u001b[0mobject\u001b[0m\u001b[1;33m.\u001b[0m\u001b[0m__getattribute__\u001b[0m\u001b[1;33m(\u001b[0m\u001b[0mself\u001b[0m\u001b[1;33m,\u001b[0m \u001b[0mname\u001b[0m\u001b[1;33m)\u001b[0m\u001b[1;33m\u001b[0m\u001b[1;33m\u001b[0m\u001b[0m\n\u001b[0m",
      "\u001b[1;31mAttributeError\u001b[0m: 'DataFrame' object has no attribute 'compute'"
     ]
    }
   ],
   "source": [
    "# Convertir les DataFrames Dask en pandas\n",
    "bureau_balance_features_pd = bureau_balance_features.compute()\n",
    "bureau_features_pd = bureau_features.compute()\n",
    "\n",
    "# Fusionner bureau_balance_features avec bureau_features sur 'SK_ID_BUREAU'\n",
    "bureau_combined = bureau_features_pd.merge(bureau_balance_features_pd, on='SK_ID_BUREAU', how='left')\n",
    "\n",
    "# Fusionner le résultat avec le jeu de données principal\n",
    "df_merged = df_application.merge(bureau_combined, on='SK_ID_CURR', how='left') \\\n",
    "    .merge(prev_app_features, on='SK_ID_CURR', how='left') \\\n",
    "    .merge(credit_card_features, on='SK_ID_CURR', how='left') \\\n",
    "    .merge(pos_cash_features, on='SK_ID_CURR', how='left') \\\n",
    "    .merge(installments_features, on='SK_ID_CURR', how='left')\n",
    "\n",
    "# Vérifier le résultat de la fusion\n",
    "print(\"Fusion des données réussie. Nombre de lignes :\", len(df_merged))\n"
   ]
  },
  {
   "cell_type": "code",
   "execution_count": 125,
   "metadata": {},
   "outputs": [
    {
     "name": "stdout",
     "output_type": "stream",
     "text": [
      "Type de bureau_balance_features: <class 'pandas.core.frame.DataFrame'>\n",
      "Type de bureau_features: <class 'dask.dataframe.core.DataFrame'>\n"
     ]
    }
   ],
   "source": [
    "# Vérifier les types de DataFrames\n",
    "print(\"Type de bureau_balance_features:\", type(bureau_balance_features))\n",
    "print(\"Type de bureau_features:\", type(bureau_features))\n"
   ]
  },
  {
   "cell_type": "code",
   "execution_count": 126,
   "metadata": {},
   "outputs": [
    {
     "name": "stderr",
     "output_type": "stream",
     "text": [
      "c:\\Users\\jason\\anaconda3\\Lib\\site-packages\\dask\\base.py:1366: UserWarning: Running on a single-machine scheduler when a distributed client is active might lead to unexpected results.\n",
      "  warnings.warn(\n"
     ]
    },
    {
     "ename": "KeyError",
     "evalue": "'SK_ID_BUREAU'",
     "output_type": "error",
     "traceback": [
      "\u001b[1;31m---------------------------------------------------------------------------\u001b[0m",
      "\u001b[1;31mKeyError\u001b[0m                                  Traceback (most recent call last)",
      "\u001b[1;32m~\\AppData\\Local\\Temp\\ipykernel_178448\\878489934.py\u001b[0m in \u001b[0;36m?\u001b[1;34m()\u001b[0m\n\u001b[0;32m      1\u001b[0m \u001b[1;31m# Convertir seulement le DataFrame Dask en pandas\u001b[0m\u001b[1;33m\u001b[0m\u001b[1;33m\u001b[0m\u001b[0m\n\u001b[0;32m      2\u001b[0m \u001b[0mbureau_features_pd\u001b[0m \u001b[1;33m=\u001b[0m \u001b[0mbureau_features\u001b[0m\u001b[1;33m.\u001b[0m\u001b[0mcompute\u001b[0m\u001b[1;33m(\u001b[0m\u001b[1;33m)\u001b[0m  \u001b[1;31m# Convertir Dask DataFrame en pandas\u001b[0m\u001b[1;33m\u001b[0m\u001b[1;33m\u001b[0m\u001b[0m\n\u001b[0;32m      3\u001b[0m \u001b[1;33m\u001b[0m\u001b[0m\n\u001b[0;32m      4\u001b[0m \u001b[1;31m# Fusionner bureau_balance_features avec bureau_features sur 'SK_ID_BUREAU'\u001b[0m\u001b[1;33m\u001b[0m\u001b[1;33m\u001b[0m\u001b[0m\n\u001b[1;32m----> 5\u001b[1;33m \u001b[0mbureau_combined\u001b[0m \u001b[1;33m=\u001b[0m \u001b[0mbureau_features_pd\u001b[0m\u001b[1;33m.\u001b[0m\u001b[0mmerge\u001b[0m\u001b[1;33m(\u001b[0m\u001b[0mbureau_balance_features\u001b[0m\u001b[1;33m,\u001b[0m \u001b[0mon\u001b[0m\u001b[1;33m=\u001b[0m\u001b[1;34m'SK_ID_BUREAU'\u001b[0m\u001b[1;33m,\u001b[0m \u001b[0mhow\u001b[0m\u001b[1;33m=\u001b[0m\u001b[1;34m'left'\u001b[0m\u001b[1;33m)\u001b[0m\u001b[1;33m\u001b[0m\u001b[1;33m\u001b[0m\u001b[0m\n\u001b[0m\u001b[0;32m      6\u001b[0m \u001b[1;33m\u001b[0m\u001b[0m\n\u001b[0;32m      7\u001b[0m \u001b[1;31m# Fusionner le résultat avec le jeu de données principal\u001b[0m\u001b[1;33m\u001b[0m\u001b[1;33m\u001b[0m\u001b[0m\n\u001b[0;32m      8\u001b[0m \u001b[0mdf_merged\u001b[0m \u001b[1;33m=\u001b[0m \u001b[0mdf_application\u001b[0m\u001b[1;33m.\u001b[0m\u001b[0mmerge\u001b[0m\u001b[1;33m(\u001b[0m\u001b[0mbureau_combined\u001b[0m\u001b[1;33m,\u001b[0m \u001b[0mon\u001b[0m\u001b[1;33m=\u001b[0m\u001b[1;34m'SK_ID_CURR'\u001b[0m\u001b[1;33m,\u001b[0m \u001b[0mhow\u001b[0m\u001b[1;33m=\u001b[0m\u001b[1;34m'left'\u001b[0m\u001b[1;33m)\u001b[0m\u001b[0;31m \u001b[0m\u001b[0;31m\\\u001b[0m\u001b[1;33m\u001b[0m\u001b[1;33m\u001b[0m\u001b[0m\n",
      "\u001b[1;32m~\\AppData\\Roaming\\Python\\Python311\\site-packages\\pandas\\core\\frame.py\u001b[0m in \u001b[0;36m?\u001b[1;34m(self, right, how, on, left_on, right_on, left_index, right_index, sort, suffixes, copy, indicator, validate)\u001b[0m\n\u001b[0;32m  10486\u001b[0m         \u001b[0mvalidate\u001b[0m\u001b[1;33m:\u001b[0m \u001b[0mMergeValidate\u001b[0m \u001b[1;33m|\u001b[0m \u001b[1;32mNone\u001b[0m \u001b[1;33m=\u001b[0m \u001b[1;32mNone\u001b[0m\u001b[1;33m,\u001b[0m\u001b[1;33m\u001b[0m\u001b[1;33m\u001b[0m\u001b[0m\n\u001b[0;32m  10487\u001b[0m     ) -> DataFrame:\n\u001b[0;32m  10488\u001b[0m         \u001b[1;32mfrom\u001b[0m \u001b[0mpandas\u001b[0m\u001b[1;33m.\u001b[0m\u001b[0mcore\u001b[0m\u001b[1;33m.\u001b[0m\u001b[0mreshape\u001b[0m\u001b[1;33m.\u001b[0m\u001b[0mmerge\u001b[0m \u001b[1;32mimport\u001b[0m \u001b[0mmerge\u001b[0m\u001b[1;33m\u001b[0m\u001b[1;33m\u001b[0m\u001b[0m\n\u001b[0;32m  10489\u001b[0m \u001b[1;33m\u001b[0m\u001b[0m\n\u001b[1;32m> 10490\u001b[1;33m         return merge(\n\u001b[0m\u001b[0;32m  10491\u001b[0m             \u001b[0mself\u001b[0m\u001b[1;33m,\u001b[0m\u001b[1;33m\u001b[0m\u001b[1;33m\u001b[0m\u001b[0m\n\u001b[0;32m  10492\u001b[0m             \u001b[0mright\u001b[0m\u001b[1;33m,\u001b[0m\u001b[1;33m\u001b[0m\u001b[1;33m\u001b[0m\u001b[0m\n\u001b[0;32m  10493\u001b[0m             \u001b[0mhow\u001b[0m\u001b[1;33m=\u001b[0m\u001b[0mhow\u001b[0m\u001b[1;33m,\u001b[0m\u001b[1;33m\u001b[0m\u001b[1;33m\u001b[0m\u001b[0m\n",
      "\u001b[1;32m~\\AppData\\Roaming\\Python\\Python311\\site-packages\\pandas\\core\\reshape\\merge.py\u001b[0m in \u001b[0;36m?\u001b[1;34m(left, right, how, on, left_on, right_on, left_index, right_index, sort, suffixes, copy, indicator, validate)\u001b[0m\n\u001b[0;32m    165\u001b[0m             \u001b[0mvalidate\u001b[0m\u001b[1;33m=\u001b[0m\u001b[0mvalidate\u001b[0m\u001b[1;33m,\u001b[0m\u001b[1;33m\u001b[0m\u001b[1;33m\u001b[0m\u001b[0m\n\u001b[0;32m    166\u001b[0m             \u001b[0mcopy\u001b[0m\u001b[1;33m=\u001b[0m\u001b[0mcopy\u001b[0m\u001b[1;33m,\u001b[0m\u001b[1;33m\u001b[0m\u001b[1;33m\u001b[0m\u001b[0m\n\u001b[0;32m    167\u001b[0m         )\n\u001b[0;32m    168\u001b[0m     \u001b[1;32melse\u001b[0m\u001b[1;33m:\u001b[0m\u001b[1;33m\u001b[0m\u001b[1;33m\u001b[0m\u001b[0m\n\u001b[1;32m--> 169\u001b[1;33m         op = _MergeOperation(\n\u001b[0m\u001b[0;32m    170\u001b[0m             \u001b[0mleft_df\u001b[0m\u001b[1;33m,\u001b[0m\u001b[1;33m\u001b[0m\u001b[1;33m\u001b[0m\u001b[0m\n\u001b[0;32m    171\u001b[0m             \u001b[0mright_df\u001b[0m\u001b[1;33m,\u001b[0m\u001b[1;33m\u001b[0m\u001b[1;33m\u001b[0m\u001b[0m\n\u001b[0;32m    172\u001b[0m             \u001b[0mhow\u001b[0m\u001b[1;33m=\u001b[0m\u001b[0mhow\u001b[0m\u001b[1;33m,\u001b[0m\u001b[1;33m\u001b[0m\u001b[1;33m\u001b[0m\u001b[0m\n",
      "\u001b[1;32m~\\AppData\\Roaming\\Python\\Python311\\site-packages\\pandas\\core\\reshape\\merge.py\u001b[0m in \u001b[0;36m?\u001b[1;34m(self, left, right, how, on, left_on, right_on, left_index, right_index, sort, suffixes, indicator, validate)\u001b[0m\n\u001b[0;32m    787\u001b[0m             \u001b[0mself\u001b[0m\u001b[1;33m.\u001b[0m\u001b[0mright_join_keys\u001b[0m\u001b[1;33m,\u001b[0m\u001b[1;33m\u001b[0m\u001b[1;33m\u001b[0m\u001b[0m\n\u001b[0;32m    788\u001b[0m             \u001b[0mself\u001b[0m\u001b[1;33m.\u001b[0m\u001b[0mjoin_names\u001b[0m\u001b[1;33m,\u001b[0m\u001b[1;33m\u001b[0m\u001b[1;33m\u001b[0m\u001b[0m\n\u001b[0;32m    789\u001b[0m             \u001b[0mleft_drop\u001b[0m\u001b[1;33m,\u001b[0m\u001b[1;33m\u001b[0m\u001b[1;33m\u001b[0m\u001b[0m\n\u001b[0;32m    790\u001b[0m             \u001b[0mright_drop\u001b[0m\u001b[1;33m,\u001b[0m\u001b[1;33m\u001b[0m\u001b[1;33m\u001b[0m\u001b[0m\n\u001b[1;32m--> 791\u001b[1;33m         ) = self._get_merge_keys()\n\u001b[0m\u001b[0;32m    792\u001b[0m \u001b[1;33m\u001b[0m\u001b[0m\n\u001b[0;32m    793\u001b[0m         \u001b[1;32mif\u001b[0m \u001b[0mleft_drop\u001b[0m\u001b[1;33m:\u001b[0m\u001b[1;33m\u001b[0m\u001b[1;33m\u001b[0m\u001b[0m\n\u001b[0;32m    794\u001b[0m             \u001b[0mself\u001b[0m\u001b[1;33m.\u001b[0m\u001b[0mleft\u001b[0m \u001b[1;33m=\u001b[0m \u001b[0mself\u001b[0m\u001b[1;33m.\u001b[0m\u001b[0mleft\u001b[0m\u001b[1;33m.\u001b[0m\u001b[0m_drop_labels_or_levels\u001b[0m\u001b[1;33m(\u001b[0m\u001b[0mleft_drop\u001b[0m\u001b[1;33m)\u001b[0m\u001b[1;33m\u001b[0m\u001b[1;33m\u001b[0m\u001b[0m\n",
      "\u001b[1;32m~\\AppData\\Roaming\\Python\\Python311\\site-packages\\pandas\\core\\reshape\\merge.py\u001b[0m in \u001b[0;36m?\u001b[1;34m(self)\u001b[0m\n\u001b[0;32m   1283\u001b[0m                     \u001b[1;32mif\u001b[0m \u001b[0mlk\u001b[0m \u001b[1;32mis\u001b[0m \u001b[1;32mnot\u001b[0m \u001b[1;32mNone\u001b[0m\u001b[1;33m:\u001b[0m\u001b[1;33m\u001b[0m\u001b[1;33m\u001b[0m\u001b[0m\n\u001b[0;32m   1284\u001b[0m                         \u001b[1;31m# Then we're either Hashable or a wrong-length arraylike,\u001b[0m\u001b[1;33m\u001b[0m\u001b[1;33m\u001b[0m\u001b[0m\n\u001b[0;32m   1285\u001b[0m                         \u001b[1;31m#  the latter of which will raise\u001b[0m\u001b[1;33m\u001b[0m\u001b[1;33m\u001b[0m\u001b[0m\n\u001b[0;32m   1286\u001b[0m                         \u001b[0mlk\u001b[0m \u001b[1;33m=\u001b[0m \u001b[0mcast\u001b[0m\u001b[1;33m(\u001b[0m\u001b[0mHashable\u001b[0m\u001b[1;33m,\u001b[0m \u001b[0mlk\u001b[0m\u001b[1;33m)\u001b[0m\u001b[1;33m\u001b[0m\u001b[1;33m\u001b[0m\u001b[0m\n\u001b[1;32m-> 1287\u001b[1;33m                         \u001b[0mleft_keys\u001b[0m\u001b[1;33m.\u001b[0m\u001b[0mappend\u001b[0m\u001b[1;33m(\u001b[0m\u001b[0mleft\u001b[0m\u001b[1;33m.\u001b[0m\u001b[0m_get_label_or_level_values\u001b[0m\u001b[1;33m(\u001b[0m\u001b[0mlk\u001b[0m\u001b[1;33m)\u001b[0m\u001b[1;33m)\u001b[0m\u001b[1;33m\u001b[0m\u001b[1;33m\u001b[0m\u001b[0m\n\u001b[0m\u001b[0;32m   1288\u001b[0m                         \u001b[0mjoin_names\u001b[0m\u001b[1;33m.\u001b[0m\u001b[0mappend\u001b[0m\u001b[1;33m(\u001b[0m\u001b[0mlk\u001b[0m\u001b[1;33m)\u001b[0m\u001b[1;33m\u001b[0m\u001b[1;33m\u001b[0m\u001b[0m\n\u001b[0;32m   1289\u001b[0m                     \u001b[1;32melse\u001b[0m\u001b[1;33m:\u001b[0m\u001b[1;33m\u001b[0m\u001b[1;33m\u001b[0m\u001b[0m\n\u001b[0;32m   1290\u001b[0m                         \u001b[1;31m# work-around for merge_asof(left_index=True)\u001b[0m\u001b[1;33m\u001b[0m\u001b[1;33m\u001b[0m\u001b[0m\n",
      "\u001b[1;32m~\\AppData\\Roaming\\Python\\Python311\\site-packages\\pandas\\core\\generic.py\u001b[0m in \u001b[0;36m?\u001b[1;34m(self, key, axis)\u001b[0m\n\u001b[0;32m   1840\u001b[0m             \u001b[0mvalues\u001b[0m \u001b[1;33m=\u001b[0m \u001b[0mself\u001b[0m\u001b[1;33m.\u001b[0m\u001b[0mxs\u001b[0m\u001b[1;33m(\u001b[0m\u001b[0mkey\u001b[0m\u001b[1;33m,\u001b[0m \u001b[0maxis\u001b[0m\u001b[1;33m=\u001b[0m\u001b[0mother_axes\u001b[0m\u001b[1;33m[\u001b[0m\u001b[1;36m0\u001b[0m\u001b[1;33m]\u001b[0m\u001b[1;33m)\u001b[0m\u001b[1;33m.\u001b[0m\u001b[0m_values\u001b[0m\u001b[1;33m\u001b[0m\u001b[1;33m\u001b[0m\u001b[0m\n\u001b[0;32m   1841\u001b[0m         \u001b[1;32melif\u001b[0m \u001b[0mself\u001b[0m\u001b[1;33m.\u001b[0m\u001b[0m_is_level_reference\u001b[0m\u001b[1;33m(\u001b[0m\u001b[0mkey\u001b[0m\u001b[1;33m,\u001b[0m \u001b[0maxis\u001b[0m\u001b[1;33m=\u001b[0m\u001b[0maxis\u001b[0m\u001b[1;33m)\u001b[0m\u001b[1;33m:\u001b[0m\u001b[1;33m\u001b[0m\u001b[1;33m\u001b[0m\u001b[0m\n\u001b[0;32m   1842\u001b[0m             \u001b[0mvalues\u001b[0m \u001b[1;33m=\u001b[0m \u001b[0mself\u001b[0m\u001b[1;33m.\u001b[0m\u001b[0maxes\u001b[0m\u001b[1;33m[\u001b[0m\u001b[0maxis\u001b[0m\u001b[1;33m]\u001b[0m\u001b[1;33m.\u001b[0m\u001b[0mget_level_values\u001b[0m\u001b[1;33m(\u001b[0m\u001b[0mkey\u001b[0m\u001b[1;33m)\u001b[0m\u001b[1;33m.\u001b[0m\u001b[0m_values\u001b[0m\u001b[1;33m\u001b[0m\u001b[1;33m\u001b[0m\u001b[0m\n\u001b[0;32m   1843\u001b[0m         \u001b[1;32melse\u001b[0m\u001b[1;33m:\u001b[0m\u001b[1;33m\u001b[0m\u001b[1;33m\u001b[0m\u001b[0m\n\u001b[1;32m-> 1844\u001b[1;33m             \u001b[1;32mraise\u001b[0m \u001b[0mKeyError\u001b[0m\u001b[1;33m(\u001b[0m\u001b[0mkey\u001b[0m\u001b[1;33m)\u001b[0m\u001b[1;33m\u001b[0m\u001b[1;33m\u001b[0m\u001b[0m\n\u001b[0m\u001b[0;32m   1845\u001b[0m \u001b[1;33m\u001b[0m\u001b[0m\n\u001b[0;32m   1846\u001b[0m         \u001b[1;31m# Check for duplicates\u001b[0m\u001b[1;33m\u001b[0m\u001b[1;33m\u001b[0m\u001b[0m\n\u001b[0;32m   1847\u001b[0m         \u001b[1;32mif\u001b[0m \u001b[0mvalues\u001b[0m\u001b[1;33m.\u001b[0m\u001b[0mndim\u001b[0m \u001b[1;33m>\u001b[0m \u001b[1;36m1\u001b[0m\u001b[1;33m:\u001b[0m\u001b[1;33m\u001b[0m\u001b[1;33m\u001b[0m\u001b[0m\n",
      "\u001b[1;31mKeyError\u001b[0m: 'SK_ID_BUREAU'"
     ]
    }
   ],
   "source": [
    "# Convertir seulement le DataFrame Dask en pandas\n",
    "bureau_features_pd = bureau_features.compute()  # Convertir Dask DataFrame en pandas\n",
    "\n",
    "# Fusionner bureau_balance_features avec bureau_features sur 'SK_ID_BUREAU'\n",
    "bureau_combined = bureau_features_pd.merge(bureau_balance_features, on='SK_ID_BUREAU', how='left')\n",
    "\n",
    "# Fusionner le résultat avec le jeu de données principal\n",
    "df_merged = df_application.merge(bureau_combined, on='SK_ID_CURR', how='left') \\\n",
    "    .merge(prev_app_features, on='SK_ID_CURR', how='left') \\\n",
    "    .merge(credit_card_features, on='SK_ID_CURR', how='left') \\\n",
    "    .merge(pos_cash_features, on='SK_ID_CURR', how='left') \\\n",
    "    .merge(installments_features, on='SK_ID_CURR', how='left')\n",
    "\n",
    "# Vérifier le résultat de la fusion\n",
    "print(\"Fusion des données réussie. Nombre de lignes :\", len(df_merged))\n"
   ]
  },
  {
   "cell_type": "code",
   "execution_count": 127,
   "metadata": {},
   "outputs": [
    {
     "name": "stdout",
     "output_type": "stream",
     "text": [
      "Colonnes dans bureau_features_pd: Index(['SK_ID_CURR_', 'SK_ID_BUREAU_', 'AMT_CREDIT_SUM_mean',\n",
      "       'AMT_CREDIT_SUM_sum', 'AMT_CREDIT_SUM_max', 'DAYS_CREDIT_mean',\n",
      "       'DAYS_CREDIT_min'],\n",
      "      dtype='object')\n",
      "Colonnes dans bureau_balance_features: Index(['SK_ID_BUREAU', 'MONTHS_BALANCE', 'STATUS_C'], dtype='object')\n",
      "La colonne 'SK_ID_BUREAU' est manquante dans bureau_features_pd.\n"
     ]
    },
    {
     "ename": "KeyError",
     "evalue": "'SK_ID_BUREAU'",
     "output_type": "error",
     "traceback": [
      "\u001b[1;31m---------------------------------------------------------------------------\u001b[0m",
      "\u001b[1;31mKeyError\u001b[0m                                  Traceback (most recent call last)",
      "\u001b[1;32m~\\AppData\\Local\\Temp\\ipykernel_178448\\1266346458.py\u001b[0m in \u001b[0;36m?\u001b[1;34m()\u001b[0m\n\u001b[0;32m      7\u001b[0m     \u001b[0mprint\u001b[0m\u001b[1;33m(\u001b[0m\u001b[1;34m\"La colonne 'SK_ID_BUREAU' est manquante dans bureau_features_pd.\"\u001b[0m\u001b[1;33m)\u001b[0m\u001b[1;33m\u001b[0m\u001b[1;33m\u001b[0m\u001b[0m\n\u001b[0;32m      8\u001b[0m     \u001b[1;31m# Si besoin, réindexer ou ajouter la colonne correcte ici\u001b[0m\u001b[1;33m\u001b[0m\u001b[1;33m\u001b[0m\u001b[0m\n\u001b[0;32m      9\u001b[0m \u001b[1;33m\u001b[0m\u001b[0m\n\u001b[0;32m     10\u001b[0m \u001b[1;31m# Fusionner bureau_balance_features avec bureau_features sur 'SK_ID_BUREAU'\u001b[0m\u001b[1;33m\u001b[0m\u001b[1;33m\u001b[0m\u001b[0m\n\u001b[1;32m---> 11\u001b[1;33m \u001b[0mbureau_combined\u001b[0m \u001b[1;33m=\u001b[0m \u001b[0mbureau_features_pd\u001b[0m\u001b[1;33m.\u001b[0m\u001b[0mmerge\u001b[0m\u001b[1;33m(\u001b[0m\u001b[0mbureau_balance_features\u001b[0m\u001b[1;33m,\u001b[0m \u001b[0mon\u001b[0m\u001b[1;33m=\u001b[0m\u001b[1;34m'SK_ID_BUREAU'\u001b[0m\u001b[1;33m,\u001b[0m \u001b[0mhow\u001b[0m\u001b[1;33m=\u001b[0m\u001b[1;34m'left'\u001b[0m\u001b[1;33m)\u001b[0m\u001b[1;33m\u001b[0m\u001b[1;33m\u001b[0m\u001b[0m\n\u001b[0m\u001b[0;32m     12\u001b[0m \u001b[1;33m\u001b[0m\u001b[0m\n\u001b[0;32m     13\u001b[0m \u001b[1;31m# Fusionner le résultat avec le jeu de données principal\u001b[0m\u001b[1;33m\u001b[0m\u001b[1;33m\u001b[0m\u001b[0m\n\u001b[0;32m     14\u001b[0m \u001b[0mdf_merged\u001b[0m \u001b[1;33m=\u001b[0m \u001b[0mdf_application\u001b[0m\u001b[1;33m.\u001b[0m\u001b[0mmerge\u001b[0m\u001b[1;33m(\u001b[0m\u001b[0mbureau_combined\u001b[0m\u001b[1;33m,\u001b[0m \u001b[0mon\u001b[0m\u001b[1;33m=\u001b[0m\u001b[1;34m'SK_ID_CURR'\u001b[0m\u001b[1;33m,\u001b[0m \u001b[0mhow\u001b[0m\u001b[1;33m=\u001b[0m\u001b[1;34m'left'\u001b[0m\u001b[1;33m)\u001b[0m\u001b[0;31m \u001b[0m\u001b[0;31m\\\u001b[0m\u001b[1;33m\u001b[0m\u001b[1;33m\u001b[0m\u001b[0m\n",
      "\u001b[1;32m~\\AppData\\Roaming\\Python\\Python311\\site-packages\\pandas\\core\\frame.py\u001b[0m in \u001b[0;36m?\u001b[1;34m(self, right, how, on, left_on, right_on, left_index, right_index, sort, suffixes, copy, indicator, validate)\u001b[0m\n\u001b[0;32m  10486\u001b[0m         \u001b[0mvalidate\u001b[0m\u001b[1;33m:\u001b[0m \u001b[0mMergeValidate\u001b[0m \u001b[1;33m|\u001b[0m \u001b[1;32mNone\u001b[0m \u001b[1;33m=\u001b[0m \u001b[1;32mNone\u001b[0m\u001b[1;33m,\u001b[0m\u001b[1;33m\u001b[0m\u001b[1;33m\u001b[0m\u001b[0m\n\u001b[0;32m  10487\u001b[0m     ) -> DataFrame:\n\u001b[0;32m  10488\u001b[0m         \u001b[1;32mfrom\u001b[0m \u001b[0mpandas\u001b[0m\u001b[1;33m.\u001b[0m\u001b[0mcore\u001b[0m\u001b[1;33m.\u001b[0m\u001b[0mreshape\u001b[0m\u001b[1;33m.\u001b[0m\u001b[0mmerge\u001b[0m \u001b[1;32mimport\u001b[0m \u001b[0mmerge\u001b[0m\u001b[1;33m\u001b[0m\u001b[1;33m\u001b[0m\u001b[0m\n\u001b[0;32m  10489\u001b[0m \u001b[1;33m\u001b[0m\u001b[0m\n\u001b[1;32m> 10490\u001b[1;33m         return merge(\n\u001b[0m\u001b[0;32m  10491\u001b[0m             \u001b[0mself\u001b[0m\u001b[1;33m,\u001b[0m\u001b[1;33m\u001b[0m\u001b[1;33m\u001b[0m\u001b[0m\n\u001b[0;32m  10492\u001b[0m             \u001b[0mright\u001b[0m\u001b[1;33m,\u001b[0m\u001b[1;33m\u001b[0m\u001b[1;33m\u001b[0m\u001b[0m\n\u001b[0;32m  10493\u001b[0m             \u001b[0mhow\u001b[0m\u001b[1;33m=\u001b[0m\u001b[0mhow\u001b[0m\u001b[1;33m,\u001b[0m\u001b[1;33m\u001b[0m\u001b[1;33m\u001b[0m\u001b[0m\n",
      "\u001b[1;32m~\\AppData\\Roaming\\Python\\Python311\\site-packages\\pandas\\core\\reshape\\merge.py\u001b[0m in \u001b[0;36m?\u001b[1;34m(left, right, how, on, left_on, right_on, left_index, right_index, sort, suffixes, copy, indicator, validate)\u001b[0m\n\u001b[0;32m    165\u001b[0m             \u001b[0mvalidate\u001b[0m\u001b[1;33m=\u001b[0m\u001b[0mvalidate\u001b[0m\u001b[1;33m,\u001b[0m\u001b[1;33m\u001b[0m\u001b[1;33m\u001b[0m\u001b[0m\n\u001b[0;32m    166\u001b[0m             \u001b[0mcopy\u001b[0m\u001b[1;33m=\u001b[0m\u001b[0mcopy\u001b[0m\u001b[1;33m,\u001b[0m\u001b[1;33m\u001b[0m\u001b[1;33m\u001b[0m\u001b[0m\n\u001b[0;32m    167\u001b[0m         )\n\u001b[0;32m    168\u001b[0m     \u001b[1;32melse\u001b[0m\u001b[1;33m:\u001b[0m\u001b[1;33m\u001b[0m\u001b[1;33m\u001b[0m\u001b[0m\n\u001b[1;32m--> 169\u001b[1;33m         op = _MergeOperation(\n\u001b[0m\u001b[0;32m    170\u001b[0m             \u001b[0mleft_df\u001b[0m\u001b[1;33m,\u001b[0m\u001b[1;33m\u001b[0m\u001b[1;33m\u001b[0m\u001b[0m\n\u001b[0;32m    171\u001b[0m             \u001b[0mright_df\u001b[0m\u001b[1;33m,\u001b[0m\u001b[1;33m\u001b[0m\u001b[1;33m\u001b[0m\u001b[0m\n\u001b[0;32m    172\u001b[0m             \u001b[0mhow\u001b[0m\u001b[1;33m=\u001b[0m\u001b[0mhow\u001b[0m\u001b[1;33m,\u001b[0m\u001b[1;33m\u001b[0m\u001b[1;33m\u001b[0m\u001b[0m\n",
      "\u001b[1;32m~\\AppData\\Roaming\\Python\\Python311\\site-packages\\pandas\\core\\reshape\\merge.py\u001b[0m in \u001b[0;36m?\u001b[1;34m(self, left, right, how, on, left_on, right_on, left_index, right_index, sort, suffixes, indicator, validate)\u001b[0m\n\u001b[0;32m    787\u001b[0m             \u001b[0mself\u001b[0m\u001b[1;33m.\u001b[0m\u001b[0mright_join_keys\u001b[0m\u001b[1;33m,\u001b[0m\u001b[1;33m\u001b[0m\u001b[1;33m\u001b[0m\u001b[0m\n\u001b[0;32m    788\u001b[0m             \u001b[0mself\u001b[0m\u001b[1;33m.\u001b[0m\u001b[0mjoin_names\u001b[0m\u001b[1;33m,\u001b[0m\u001b[1;33m\u001b[0m\u001b[1;33m\u001b[0m\u001b[0m\n\u001b[0;32m    789\u001b[0m             \u001b[0mleft_drop\u001b[0m\u001b[1;33m,\u001b[0m\u001b[1;33m\u001b[0m\u001b[1;33m\u001b[0m\u001b[0m\n\u001b[0;32m    790\u001b[0m             \u001b[0mright_drop\u001b[0m\u001b[1;33m,\u001b[0m\u001b[1;33m\u001b[0m\u001b[1;33m\u001b[0m\u001b[0m\n\u001b[1;32m--> 791\u001b[1;33m         ) = self._get_merge_keys()\n\u001b[0m\u001b[0;32m    792\u001b[0m \u001b[1;33m\u001b[0m\u001b[0m\n\u001b[0;32m    793\u001b[0m         \u001b[1;32mif\u001b[0m \u001b[0mleft_drop\u001b[0m\u001b[1;33m:\u001b[0m\u001b[1;33m\u001b[0m\u001b[1;33m\u001b[0m\u001b[0m\n\u001b[0;32m    794\u001b[0m             \u001b[0mself\u001b[0m\u001b[1;33m.\u001b[0m\u001b[0mleft\u001b[0m \u001b[1;33m=\u001b[0m \u001b[0mself\u001b[0m\u001b[1;33m.\u001b[0m\u001b[0mleft\u001b[0m\u001b[1;33m.\u001b[0m\u001b[0m_drop_labels_or_levels\u001b[0m\u001b[1;33m(\u001b[0m\u001b[0mleft_drop\u001b[0m\u001b[1;33m)\u001b[0m\u001b[1;33m\u001b[0m\u001b[1;33m\u001b[0m\u001b[0m\n",
      "\u001b[1;32m~\\AppData\\Roaming\\Python\\Python311\\site-packages\\pandas\\core\\reshape\\merge.py\u001b[0m in \u001b[0;36m?\u001b[1;34m(self)\u001b[0m\n\u001b[0;32m   1283\u001b[0m                     \u001b[1;32mif\u001b[0m \u001b[0mlk\u001b[0m \u001b[1;32mis\u001b[0m \u001b[1;32mnot\u001b[0m \u001b[1;32mNone\u001b[0m\u001b[1;33m:\u001b[0m\u001b[1;33m\u001b[0m\u001b[1;33m\u001b[0m\u001b[0m\n\u001b[0;32m   1284\u001b[0m                         \u001b[1;31m# Then we're either Hashable or a wrong-length arraylike,\u001b[0m\u001b[1;33m\u001b[0m\u001b[1;33m\u001b[0m\u001b[0m\n\u001b[0;32m   1285\u001b[0m                         \u001b[1;31m#  the latter of which will raise\u001b[0m\u001b[1;33m\u001b[0m\u001b[1;33m\u001b[0m\u001b[0m\n\u001b[0;32m   1286\u001b[0m                         \u001b[0mlk\u001b[0m \u001b[1;33m=\u001b[0m \u001b[0mcast\u001b[0m\u001b[1;33m(\u001b[0m\u001b[0mHashable\u001b[0m\u001b[1;33m,\u001b[0m \u001b[0mlk\u001b[0m\u001b[1;33m)\u001b[0m\u001b[1;33m\u001b[0m\u001b[1;33m\u001b[0m\u001b[0m\n\u001b[1;32m-> 1287\u001b[1;33m                         \u001b[0mleft_keys\u001b[0m\u001b[1;33m.\u001b[0m\u001b[0mappend\u001b[0m\u001b[1;33m(\u001b[0m\u001b[0mleft\u001b[0m\u001b[1;33m.\u001b[0m\u001b[0m_get_label_or_level_values\u001b[0m\u001b[1;33m(\u001b[0m\u001b[0mlk\u001b[0m\u001b[1;33m)\u001b[0m\u001b[1;33m)\u001b[0m\u001b[1;33m\u001b[0m\u001b[1;33m\u001b[0m\u001b[0m\n\u001b[0m\u001b[0;32m   1288\u001b[0m                         \u001b[0mjoin_names\u001b[0m\u001b[1;33m.\u001b[0m\u001b[0mappend\u001b[0m\u001b[1;33m(\u001b[0m\u001b[0mlk\u001b[0m\u001b[1;33m)\u001b[0m\u001b[1;33m\u001b[0m\u001b[1;33m\u001b[0m\u001b[0m\n\u001b[0;32m   1289\u001b[0m                     \u001b[1;32melse\u001b[0m\u001b[1;33m:\u001b[0m\u001b[1;33m\u001b[0m\u001b[1;33m\u001b[0m\u001b[0m\n\u001b[0;32m   1290\u001b[0m                         \u001b[1;31m# work-around for merge_asof(left_index=True)\u001b[0m\u001b[1;33m\u001b[0m\u001b[1;33m\u001b[0m\u001b[0m\n",
      "\u001b[1;32m~\\AppData\\Roaming\\Python\\Python311\\site-packages\\pandas\\core\\generic.py\u001b[0m in \u001b[0;36m?\u001b[1;34m(self, key, axis)\u001b[0m\n\u001b[0;32m   1840\u001b[0m             \u001b[0mvalues\u001b[0m \u001b[1;33m=\u001b[0m \u001b[0mself\u001b[0m\u001b[1;33m.\u001b[0m\u001b[0mxs\u001b[0m\u001b[1;33m(\u001b[0m\u001b[0mkey\u001b[0m\u001b[1;33m,\u001b[0m \u001b[0maxis\u001b[0m\u001b[1;33m=\u001b[0m\u001b[0mother_axes\u001b[0m\u001b[1;33m[\u001b[0m\u001b[1;36m0\u001b[0m\u001b[1;33m]\u001b[0m\u001b[1;33m)\u001b[0m\u001b[1;33m.\u001b[0m\u001b[0m_values\u001b[0m\u001b[1;33m\u001b[0m\u001b[1;33m\u001b[0m\u001b[0m\n\u001b[0;32m   1841\u001b[0m         \u001b[1;32melif\u001b[0m \u001b[0mself\u001b[0m\u001b[1;33m.\u001b[0m\u001b[0m_is_level_reference\u001b[0m\u001b[1;33m(\u001b[0m\u001b[0mkey\u001b[0m\u001b[1;33m,\u001b[0m \u001b[0maxis\u001b[0m\u001b[1;33m=\u001b[0m\u001b[0maxis\u001b[0m\u001b[1;33m)\u001b[0m\u001b[1;33m:\u001b[0m\u001b[1;33m\u001b[0m\u001b[1;33m\u001b[0m\u001b[0m\n\u001b[0;32m   1842\u001b[0m             \u001b[0mvalues\u001b[0m \u001b[1;33m=\u001b[0m \u001b[0mself\u001b[0m\u001b[1;33m.\u001b[0m\u001b[0maxes\u001b[0m\u001b[1;33m[\u001b[0m\u001b[0maxis\u001b[0m\u001b[1;33m]\u001b[0m\u001b[1;33m.\u001b[0m\u001b[0mget_level_values\u001b[0m\u001b[1;33m(\u001b[0m\u001b[0mkey\u001b[0m\u001b[1;33m)\u001b[0m\u001b[1;33m.\u001b[0m\u001b[0m_values\u001b[0m\u001b[1;33m\u001b[0m\u001b[1;33m\u001b[0m\u001b[0m\n\u001b[0;32m   1843\u001b[0m         \u001b[1;32melse\u001b[0m\u001b[1;33m:\u001b[0m\u001b[1;33m\u001b[0m\u001b[1;33m\u001b[0m\u001b[0m\n\u001b[1;32m-> 1844\u001b[1;33m             \u001b[1;32mraise\u001b[0m \u001b[0mKeyError\u001b[0m\u001b[1;33m(\u001b[0m\u001b[0mkey\u001b[0m\u001b[1;33m)\u001b[0m\u001b[1;33m\u001b[0m\u001b[1;33m\u001b[0m\u001b[0m\n\u001b[0m\u001b[0;32m   1845\u001b[0m \u001b[1;33m\u001b[0m\u001b[0m\n\u001b[0;32m   1846\u001b[0m         \u001b[1;31m# Check for duplicates\u001b[0m\u001b[1;33m\u001b[0m\u001b[1;33m\u001b[0m\u001b[0m\n\u001b[0;32m   1847\u001b[0m         \u001b[1;32mif\u001b[0m \u001b[0mvalues\u001b[0m\u001b[1;33m.\u001b[0m\u001b[0mndim\u001b[0m \u001b[1;33m>\u001b[0m \u001b[1;36m1\u001b[0m\u001b[1;33m:\u001b[0m\u001b[1;33m\u001b[0m\u001b[1;33m\u001b[0m\u001b[0m\n",
      "\u001b[1;31mKeyError\u001b[0m: 'SK_ID_BUREAU'"
     ]
    }
   ],
   "source": [
    "# Vérifier les colonnes de chaque DataFrame\n",
    "print(\"Colonnes dans bureau_features_pd:\", bureau_features_pd.columns)\n",
    "print(\"Colonnes dans bureau_balance_features:\", bureau_balance_features.columns)\n",
    "\n",
    "# Si 'SK_ID_BUREAU' est manquant dans bureau_features_pd, il faut l'ajouter ou corriger\n",
    "if 'SK_ID_BUREAU' not in bureau_features_pd.columns:\n",
    "    print(\"La colonne 'SK_ID_BUREAU' est manquante dans bureau_features_pd.\")\n",
    "    # Si besoin, réindexer ou ajouter la colonne correcte ici\n",
    "\n",
    "# Fusionner bureau_balance_features avec bureau_features sur 'SK_ID_BUREAU'\n",
    "bureau_combined = bureau_features_pd.merge(bureau_balance_features, on='SK_ID_BUREAU', how='left')\n",
    "\n",
    "# Fusionner le résultat avec le jeu de données principal\n",
    "df_merged = df_application.merge(bureau_combined, on='SK_ID_CURR', how='left') \\\n",
    "    .merge(prev_app_features, on='SK_ID_CURR', how='left') \\\n",
    "    .merge(credit_card_features, on='SK_ID_CURR', how='left') \\\n",
    "    .merge(pos_cash_features, on='SK_ID_CURR', how='left') \\\n",
    "    .merge(installments_features, on='SK_ID_CURR', how='left')\n",
    "\n",
    "# Vérifier le résultat de la fusion\n",
    "print(\"Fusion des données réussie. Nombre de lignes :\", len(df_merged))\n"
   ]
  },
  {
   "cell_type": "code",
   "execution_count": 128,
   "metadata": {},
   "outputs": [
    {
     "name": "stdout",
     "output_type": "stream",
     "text": [
      "Colonnes dans bureau_features_pd après correction: Index(['SK_ID_CURR', 'SK_ID_BUREAU', 'AMT_CREDIT_SUM_mean',\n",
      "       'AMT_CREDIT_SUM_sum', 'AMT_CREDIT_SUM_max', 'DAYS_CREDIT_mean',\n",
      "       'DAYS_CREDIT_min'],\n",
      "      dtype='object')\n"
     ]
    },
    {
     "name": "stderr",
     "output_type": "stream",
     "text": [
      "c:\\Users\\jason\\anaconda3\\Lib\\site-packages\\dask\\base.py:1366: UserWarning: Running on a single-machine scheduler when a distributed client is active might lead to unexpected results.\n",
      "  warnings.warn(\n"
     ]
    },
    {
     "name": "stdout",
     "output_type": "stream",
     "text": [
      "Fusion des données réussie. Nombre de lignes : 1413189\n"
     ]
    }
   ],
   "source": [
    "# Renommer les colonnes pour supprimer les suffixes '_'\n",
    "bureau_features_pd.rename(columns={'SK_ID_CURR_': 'SK_ID_CURR', 'SK_ID_BUREAU_': 'SK_ID_BUREAU'}, inplace=True)\n",
    "\n",
    "# Vérifier à nouveau les colonnes\n",
    "print(\"Colonnes dans bureau_features_pd après correction:\", bureau_features_pd.columns)\n",
    "\n",
    "# Fusionner bureau_balance_features avec bureau_features sur 'SK_ID_BUREAU'\n",
    "bureau_combined = bureau_features_pd.merge(bureau_balance_features, on='SK_ID_BUREAU', how='left')\n",
    "\n",
    "# Fusionner le résultat avec le jeu de données principal\n",
    "df_merged = df_application.merge(bureau_combined, on='SK_ID_CURR', how='left') \\\n",
    "    .merge(prev_app_features, on='SK_ID_CURR', how='left') \\\n",
    "    .merge(credit_card_features, on='SK_ID_CURR', how='left') \\\n",
    "    .merge(pos_cash_features, on='SK_ID_CURR', how='left') \\\n",
    "    .merge(installments_features, on='SK_ID_CURR', how='left')\n",
    "\n",
    "# Vérifier le résultat de la fusion\n",
    "print(\"Fusion des données réussie. Nombre de lignes :\", len(df_merged))\n"
   ]
  },
  {
   "cell_type": "code",
   "execution_count": 133,
   "metadata": {},
   "outputs": [
    {
     "name": "stderr",
     "output_type": "stream",
     "text": [
      "c:\\Users\\jason\\anaconda3\\Lib\\site-packages\\dask\\base.py:1366: UserWarning: Running on a single-machine scheduler when a distributed client is active might lead to unexpected results.\n",
      "  warnings.warn(\n"
     ]
    },
    {
     "name": "stdout",
     "output_type": "stream",
     "text": [
      "   SK_ID_CURR  TARGET NAME_CONTRACT_TYPE CODE_GENDER FLAG_OWN_CAR  \\\n",
      "0      100002       1         Cash loans           M            N   \n",
      "1      100002       1         Cash loans           M            N   \n",
      "2      100002       1         Cash loans           M            N   \n",
      "3      100002       1         Cash loans           M            N   \n",
      "4      100002       1         Cash loans           M            N   \n",
      "\n",
      "  FLAG_OWN_REALTY  CNT_CHILDREN  AMT_INCOME_TOTAL  AMT_CREDIT  AMT_ANNUITY  \\\n",
      "0               Y             0          202500.0    406597.5      24700.5   \n",
      "1               Y             0          202500.0    406597.5      24700.5   \n",
      "2               Y             0          202500.0    406597.5      24700.5   \n",
      "3               Y             0          202500.0    406597.5      24700.5   \n",
      "4               Y             0          202500.0    406597.5      24700.5   \n",
      "\n",
      "   ...  AMT_APPLICATION_sum  AMT_BALANCE_mean  AMT_BALANCE_max  \\\n",
      "0  ...            12.095454               NaN              NaN   \n",
      "1  ...            12.095454               NaN              NaN   \n",
      "2  ...            12.095454               NaN              NaN   \n",
      "3  ...            12.095454               NaN              NaN   \n",
      "4  ...            12.095454               NaN              NaN   \n",
      "\n",
      "   AMT_CREDIT_LIMIT_ACTUAL_mean  CNT_INSTALMENT  CNT_INSTALMENT_FUTURE  \\\n",
      "0                           NaN       61.158641               2.706545   \n",
      "1                           NaN       61.158641               2.706545   \n",
      "2                           NaN       61.158641               2.706545   \n",
      "3                           NaN       61.158641               2.706545   \n",
      "4                           NaN       61.158641               2.706545   \n",
      "\n",
      "   AMT_INSTALMENT_mean  AMT_INSTALMENT_sum  AMT_PAYMENT_mean  AMT_PAYMENT_sum  \n",
      "0         11559.247105          219625.695      11559.247105       219625.695  \n",
      "1         11559.247105          219625.695      11559.247105       219625.695  \n",
      "2         11559.247105          219625.695      11559.247105       219625.695  \n",
      "3         11559.247105          219625.695      11559.247105       219625.695  \n",
      "4         11559.247105          219625.695      11559.247105       219625.695  \n",
      "\n",
      "[5 rows x 31 columns]\n"
     ]
    }
   ],
   "source": [
    "# Afficher les premières lignes du DataFrame fusionné\n",
    "print(df_merged.head())\n"
   ]
  },
  {
   "cell_type": "code",
   "execution_count": 138,
   "metadata": {},
   "outputs": [
    {
     "name": "stderr",
     "output_type": "stream",
     "text": [
      "c:\\Users\\jason\\anaconda3\\Lib\\site-packages\\dask\\base.py:1366: UserWarning: Running on a single-machine scheduler when a distributed client is active might lead to unexpected results.\n",
      "  warnings.warn(\n"
     ]
    },
    {
     "name": "stdout",
     "output_type": "stream",
     "text": [
      "   SK_ID_CURR  TARGET  CNT_CHILDREN  AMT_INCOME_TOTAL  AMT_CREDIT  \\\n",
      "0    100002.0     1.0           0.0          202500.0    406597.5   \n",
      "1    100003.0     0.0           0.0          270000.0   1293502.5   \n",
      "2    100006.0     0.0           0.0          135000.0    312682.5   \n",
      "3    100007.0     0.0           0.0          121500.0    513000.0   \n",
      "4    100008.0     0.0           0.0           99000.0    490495.5   \n",
      "\n",
      "   AMT_ANNUITY  SK_ID_BUREAU  AMT_CREDIT_SUM_mean  AMT_CREDIT_SUM_sum  \\\n",
      "0      24700.5   6153272.125             9.811994            9.811994   \n",
      "1      35698.5   5885878.500            11.609754           11.609754   \n",
      "2      29686.5           NaN                  NaN                 NaN   \n",
      "3      21865.5   5987200.000            11.893080           11.893080   \n",
      "4      27517.5   6491433.000            11.842916           11.842916   \n",
      "\n",
      "   AMT_CREDIT_SUM_max  ...  AMT_APPLICATION_sum  AMT_BALANCE_mean  \\\n",
      "0            9.811994  ...            12.095454               NaN   \n",
      "1           11.609754  ...            37.567539               NaN   \n",
      "2                 NaN  ...            74.991297               0.0   \n",
      "3           11.893080  ...            68.983033               NaN   \n",
      "4           11.842916  ...            47.213545               NaN   \n",
      "\n",
      "   AMT_BALANCE_max  AMT_CREDIT_LIMIT_ACTUAL_mean  CNT_INSTALMENT  \\\n",
      "0              NaN                           NaN       61.158641   \n",
      "1              NaN                           NaN       66.380761   \n",
      "2              0.0                     12.506181       53.644428   \n",
      "3              NaN                           NaN      181.645241   \n",
      "4              NaN                           NaN      203.497491   \n",
      "\n",
      "   CNT_INSTALMENT_FUTURE  AMT_INSTALMENT_mean  AMT_INSTALMENT_sum  \\\n",
      "0               2.706545         11559.247105          219625.695   \n",
      "1               1.680366         25993.740000          467887.320   \n",
      "2               1.841868         19793.191154          257311.485   \n",
      "3               2.042924         12901.097143          812769.120   \n",
      "4               0.840530         15805.454559          537385.455   \n",
      "\n",
      "   AMT_PAYMENT_mean  AMT_PAYMENT_sum  \n",
      "0      11559.247105       219625.695  \n",
      "1      25993.740000       467887.320  \n",
      "2      19793.191154       257311.485  \n",
      "3      12541.062143       790086.915  \n",
      "4      15452.920588       525399.300  \n",
      "\n",
      "[5 rows x 27 columns]\n"
     ]
    }
   ],
   "source": [
    "# Sélectionner uniquement les colonnes numériques pour l'agrégation\n",
    "numeric_columns = df_merged.select_dtypes(include='number').columns\n",
    "\n",
    "# Agréger le DataFrame fusionné par 'SK_ID_CURR' en utilisant seulement les colonnes numériques\n",
    "df_merged_grouped = df_merged.groupby('SK_ID_CURR')[numeric_columns].mean().reset_index(drop=True)\n",
    "\n",
    "# Afficher quelques lignes après l'agrégation\n",
    "print(df_merged_grouped.head())\n"
   ]
  },
  {
   "cell_type": "code",
   "execution_count": 139,
   "metadata": {},
   "outputs": [
    {
     "name": "stdout",
     "output_type": "stream",
     "text": [
      "Dask DataFrame Structure:\n",
      "              SK_ID_CURR   TARGET CNT_CHILDREN AMT_INCOME_TOTAL AMT_CREDIT AMT_ANNUITY SK_ID_BUREAU AMT_CREDIT_SUM_mean AMT_CREDIT_SUM_sum AMT_CREDIT_SUM_max DAYS_CREDIT_mean DAYS_CREDIT_min MONTHS_BALANCE STATUS_C AMT_ANNUITY_mean AMT_ANNUITY_sum AMT_APPLICATION_mean AMT_APPLICATION_sum AMT_BALANCE_mean AMT_BALANCE_max AMT_CREDIT_LIMIT_ACTUAL_mean CNT_INSTALMENT CNT_INSTALMENT_FUTURE AMT_INSTALMENT_mean AMT_INSTALMENT_sum AMT_PAYMENT_mean AMT_PAYMENT_sum\n",
      "npartitions=1                                                                                                                                                                                                                                                                                                                                                                                                                                                              \n",
      "                 float64  float64      float64          float64    float64     float64      float64             float64            float64            float64          float64         float64        float64  float64          float64         float64              float64             float64          float64         float64                      float64        float64               float64             float64            float64          float64         float64\n",
      "                     ...      ...          ...              ...        ...         ...          ...                 ...                ...                ...              ...             ...            ...      ...              ...             ...                  ...                 ...              ...             ...                          ...            ...                   ...                 ...                ...              ...             ...\n",
      "Dask Name: describe-numeric, 111 graph layers\n"
     ]
    }
   ],
   "source": [
    "# Afficher des statistiques descriptives pour vérifier la distribution des données\n",
    "print(df_merged.describe())"
   ]
  },
  {
   "cell_type": "code",
   "execution_count": 140,
   "metadata": {},
   "outputs": [
    {
     "name": "stdout",
     "output_type": "stream",
     "text": [
      "Valeurs manquantes dans le DataFrame fusionné :\n",
      "Dask Series Structure:\n",
      "npartitions=1\n",
      "AMT_ANNUITY    int64\n",
      "TARGET           ...\n",
      "dtype: int64\n",
      "Dask Name: dataframe-sum-agg, 14 graph layers\n"
     ]
    }
   ],
   "source": [
    "# Vérifier les valeurs manquantes après la fusion\n",
    "print(\"Valeurs manquantes dans le DataFrame fusionné :\")\n",
    "print(df_merged.isnull().sum())"
   ]
  },
  {
   "cell_type": "code",
   "execution_count": 141,
   "metadata": {},
   "outputs": [
    {
     "name": "stderr",
     "output_type": "stream",
     "text": [
      "c:\\Users\\jason\\anaconda3\\Lib\\site-packages\\dask\\base.py:1366: UserWarning: Running on a single-machine scheduler when a distributed client is active might lead to unexpected results.\n",
      "  warnings.warn(\n"
     ]
    },
    {
     "name": "stdout",
     "output_type": "stream",
     "text": [
      "Valeurs manquantes dans le DataFrame fusionné :\n",
      "SK_ID_CURR                           0\n",
      "TARGET                               0\n",
      "NAME_CONTRACT_TYPE                   0\n",
      "CODE_GENDER                          0\n",
      "FLAG_OWN_CAR                         0\n",
      "FLAG_OWN_REALTY                      0\n",
      "CNT_CHILDREN                         0\n",
      "AMT_INCOME_TOTAL                     0\n",
      "AMT_CREDIT                           0\n",
      "AMT_ANNUITY                          0\n",
      "SK_ID_BUREAU                     40569\n",
      "AMT_CREDIT_SUM_mean              40569\n",
      "AMT_CREDIT_SUM_sum               40569\n",
      "AMT_CREDIT_SUM_max               40569\n",
      "DAYS_CREDIT_mean                 40569\n",
      "DAYS_CREDIT_min                  40569\n",
      "MONTHS_BALANCE                  927121\n",
      "STATUS_C                        927121\n",
      "AMT_ANNUITY_mean                 55577\n",
      "AMT_ANNUITY_sum                  55577\n",
      "AMT_APPLICATION_mean             55577\n",
      "AMT_APPLICATION_sum              55577\n",
      "AMT_BALANCE_mean                976594\n",
      "AMT_BALANCE_max                 976594\n",
      "AMT_CREDIT_LIMIT_ACTUAL_mean    976594\n",
      "CNT_INSTALMENT                   62210\n",
      "CNT_INSTALMENT_FUTURE            62210\n",
      "AMT_INSTALMENT_mean              59129\n",
      "AMT_INSTALMENT_sum               59129\n",
      "AMT_PAYMENT_mean                 59129\n",
      "AMT_PAYMENT_sum                  59129\n",
      "dtype: int64\n"
     ]
    }
   ],
   "source": [
    "# Vérifier les valeurs manquantes après la fusion\n",
    "missing_values = df_merged.isnull().sum().compute()\n",
    "print(\"Valeurs manquantes dans le DataFrame fusionné :\")\n",
    "print(missing_values)\n"
   ]
  },
  {
   "cell_type": "code",
   "execution_count": 144,
   "metadata": {},
   "outputs": [
    {
     "name": "stderr",
     "output_type": "stream",
     "text": [
      "c:\\Users\\jason\\anaconda3\\Lib\\site-packages\\dask\\base.py:1366: UserWarning: Running on a single-machine scheduler when a distributed client is active might lead to unexpected results.\n",
      "  warnings.warn(\n"
     ]
    },
    {
     "name": "stdout",
     "output_type": "stream",
     "text": [
      "Valeurs manquantes après le remplissage :\n",
      "SK_ID_CURR                      0\n",
      "TARGET                          0\n",
      "NAME_CONTRACT_TYPE              0\n",
      "CODE_GENDER                     0\n",
      "FLAG_OWN_CAR                    0\n",
      "FLAG_OWN_REALTY                 0\n",
      "CNT_CHILDREN                    0\n",
      "AMT_INCOME_TOTAL                0\n",
      "AMT_CREDIT                      0\n",
      "AMT_ANNUITY                     0\n",
      "SK_ID_BUREAU                    0\n",
      "AMT_CREDIT_SUM_mean             0\n",
      "AMT_CREDIT_SUM_sum              0\n",
      "AMT_CREDIT_SUM_max              0\n",
      "DAYS_CREDIT_mean                0\n",
      "DAYS_CREDIT_min                 0\n",
      "MONTHS_BALANCE                  0\n",
      "STATUS_C                        0\n",
      "AMT_ANNUITY_mean                0\n",
      "AMT_ANNUITY_sum                 0\n",
      "AMT_APPLICATION_mean            0\n",
      "AMT_APPLICATION_sum             0\n",
      "AMT_BALANCE_mean                0\n",
      "AMT_BALANCE_max                 0\n",
      "AMT_CREDIT_LIMIT_ACTUAL_mean    0\n",
      "CNT_INSTALMENT                  0\n",
      "CNT_INSTALMENT_FUTURE           0\n",
      "AMT_INSTALMENT_mean             0\n",
      "AMT_INSTALMENT_sum              0\n",
      "AMT_PAYMENT_mean                0\n",
      "AMT_PAYMENT_sum                 0\n",
      "dtype: int64\n"
     ]
    }
   ],
   "source": [
    "# Sélectionner les colonnes numériques\n",
    "numeric_columns = df_merged.select_dtypes(include='number').columns\n",
    "\n",
    "# Créer une copie du DataFrame pour éviter de modifier l'original\n",
    "df_merged_filled = df_merged.copy()\n",
    "\n",
    "# Remplacer les valeurs manquantes dans chaque colonne numérique par leur moyenne\n",
    "for col in numeric_columns:\n",
    "    df_merged_filled[col] = df_merged_filled[col].fillna(df_merged_filled[col].mean())\n",
    "\n",
    "# Afficher les valeurs manquantes après le remplissage\n",
    "missing_values_after = df_merged_filled.isnull().sum().compute()\n",
    "print(\"Valeurs manquantes après le remplissage :\")\n",
    "print(missing_values_after)\n"
   ]
  },
  {
   "cell_type": "code",
   "execution_count": 147,
   "metadata": {},
   "outputs": [
    {
     "name": "stderr",
     "output_type": "stream",
     "text": [
      "c:\\Users\\jason\\anaconda3\\Lib\\site-packages\\dask\\base.py:1366: UserWarning: Running on a single-machine scheduler when a distributed client is active might lead to unexpected results.\n",
      "  warnings.warn(\n"
     ]
    },
    {
     "name": "stdout",
     "output_type": "stream",
     "text": [
      "Le DataFrame fusionné et rempli a été sauvegardé avec succès.\n"
     ]
    }
   ],
   "source": [
    "# Sauvegarder le DataFrame agrégé dans un seul fichier CSV\n",
    "df_merged_filled.to_csv(r'C:\\Users\\jason\\Desktop\\Cours MS2D\\merged_data_grouped.csv', index=False, single_file=True)\n",
    "\n",
    "print(\"Le DataFrame fusionné et rempli a été sauvegardé avec succès.\")\n"
   ]
  }
 ],
 "metadata": {
  "kernelspec": {
   "display_name": "base",
   "language": "python",
   "name": "python3"
  },
  "language_info": {
   "codemirror_mode": {
    "name": "ipython",
    "version": 3
   },
   "file_extension": ".py",
   "mimetype": "text/x-python",
   "name": "python",
   "nbconvert_exporter": "python",
   "pygments_lexer": "ipython3",
   "version": "3.11.5"
  }
 },
 "nbformat": 4,
 "nbformat_minor": 2
}
