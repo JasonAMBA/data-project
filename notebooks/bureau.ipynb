{
 "cells": [
  {
   "cell_type": "code",
   "execution_count": 1,
   "metadata": {},
   "outputs": [],
   "source": [
    "import pandas as pd\n",
    "import numpy as np\n",
    "import seaborn as sns\n",
    "import matplotlib.pyplot as plt\n",
    "from sklearn.ensemble import IsolationForest"
   ]
  },
  {
   "cell_type": "code",
   "execution_count": 2,
   "metadata": {},
   "outputs": [],
   "source": [
    "# 1. Charger les données\n",
    "# Charger le fichier CSV dans un DataFrame pandas\n",
    "bureau = pd.read_csv(r'C:\\Users\\jason\\Desktop\\Cours MS2D\\Bejaoui\\IA\\Credit scoring project\\bureau.csv')"
   ]
  },
  {
   "cell_type": "code",
   "execution_count": 3,
   "metadata": {},
   "outputs": [
    {
     "name": "stdout",
     "output_type": "stream",
     "text": [
      "   SK_ID_CURR  SK_ID_BUREAU CREDIT_ACTIVE CREDIT_CURRENCY  DAYS_CREDIT  \\\n",
      "0      215354       5714462        Closed      currency 1         -497   \n",
      "1      215354       5714463        Active      currency 1         -208   \n",
      "2      215354       5714464        Active      currency 1         -203   \n",
      "3      215354       5714465        Active      currency 1         -203   \n",
      "4      215354       5714466        Active      currency 1         -629   \n",
      "\n",
      "   CREDIT_DAY_OVERDUE  DAYS_CREDIT_ENDDATE  DAYS_ENDDATE_FACT  \\\n",
      "0                   0               -153.0             -153.0   \n",
      "1                   0               1075.0                NaN   \n",
      "2                   0                528.0                NaN   \n",
      "3                   0                  NaN                NaN   \n",
      "4                   0               1197.0                NaN   \n",
      "\n",
      "   AMT_CREDIT_MAX_OVERDUE  CNT_CREDIT_PROLONG  AMT_CREDIT_SUM  \\\n",
      "0                     NaN                   0         91323.0   \n",
      "1                     NaN                   0        225000.0   \n",
      "2                     NaN                   0        464323.5   \n",
      "3                     NaN                   0         90000.0   \n",
      "4                 77674.5                   0       2700000.0   \n",
      "\n",
      "   AMT_CREDIT_SUM_DEBT  AMT_CREDIT_SUM_LIMIT  AMT_CREDIT_SUM_OVERDUE  \\\n",
      "0                  0.0                   NaN                     0.0   \n",
      "1             171342.0                   NaN                     0.0   \n",
      "2                  NaN                   NaN                     0.0   \n",
      "3                  NaN                   NaN                     0.0   \n",
      "4                  NaN                   NaN                     0.0   \n",
      "\n",
      "       CREDIT_TYPE  DAYS_CREDIT_UPDATE  AMT_ANNUITY  \n",
      "0  Consumer credit                -131          NaN  \n",
      "1      Credit card                 -20          NaN  \n",
      "2  Consumer credit                 -16          NaN  \n",
      "3      Credit card                 -16          NaN  \n",
      "4  Consumer credit                 -21          NaN  \n"
     ]
    }
   ],
   "source": [
    "# Afficher un aperçu des premières lignes du DataFrame pour vérifier le chargement correct des données\n",
    "print(bureau.head())"
   ]
  },
  {
   "cell_type": "code",
   "execution_count": 4,
   "metadata": {},
   "outputs": [],
   "source": [
    "# 2. Sélectionner les colonnes pertinentes\n",
    "# Spécifier les colonnes pertinentes à conserver dans le DataFrame\n",
    "selected_columns_bureau = [\n",
    "    'SK_ID_CURR', 'SK_ID_BUREAU', 'CREDIT_ACTIVE', 'CREDIT_CURRENCY', 'DAYS_CREDIT', \n",
    "    'CREDIT_DAY_OVERDUE', 'DAYS_CREDIT_ENDDATE', 'DAYS_ENDDATE_FACT', \n",
    "    'AMT_CREDIT_MAX_OVERDUE', 'CNT_CREDIT_PROLONG', 'AMT_CREDIT_SUM', \n",
    "    'AMT_CREDIT_SUM_DEBT', 'AMT_CREDIT_SUM_LIMIT', 'AMT_CREDIT_SUM_OVERDUE', \n",
    "    'CREDIT_TYPE', 'DAYS_CREDIT_UPDATE', 'AMT_ANNUITY'\n",
    "]\n",
    "\n",
    "# Créer un DataFrame contenant uniquement les colonnes sélectionnées\n",
    "bureau_selected = bureau[selected_columns_bureau].copy()"
   ]
  },
  {
   "cell_type": "code",
   "execution_count": 5,
   "metadata": {},
   "outputs": [
    {
     "name": "stdout",
     "output_type": "stream",
     "text": [
      "SK_ID_CURR                      0\n",
      "SK_ID_BUREAU                    0\n",
      "CREDIT_ACTIVE                   0\n",
      "CREDIT_CURRENCY                 0\n",
      "DAYS_CREDIT                     0\n",
      "CREDIT_DAY_OVERDUE              0\n",
      "DAYS_CREDIT_ENDDATE        105553\n",
      "DAYS_ENDDATE_FACT          633653\n",
      "AMT_CREDIT_MAX_OVERDUE    1124488\n",
      "CNT_CREDIT_PROLONG              0\n",
      "AMT_CREDIT_SUM                 13\n",
      "AMT_CREDIT_SUM_DEBT        257669\n",
      "AMT_CREDIT_SUM_LIMIT       591780\n",
      "AMT_CREDIT_SUM_OVERDUE          0\n",
      "CREDIT_TYPE                     0\n",
      "DAYS_CREDIT_UPDATE              0\n",
      "AMT_ANNUITY               1226791\n",
      "dtype: int64\n"
     ]
    }
   ],
   "source": [
    "# Afficher le nombre de valeurs manquantes par colonne\n",
    "print(bureau_selected.isnull().sum())"
   ]
  },
  {
   "cell_type": "code",
   "execution_count": 6,
   "metadata": {},
   "outputs": [],
   "source": [
    "# Traiter les valeurs manquantes\n",
    "bureau_selected.loc[:, 'DAYS_CREDIT_ENDDATE'] = bureau_selected['DAYS_CREDIT_ENDDATE'].fillna(bureau_selected['DAYS_CREDIT_ENDDATE'].median())\n",
    "bureau_selected.loc[:, 'DAYS_ENDDATE_FACT'] = bureau_selected['DAYS_ENDDATE_FACT'].fillna(bureau_selected['DAYS_ENDDATE_FACT'].median())\n",
    "bureau_selected.loc[:, 'AMT_CREDIT_MAX_OVERDUE'] = bureau_selected['AMT_CREDIT_MAX_OVERDUE'].fillna(0)\n",
    "bureau_selected.loc[:, 'AMT_CREDIT_SUM'] = bureau_selected['AMT_CREDIT_SUM'].fillna(bureau_selected['AMT_CREDIT_SUM'].median())\n",
    "bureau_selected.loc[:, 'AMT_CREDIT_SUM_DEBT'] = bureau_selected['AMT_CREDIT_SUM_DEBT'].fillna(bureau_selected['AMT_CREDIT_SUM_DEBT'].median())\n",
    "bureau_selected.loc[:, 'AMT_CREDIT_SUM_LIMIT'] = bureau_selected['AMT_CREDIT_SUM_LIMIT'].fillna(bureau_selected['AMT_CREDIT_SUM_LIMIT'].median())\n",
    "bureau_selected.loc[:, 'AMT_ANNUITY'] = bureau_selected['AMT_ANNUITY'].fillna(bureau_selected['AMT_ANNUITY'].median())"
   ]
  },
  {
   "cell_type": "code",
   "execution_count": 7,
   "metadata": {},
   "outputs": [
    {
     "name": "stdout",
     "output_type": "stream",
     "text": [
      "CREDIT_ACTIVE       4\n",
      "CREDIT_CURRENCY     4\n",
      "CREDIT_TYPE        15\n",
      "dtype: int64\n",
      "Valeurs uniques pour CREDIT_ACTIVE:\n",
      "['Closed' 'Active' 'Sold' 'Bad debt']\n",
      "\n",
      "Valeurs uniques pour CREDIT_CURRENCY:\n",
      "['currency 1' 'currency 2' 'currency 4' 'currency 3']\n",
      "\n",
      "Valeurs uniques pour CREDIT_TYPE:\n",
      "['Consumer credit' 'Credit card' 'Mortgage' 'Car loan' 'Microloan'\n",
      " 'Loan for working capital replenishment' 'Loan for business development'\n",
      " 'Real estate loan' 'Unknown type of loan' 'Another type of loan'\n",
      " 'Cash loan (non-earmarked)' 'Loan for the purchase of equipment'\n",
      " 'Mobile operator loan' 'Interbank credit'\n",
      " 'Loan for purchase of shares (margin lending)']\n",
      "\n"
     ]
    }
   ],
   "source": [
    "# Sélectionner les colonnes de type 'object' et obtenir le nombre de valeurs uniques\n",
    "object_columns_unique_counts = bureau_selected.select_dtypes('object').apply(pd.Series.nunique, axis=0)\n",
    "print(object_columns_unique_counts)\n",
    "\n",
    "# Afficher les valeurs uniques pour chaque colonne de type 'object'\n",
    "for column in bureau_selected.select_dtypes('object').columns:\n",
    "    print(f\"Valeurs uniques pour {column}:\")\n",
    "    print(bureau_selected[column].unique())\n",
    "    print()"
   ]
  },
  {
   "cell_type": "code",
   "execution_count": 8,
   "metadata": {},
   "outputs": [],
   "source": [
    "# 5. Transformation logarithmique pour les colonnes financières\n",
    "# Appliquer une transformation logarithmique (log1p) sur certaines colonnes pour réduire l'impact des valeurs extrêmes\n",
    "columns_to_log_transform = ['AMT_CREDIT_SUM', 'AMT_CREDIT_SUM_DEBT', 'AMT_CREDIT_SUM_LIMIT', 'AMT_ANNUITY']\n",
    "\n",
    "for col in columns_to_log_transform:\n",
    "    bureau_selected[col] = bureau_selected[col].apply(lambda x: np.log1p(x) if x > 0 else 0)"
   ]
  },
  {
   "cell_type": "code",
   "execution_count": 9,
   "metadata": {},
   "outputs": [],
   "source": [
    "# 5. Imputation des valeurs aberrantes\n",
    "numerical_cols_bureau = ['DAYS_CREDIT_ENDDATE', 'DAYS_ENDDATE_FACT', 'AMT_CREDIT_MAX_OVERDUE', \n",
    "                         'AMT_CREDIT_SUM', 'AMT_CREDIT_SUM_DEBT', 'AMT_CREDIT_SUM_LIMIT', 'AMT_ANNUITY']"
   ]
  },
  {
   "cell_type": "code",
   "execution_count": 10,
   "metadata": {},
   "outputs": [
    {
     "name": "stdout",
     "output_type": "stream",
     "text": [
      "<class 'pandas.core.frame.DataFrame'>\n",
      "RangeIndex: 1716428 entries, 0 to 1716427\n",
      "Data columns (total 17 columns):\n",
      " #   Column                  Dtype  \n",
      "---  ------                  -----  \n",
      " 0   SK_ID_CURR              int64  \n",
      " 1   SK_ID_BUREAU            int64  \n",
      " 2   CREDIT_ACTIVE           object \n",
      " 3   CREDIT_CURRENCY         object \n",
      " 4   DAYS_CREDIT             int64  \n",
      " 5   CREDIT_DAY_OVERDUE      int64  \n",
      " 6   DAYS_CREDIT_ENDDATE     float64\n",
      " 7   DAYS_ENDDATE_FACT       float64\n",
      " 8   AMT_CREDIT_MAX_OVERDUE  float64\n",
      " 9   CNT_CREDIT_PROLONG      int64  \n",
      " 10  AMT_CREDIT_SUM          float64\n",
      " 11  AMT_CREDIT_SUM_DEBT     float64\n",
      " 12  AMT_CREDIT_SUM_LIMIT    float64\n",
      " 13  AMT_CREDIT_SUM_OVERDUE  float64\n",
      " 14  CREDIT_TYPE             object \n",
      " 15  DAYS_CREDIT_UPDATE      int64  \n",
      " 16  AMT_ANNUITY             float64\n",
      "dtypes: float64(8), int64(6), object(3)\n",
      "memory usage: 222.6+ MB\n",
      "None\n"
     ]
    }
   ],
   "source": [
    "# Vérifier les types de données\n",
    "print(bureau_selected.info())"
   ]
  },
  {
   "cell_type": "code",
   "execution_count": 11,
   "metadata": {},
   "outputs": [
    {
     "name": "stdout",
     "output_type": "stream",
     "text": [
      "Nombre de lignes avant le filtrage des valeurs aberrantes : 1716428\n"
     ]
    }
   ],
   "source": [
    "# Nombre de lignes avant le filtrage des valeurs aberrantes\n",
    "print(f\"Nombre de lignes avant le filtrage des valeurs aberrantes : {len(bureau_selected)}\")"
   ]
  },
  {
   "cell_type": "code",
   "execution_count": 12,
   "metadata": {},
   "outputs": [],
   "source": [
    "# Imputation des valeurs en dehors des quantiles 0.01 et 0.99 par la médiane de chaque colonne\n",
    "for col in numerical_cols_bureau:\n",
    "    q_low = bureau_selected[col].quantile(0.01)\n",
    "    q_high = bureau_selected[col].quantile(0.99)\n",
    "    \n",
    "    # Remplacer les valeurs en dehors des quantiles par la médiane\n",
    "    median_value = bureau_selected[col].median()\n",
    "    bureau_selected[col] = bureau_selected[col].mask((bureau_selected[col] < q_low) | (bureau_selected[col] > q_high), median_value)"
   ]
  },
  {
   "cell_type": "code",
   "execution_count": 13,
   "metadata": {},
   "outputs": [],
   "source": [
    "# Réduire la taille des données avec un échantillonnage aléatoire\n",
    "bureau_sampled = bureau_selected.sample(frac=0.1, random_state=42)  # 10% des données\n",
    "\n",
    "# Appliquer l'Isolation Forest sur l'échantillon\n",
    "iso = IsolationForest(contamination=0.01, random_state=42)\n",
    "yhat = iso.fit_predict(bureau_sampled[numerical_cols_bureau])\n"
   ]
  },
  {
   "cell_type": "code",
   "execution_count": 14,
   "metadata": {},
   "outputs": [],
   "source": [
    "# Filtrer les anomalies détectées dans l'échantillon\n",
    "bureau_sampled = bureau_sampled[yhat != -1]"
   ]
  },
  {
   "cell_type": "code",
   "execution_count": 15,
   "metadata": {},
   "outputs": [],
   "source": [
    "# Fusionner les résultats avec les données originales pour conserver les non-anomalies\n",
    "bureau_selected = pd.concat([bureau_selected[~bureau_selected.index.isin(bureau_sampled.index)], bureau_sampled])"
   ]
  },
  {
   "cell_type": "code",
   "execution_count": 16,
   "metadata": {},
   "outputs": [
    {
     "name": "stdout",
     "output_type": "stream",
     "text": [
      "Nombre de lignes après le filtrage des valeurs aberrantes : 1716428\n"
     ]
    }
   ],
   "source": [
    "# Nombre de lignes après le filtrage des valeurs aberrantes\n",
    "print(f\"Nombre de lignes après le filtrage des valeurs aberrantes : {len(bureau_selected)}\")"
   ]
  },
  {
   "cell_type": "code",
   "execution_count": 17,
   "metadata": {},
   "outputs": [
    {
     "name": "stdout",
     "output_type": "stream",
     "text": [
      "SK_ID_CURR                0\n",
      "SK_ID_BUREAU              0\n",
      "CREDIT_ACTIVE             0\n",
      "CREDIT_CURRENCY           0\n",
      "DAYS_CREDIT               0\n",
      "CREDIT_DAY_OVERDUE        0\n",
      "DAYS_CREDIT_ENDDATE       0\n",
      "DAYS_ENDDATE_FACT         0\n",
      "AMT_CREDIT_MAX_OVERDUE    0\n",
      "CNT_CREDIT_PROLONG        0\n",
      "AMT_CREDIT_SUM            0\n",
      "AMT_CREDIT_SUM_DEBT       0\n",
      "AMT_CREDIT_SUM_LIMIT      0\n",
      "AMT_CREDIT_SUM_OVERDUE    0\n",
      "CREDIT_TYPE               0\n",
      "DAYS_CREDIT_UPDATE        0\n",
      "AMT_ANNUITY               0\n",
      "dtype: int64\n"
     ]
    }
   ],
   "source": [
    "# Vérifier que toutes les valeurs manquantes ont été traitées\n",
    "print(bureau_selected.isnull().sum())"
   ]
  },
  {
   "cell_type": "code",
   "execution_count": 36,
   "metadata": {},
   "outputs": [],
   "source": [
    "# Sauvegarder les données nettoyées\n",
    "bureau_selected.to_csv(r'C:\\Users\\jason\\Desktop\\Cours MS2D\\Bejaoui\\IA\\Credit scoring project\\bureau_clean.csv', index=False)"
   ]
  }
 ],
 "metadata": {
  "kernelspec": {
   "display_name": "base",
   "language": "python",
   "name": "python3"
  },
  "language_info": {
   "codemirror_mode": {
    "name": "ipython",
    "version": 3
   },
   "file_extension": ".py",
   "mimetype": "text/x-python",
   "name": "python",
   "nbconvert_exporter": "python",
   "pygments_lexer": "ipython3",
   "version": "3.11.5"
  }
 },
 "nbformat": 4,
 "nbformat_minor": 2
}
