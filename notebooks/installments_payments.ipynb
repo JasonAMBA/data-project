{
 "cells": [
  {
   "cell_type": "code",
   "execution_count": 9,
   "metadata": {},
   "outputs": [],
   "source": [
    "import pandas as pd"
   ]
  },
  {
   "cell_type": "code",
   "execution_count": 10,
   "metadata": {},
   "outputs": [],
   "source": [
    "# Charger le fichier CSV\n",
    "installments_payments = pd.read_csv(r'C:\\Users\\jason\\Desktop\\Cours MS2D\\Bejaoui\\IA\\Credit scoring project\\installments_payments.csv')"
   ]
  },
  {
   "cell_type": "code",
   "execution_count": 11,
   "metadata": {},
   "outputs": [
    {
     "name": "stdout",
     "output_type": "stream",
     "text": [
      "   SK_ID_PREV  SK_ID_CURR  NUM_INSTALMENT_VERSION  NUM_INSTALMENT_NUMBER  \\\n",
      "0     1054186      161674                     1.0                      6   \n",
      "1     1330831      151639                     0.0                     34   \n",
      "2     2085231      193053                     2.0                      1   \n",
      "3     2452527      199697                     1.0                      3   \n",
      "4     2714724      167756                     1.0                      2   \n",
      "\n",
      "   DAYS_INSTALMENT  DAYS_ENTRY_PAYMENT  AMT_INSTALMENT  AMT_PAYMENT  \n",
      "0          -1180.0             -1187.0        6948.360     6948.360  \n",
      "1          -2156.0             -2156.0        1716.525     1716.525  \n",
      "2            -63.0               -63.0       25425.000    25425.000  \n",
      "3          -2418.0             -2426.0       24350.130    24350.130  \n",
      "4          -1383.0             -1366.0        2165.040     2160.585  \n"
     ]
    }
   ],
   "source": [
    "# Afficher les premières lignes du DataFrame\n",
    "print(installments_payments.head())"
   ]
  },
  {
   "cell_type": "code",
   "execution_count": 12,
   "metadata": {},
   "outputs": [
    {
     "name": "stdout",
     "output_type": "stream",
     "text": [
      "SK_ID_PREV                   0\n",
      "SK_ID_CURR                   0\n",
      "NUM_INSTALMENT_VERSION       0\n",
      "NUM_INSTALMENT_NUMBER        0\n",
      "DAYS_INSTALMENT              0\n",
      "DAYS_ENTRY_PAYMENT        2905\n",
      "AMT_INSTALMENT               0\n",
      "AMT_PAYMENT               2905\n",
      "dtype: int64\n"
     ]
    }
   ],
   "source": [
    "# Sélectionner les colonnes pertinentes\n",
    "selected_columns_installments_payments = [\n",
    "    'SK_ID_PREV', 'SK_ID_CURR', 'NUM_INSTALMENT_VERSION', 'NUM_INSTALMENT_NUMBER',\n",
    "    'DAYS_INSTALMENT', 'DAYS_ENTRY_PAYMENT', 'AMT_INSTALMENT', 'AMT_PAYMENT'\n",
    "]\n",
    "\n",
    "installments_payments_selected = installments_payments[selected_columns_installments_payments].copy()\n",
    "\n",
    "# Afficher le nombre de valeurs manquantes par colonne\n",
    "print(installments_payments_selected.isnull().sum())"
   ]
  },
  {
   "cell_type": "code",
   "execution_count": 13,
   "metadata": {},
   "outputs": [],
   "source": [
    "# Traiter les valeurs manquantes en utilisant .loc\n",
    "installments_payments_selected.loc[:, 'DAYS_ENTRY_PAYMENT'] = installments_payments_selected['DAYS_ENTRY_PAYMENT'].fillna(installments_payments_selected['DAYS_ENTRY_PAYMENT'].median())\n",
    "installments_payments_selected.loc[:, 'AMT_PAYMENT'] = installments_payments_selected['AMT_PAYMENT'].fillna(0)"
   ]
  },
  {
   "cell_type": "code",
   "execution_count": 14,
   "metadata": {},
   "outputs": [
    {
     "name": "stdout",
     "output_type": "stream",
     "text": [
      "<class 'pandas.core.frame.DataFrame'>\n",
      "RangeIndex: 13605401 entries, 0 to 13605400\n",
      "Data columns (total 8 columns):\n",
      " #   Column                  Dtype  \n",
      "---  ------                  -----  \n",
      " 0   SK_ID_PREV              int64  \n",
      " 1   SK_ID_CURR              int64  \n",
      " 2   NUM_INSTALMENT_VERSION  float64\n",
      " 3   NUM_INSTALMENT_NUMBER   int64  \n",
      " 4   DAYS_INSTALMENT         float64\n",
      " 5   DAYS_ENTRY_PAYMENT      float64\n",
      " 6   AMT_INSTALMENT          float64\n",
      " 7   AMT_PAYMENT             float64\n",
      "dtypes: float64(5), int64(3)\n",
      "memory usage: 830.4 MB\n",
      "None\n"
     ]
    }
   ],
   "source": [
    "# Vérifier les types de données\n",
    "print(installments_payments_selected.info())"
   ]
  },
  {
   "cell_type": "code",
   "execution_count": 15,
   "metadata": {},
   "outputs": [],
   "source": [
    "# Traiter les valeurs aberrantes pour les colonnes numériques\n",
    "numerical_cols_installments_payments = [\n",
    "    'DAYS_INSTALMENT', 'DAYS_ENTRY_PAYMENT', 'AMT_INSTALMENT', 'AMT_PAYMENT'\n",
    "]\n",
    "for col in numerical_cols_installments_payments:\n",
    "    q_low = installments_payments_selected[col].quantile(0.01)\n",
    "    q_high = installments_payments_selected[col].quantile(0.99)\n",
    "    installments_payments_selected = installments_payments_selected[(installments_payments_selected[col] > q_low) & (installments_payments_selected[col] < q_high)]"
   ]
  },
  {
   "cell_type": "code",
   "execution_count": 16,
   "metadata": {},
   "outputs": [
    {
     "name": "stdout",
     "output_type": "stream",
     "text": [
      "SK_ID_PREV                0\n",
      "SK_ID_CURR                0\n",
      "NUM_INSTALMENT_VERSION    0\n",
      "NUM_INSTALMENT_NUMBER     0\n",
      "DAYS_INSTALMENT           0\n",
      "DAYS_ENTRY_PAYMENT        0\n",
      "AMT_INSTALMENT            0\n",
      "AMT_PAYMENT               0\n",
      "dtype: int64\n"
     ]
    }
   ],
   "source": [
    "# Vérifier que toutes les valeurs manquantes ont été traitées\n",
    "print(installments_payments_selected.isnull().sum())"
   ]
  },
  {
   "cell_type": "code",
   "execution_count": 17,
   "metadata": {},
   "outputs": [],
   "source": [
    "# Sauvegarder les données nettoyées\n",
    "installments_payments_selected.to_csv(r'C:\\Users\\jason\\Desktop\\Cours MS2D\\Bejaoui\\IA\\Credit scoring project\\installments_payments_clean.csv', index=False)"
   ]
  }
 ],
 "metadata": {
  "kernelspec": {
   "display_name": "base",
   "language": "python",
   "name": "python3"
  },
  "language_info": {
   "codemirror_mode": {
    "name": "ipython",
    "version": 3
   },
   "file_extension": ".py",
   "mimetype": "text/x-python",
   "name": "python",
   "nbconvert_exporter": "python",
   "pygments_lexer": "ipython3",
   "version": "3.11.5"
  }
 },
 "nbformat": 4,
 "nbformat_minor": 2
}
