{
 "cells": [
  {
   "cell_type": "code",
   "execution_count": 1,
   "metadata": {},
   "outputs": [],
   "source": [
    "import pandas as pd\n",
    "import numpy as np\n",
    "from sklearn.ensemble import IsolationForest"
   ]
  },
  {
   "cell_type": "code",
   "execution_count": 2,
   "metadata": {},
   "outputs": [],
   "source": [
    "# Charger le fichier CSV\n",
    "previous_application = pd.read_csv(r'C:\\Users\\jason\\Desktop\\Cours MS2D\\Bejaoui\\IA\\Credit scoring project\\previous_application.csv')"
   ]
  },
  {
   "cell_type": "code",
   "execution_count": 3,
   "metadata": {},
   "outputs": [
    {
     "name": "stdout",
     "output_type": "stream",
     "text": [
      "   SK_ID_PREV  SK_ID_CURR NAME_CONTRACT_TYPE  AMT_ANNUITY  AMT_APPLICATION  \\\n",
      "0     2030495      271877     Consumer loans     1730.430          17145.0   \n",
      "1     2802425      108129         Cash loans    25188.615         607500.0   \n",
      "2     2523466      122040         Cash loans    15060.735         112500.0   \n",
      "3     2819243      176158         Cash loans    47041.335         450000.0   \n",
      "4     1784265      202054         Cash loans    31924.395         337500.0   \n",
      "\n",
      "   AMT_CREDIT  AMT_DOWN_PAYMENT  AMT_GOODS_PRICE WEEKDAY_APPR_PROCESS_START  \\\n",
      "0     17145.0               0.0          17145.0                   SATURDAY   \n",
      "1    679671.0               NaN         607500.0                   THURSDAY   \n",
      "2    136444.5               NaN         112500.0                    TUESDAY   \n",
      "3    470790.0               NaN         450000.0                     MONDAY   \n",
      "4    404055.0               NaN         337500.0                   THURSDAY   \n",
      "\n",
      "   HOUR_APPR_PROCESS_START  ... NAME_SELLER_INDUSTRY  CNT_PAYMENT  \\\n",
      "0                       15  ...         Connectivity         12.0   \n",
      "1                       11  ...                  XNA         36.0   \n",
      "2                       11  ...                  XNA         12.0   \n",
      "3                        7  ...                  XNA         12.0   \n",
      "4                        9  ...                  XNA         24.0   \n",
      "\n",
      "   NAME_YIELD_GROUP       PRODUCT_COMBINATION  DAYS_FIRST_DRAWING  \\\n",
      "0            middle  POS mobile with interest            365243.0   \n",
      "1        low_action          Cash X-Sell: low            365243.0   \n",
      "2              high         Cash X-Sell: high            365243.0   \n",
      "3            middle       Cash X-Sell: middle            365243.0   \n",
      "4              high         Cash Street: high                 NaN   \n",
      "\n",
      "  DAYS_FIRST_DUE DAYS_LAST_DUE_1ST_VERSION  DAYS_LAST_DUE DAYS_TERMINATION  \\\n",
      "0          -42.0                     300.0          -42.0            -37.0   \n",
      "1         -134.0                     916.0       365243.0         365243.0   \n",
      "2         -271.0                      59.0       365243.0         365243.0   \n",
      "3         -482.0                    -152.0         -182.0           -177.0   \n",
      "4            NaN                       NaN            NaN              NaN   \n",
      "\n",
      "  NFLAG_INSURED_ON_APPROVAL  \n",
      "0                       0.0  \n",
      "1                       1.0  \n",
      "2                       1.0  \n",
      "3                       1.0  \n",
      "4                       NaN  \n",
      "\n",
      "[5 rows x 37 columns]\n"
     ]
    }
   ],
   "source": [
    "# Afficher les premières lignes du DataFrame\n",
    "print(previous_application.head())"
   ]
  },
  {
   "cell_type": "code",
   "execution_count": 4,
   "metadata": {},
   "outputs": [
    {
     "name": "stdout",
     "output_type": "stream",
     "text": [
      "SK_ID_PREV                           0\n",
      "SK_ID_CURR                           0\n",
      "NAME_CONTRACT_TYPE                   0\n",
      "AMT_ANNUITY                     372235\n",
      "AMT_APPLICATION                      0\n",
      "AMT_CREDIT                           1\n",
      "AMT_DOWN_PAYMENT                895844\n",
      "AMT_GOODS_PRICE                 385515\n",
      "WEEKDAY_APPR_PROCESS_START           0\n",
      "HOUR_APPR_PROCESS_START              0\n",
      "FLAG_LAST_APPL_PER_CONTRACT          0\n",
      "NFLAG_LAST_APPL_IN_DAY               0\n",
      "RATE_DOWN_PAYMENT               895844\n",
      "RATE_INTEREST_PRIMARY          1664263\n",
      "RATE_INTEREST_PRIVILEGED       1664263\n",
      "dtype: int64\n"
     ]
    }
   ],
   "source": [
    "# Sélectionner les colonnes pertinentes\n",
    "selected_columns_previous_application = [\n",
    "    'SK_ID_PREV', 'SK_ID_CURR', 'NAME_CONTRACT_TYPE', 'AMT_ANNUITY',\n",
    "    'AMT_APPLICATION', 'AMT_CREDIT', 'AMT_DOWN_PAYMENT', 'AMT_GOODS_PRICE',\n",
    "    'WEEKDAY_APPR_PROCESS_START', 'HOUR_APPR_PROCESS_START',\n",
    "    'FLAG_LAST_APPL_PER_CONTRACT', 'NFLAG_LAST_APPL_IN_DAY',\n",
    "    'RATE_DOWN_PAYMENT', 'RATE_INTEREST_PRIMARY', 'RATE_INTEREST_PRIVILEGED'\n",
    "]\n",
    "\n",
    "previous_application_selected = previous_application[selected_columns_previous_application].copy()\n",
    "\n",
    "# Afficher le nombre de valeurs manquantes par colonne\n",
    "print(previous_application_selected.isnull().sum())"
   ]
  },
  {
   "cell_type": "code",
   "execution_count": 5,
   "metadata": {},
   "outputs": [
    {
     "name": "stdout",
     "output_type": "stream",
     "text": [
      "Nombre de lignes avant le filtrage des valeurs aberrantes : 1670214\n"
     ]
    }
   ],
   "source": [
    "# Nombre de lignes avant le filtrage\n",
    "print(f\"Nombre de lignes avant le filtrage des valeurs aberrantes : {len(previous_application_selected)}\")"
   ]
  },
  {
   "cell_type": "code",
   "execution_count": 8,
   "metadata": {},
   "outputs": [],
   "source": [
    "# Traiter les valeurs manquantes\n",
    "# Remplacer les valeurs manquantes dans les colonnes numériques par la médiane ou des valeurs spécifiques\n",
    "previous_application_selected.loc[:, 'AMT_ANNUITY'] = previous_application_selected['AMT_ANNUITY'].fillna(previous_application_selected['AMT_ANNUITY'].median())\n",
    "previous_application_selected.loc[:, 'AMT_CREDIT'] = previous_application_selected['AMT_CREDIT'].fillna(previous_application_selected['AMT_CREDIT'].median())\n",
    "previous_application_selected.loc[:, 'AMT_DOWN_PAYMENT'] = previous_application_selected['AMT_DOWN_PAYMENT'].fillna(0)\n",
    "previous_application_selected.loc[:, 'AMT_GOODS_PRICE'] = previous_application_selected['AMT_GOODS_PRICE'].fillna(previous_application_selected['AMT_GOODS_PRICE'].median())\n",
    "previous_application_selected.loc[:, 'RATE_DOWN_PAYMENT'] = previous_application_selected['RATE_DOWN_PAYMENT'].fillna(0)\n",
    "previous_application_selected.loc[:, 'RATE_INTEREST_PRIMARY'] = previous_application_selected['RATE_INTEREST_PRIMARY'].fillna(previous_application_selected['RATE_INTEREST_PRIMARY'].median())\n",
    "previous_application_selected.loc[:, 'RATE_INTEREST_PRIVILEGED'] = previous_application_selected['RATE_INTEREST_PRIVILEGED'].fillna(previous_application_selected['RATE_INTEREST_PRIVILEGED'].median())"
   ]
  },
  {
   "cell_type": "code",
   "execution_count": 9,
   "metadata": {},
   "outputs": [
    {
     "name": "stdout",
     "output_type": "stream",
     "text": [
      "NAME_CONTRACT_TYPE             4\n",
      "WEEKDAY_APPR_PROCESS_START     7\n",
      "FLAG_LAST_APPL_PER_CONTRACT    2\n",
      "dtype: int64\n",
      "Valeurs uniques pour NAME_CONTRACT_TYPE:\n",
      "['Consumer loans' 'Cash loans' 'Revolving loans' 'XNA']\n",
      "\n",
      "Valeurs uniques pour WEEKDAY_APPR_PROCESS_START:\n",
      "['SATURDAY' 'THURSDAY' 'TUESDAY' 'MONDAY' 'FRIDAY' 'SUNDAY' 'WEDNESDAY']\n",
      "\n",
      "Valeurs uniques pour FLAG_LAST_APPL_PER_CONTRACT:\n",
      "['Y' 'N']\n",
      "\n"
     ]
    }
   ],
   "source": [
    "# Analyser les colonnes de type 'object'\n",
    "# Compter le nombre de valeurs uniques pour chaque colonne de type 'object'\n",
    "object_columns_unique_counts = previous_application_selected.select_dtypes('object').apply(pd.Series.nunique, axis=0)\n",
    "print(object_columns_unique_counts)\n",
    "\n",
    "# Afficher les valeurs uniques pour chaque colonne de type 'object'\n",
    "for column in previous_application_selected.select_dtypes('object').columns:\n",
    "    print(f\"Valeurs uniques pour {column}:\")\n",
    "    print(previous_application_selected[column].unique())\n",
    "    print()"
   ]
  },
  {
   "cell_type": "code",
   "execution_count": 10,
   "metadata": {},
   "outputs": [],
   "source": [
    "# 3. Correction de 'NAME_CONTRACT_TYPE'\n",
    "# Remplacer 'XNA' par la valeur majoritaire\n",
    "majority_value = previous_application_selected['NAME_CONTRACT_TYPE'].mode()[0]\n",
    "previous_application_selected['NAME_CONTRACT_TYPE'].replace('XNA', majority_value, inplace=True)"
   ]
  },
  {
   "cell_type": "code",
   "execution_count": 11,
   "metadata": {},
   "outputs": [
    {
     "name": "stdout",
     "output_type": "stream",
     "text": [
      "NAME_CONTRACT_TYPE             3\n",
      "WEEKDAY_APPR_PROCESS_START     7\n",
      "FLAG_LAST_APPL_PER_CONTRACT    2\n",
      "dtype: int64\n"
     ]
    }
   ],
   "source": [
    "# Vérifier les valeurs uniques après correction\n",
    "object_columns_unique_counts_corrected = previous_application_selected.select_dtypes('object').apply(pd.Series.nunique, axis=0)\n",
    "print(object_columns_unique_counts_corrected)"
   ]
  },
  {
   "cell_type": "code",
   "execution_count": 12,
   "metadata": {},
   "outputs": [],
   "source": [
    "# 5. Transformation logarithmique pour les colonnes financières\n",
    "columns_to_log_transform = [\n",
    "    'AMT_ANNUITY', 'AMT_APPLICATION', 'AMT_CREDIT', \n",
    "    'AMT_DOWN_PAYMENT', 'AMT_GOODS_PRICE', 'RATE_DOWN_PAYMENT'\n",
    "]\n",
    "\n",
    "for col in columns_to_log_transform:\n",
    "    previous_application_selected[col] = previous_application_selected[col].apply(lambda x: np.log1p(x) if x > 0 else 0)"
   ]
  },
  {
   "cell_type": "code",
   "execution_count": 13,
   "metadata": {},
   "outputs": [],
   "source": [
    "# 6. Imputation des valeurs aberrantes\n",
    "numerical_cols_previous_application = [\n",
    "    'AMT_ANNUITY', 'AMT_APPLICATION', 'AMT_CREDIT', \n",
    "    'AMT_DOWN_PAYMENT', 'AMT_GOODS_PRICE', 'RATE_DOWN_PAYMENT',\n",
    "    'RATE_INTEREST_PRIMARY', 'RATE_INTEREST_PRIVILEGED'\n",
    "]\n",
    "\n",
    "for col in numerical_cols_previous_application:\n",
    "    q_low = previous_application_selected[col].quantile(0.01)\n",
    "    q_high = previous_application_selected[col].quantile(0.99)\n",
    "    \n",
    "    median_value = previous_application_selected[col].median()\n",
    "    previous_application_selected[col] = previous_application_selected[col].mask((previous_application_selected[col] < q_low) | (previous_application_selected[col] > q_high), median_value)"
   ]
  },
  {
   "cell_type": "code",
   "execution_count": 14,
   "metadata": {},
   "outputs": [],
   "source": [
    "# 7. Réduction de la taille des données pour l'Isolation Forest\n",
    "previous_application_sampled = previous_application_selected.sample(frac=0.1, random_state=42)"
   ]
  },
  {
   "cell_type": "code",
   "execution_count": 15,
   "metadata": {},
   "outputs": [],
   "source": [
    "# 8. Application de l'Isolation Forest pour la détection des anomalies\n",
    "iso = IsolationForest(contamination=0.01, random_state=42)\n",
    "yhat = iso.fit_predict(previous_application_sampled[numerical_cols_previous_application])\n",
    "\n",
    "previous_application_sampled = previous_application_sampled[yhat != -1]"
   ]
  },
  {
   "cell_type": "code",
   "execution_count": 16,
   "metadata": {},
   "outputs": [
    {
     "name": "stdout",
     "output_type": "stream",
     "text": [
      "<class 'pandas.core.frame.DataFrame'>\n",
      "RangeIndex: 1670214 entries, 0 to 1670213\n",
      "Data columns (total 15 columns):\n",
      " #   Column                       Non-Null Count    Dtype  \n",
      "---  ------                       --------------    -----  \n",
      " 0   SK_ID_PREV                   1670214 non-null  int64  \n",
      " 1   SK_ID_CURR                   1670214 non-null  int64  \n",
      " 2   NAME_CONTRACT_TYPE           1670214 non-null  object \n",
      " 3   AMT_ANNUITY                  1670214 non-null  float64\n",
      " 4   AMT_APPLICATION              1670214 non-null  float64\n",
      " 5   AMT_CREDIT                   1670214 non-null  float64\n",
      " 6   AMT_DOWN_PAYMENT             1670214 non-null  float64\n",
      " 7   AMT_GOODS_PRICE              1670214 non-null  float64\n",
      " 8   WEEKDAY_APPR_PROCESS_START   1670214 non-null  object \n",
      " 9   HOUR_APPR_PROCESS_START      1670214 non-null  int64  \n",
      " 10  FLAG_LAST_APPL_PER_CONTRACT  1670214 non-null  object \n",
      " 11  NFLAG_LAST_APPL_IN_DAY       1670214 non-null  int64  \n",
      " 12  RATE_DOWN_PAYMENT            1670214 non-null  float64\n",
      " 13  RATE_INTEREST_PRIMARY        1670214 non-null  float64\n",
      " 14  RATE_INTEREST_PRIVILEGED     1670214 non-null  float64\n",
      "dtypes: float64(8), int64(4), object(3)\n",
      "memory usage: 191.1+ MB\n",
      "None\n"
     ]
    }
   ],
   "source": [
    "# Vérifier les types de données\n",
    "print(previous_application_selected.info())"
   ]
  },
  {
   "cell_type": "code",
   "execution_count": 17,
   "metadata": {},
   "outputs": [],
   "source": [
    "# 9. Fusionner les résultats\n",
    "previous_application_selected = pd.concat([previous_application_selected[~previous_application_selected.index.isin(previous_application_sampled.index)], previous_application_sampled])"
   ]
  },
  {
   "cell_type": "code",
   "execution_count": 18,
   "metadata": {},
   "outputs": [
    {
     "name": "stdout",
     "output_type": "stream",
     "text": [
      "SK_ID_PREV                     0\n",
      "SK_ID_CURR                     0\n",
      "NAME_CONTRACT_TYPE             0\n",
      "AMT_ANNUITY                    0\n",
      "AMT_APPLICATION                0\n",
      "AMT_CREDIT                     0\n",
      "AMT_DOWN_PAYMENT               0\n",
      "AMT_GOODS_PRICE                0\n",
      "WEEKDAY_APPR_PROCESS_START     0\n",
      "HOUR_APPR_PROCESS_START        0\n",
      "FLAG_LAST_APPL_PER_CONTRACT    0\n",
      "NFLAG_LAST_APPL_IN_DAY         0\n",
      "RATE_DOWN_PAYMENT              0\n",
      "RATE_INTEREST_PRIMARY          0\n",
      "RATE_INTEREST_PRIVILEGED       0\n",
      "dtype: int64\n"
     ]
    }
   ],
   "source": [
    "# 10. Vérification finale et sauvegarde des données\n",
    "print(previous_application_selected.isnull().sum())"
   ]
  },
  {
   "cell_type": "code",
   "execution_count": 19,
   "metadata": {},
   "outputs": [
    {
     "name": "stdout",
     "output_type": "stream",
     "text": [
      "Nombre de lignes après le filtrage des valeurs aberrantes : 1670214\n"
     ]
    }
   ],
   "source": [
    "# Nombre de lignes après le filtrage\n",
    "print(f\"Nombre de lignes après le filtrage des valeurs aberrantes : {len(previous_application_selected)}\")"
   ]
  },
  {
   "cell_type": "code",
   "execution_count": 20,
   "metadata": {},
   "outputs": [],
   "source": [
    "# Sauvegarder les données nettoyées\n",
    "previous_application_selected.to_csv(r'C:\\Users\\jason\\Desktop\\Cours MS2D\\Bejaoui\\IA\\Credit scoring project\\previous_application_clean.csv', index=False)"
   ]
  }
 ],
 "metadata": {
  "kernelspec": {
   "display_name": "base",
   "language": "python",
   "name": "python3"
  },
  "language_info": {
   "codemirror_mode": {
    "name": "ipython",
    "version": 3
   },
   "file_extension": ".py",
   "mimetype": "text/x-python",
   "name": "python",
   "nbconvert_exporter": "python",
   "pygments_lexer": "ipython3",
   "version": "3.11.5"
  }
 },
 "nbformat": 4,
 "nbformat_minor": 2
}
