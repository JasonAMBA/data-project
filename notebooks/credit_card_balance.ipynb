{
 "cells": [
  {
   "cell_type": "code",
   "execution_count": 1,
   "metadata": {},
   "outputs": [],
   "source": [
    "import pandas as pd\n",
    "import numpy as np\n",
    "from sklearn.ensemble import IsolationForest"
   ]
  },
  {
   "cell_type": "code",
   "execution_count": 2,
   "metadata": {},
   "outputs": [],
   "source": [
    "# Charger le fichier CSV\n",
    "credit_card_balance = pd.read_csv(r'C:\\Users\\jason\\Desktop\\Cours MS2D\\Bejaoui\\IA\\Credit scoring project\\credit_card_balance.csv')"
   ]
  },
  {
   "cell_type": "code",
   "execution_count": 3,
   "metadata": {},
   "outputs": [
    {
     "name": "stdout",
     "output_type": "stream",
     "text": [
      "   SK_ID_PREV  SK_ID_CURR  MONTHS_BALANCE  AMT_BALANCE  \\\n",
      "0     2562384      378907              -6       56.970   \n",
      "1     2582071      363914              -1    63975.555   \n",
      "2     1740877      371185              -7    31815.225   \n",
      "3     1389973      337855              -4   236572.110   \n",
      "4     1891521      126868              -1   453919.455   \n",
      "\n",
      "   AMT_CREDIT_LIMIT_ACTUAL  AMT_DRAWINGS_ATM_CURRENT  AMT_DRAWINGS_CURRENT  \\\n",
      "0                   135000                       0.0                 877.5   \n",
      "1                    45000                    2250.0                2250.0   \n",
      "2                   450000                       0.0                   0.0   \n",
      "3                   225000                    2250.0                2250.0   \n",
      "4                   450000                       0.0               11547.0   \n",
      "\n",
      "   AMT_DRAWINGS_OTHER_CURRENT  AMT_DRAWINGS_POS_CURRENT  \\\n",
      "0                         0.0                     877.5   \n",
      "1                         0.0                       0.0   \n",
      "2                         0.0                       0.0   \n",
      "3                         0.0                       0.0   \n",
      "4                         0.0                   11547.0   \n",
      "\n",
      "   AMT_INST_MIN_REGULARITY  ...  AMT_RECIVABLE  AMT_TOTAL_RECEIVABLE  \\\n",
      "0                 1700.325  ...          0.000                 0.000   \n",
      "1                 2250.000  ...      64875.555             64875.555   \n",
      "2                 2250.000  ...      31460.085             31460.085   \n",
      "3                11795.760  ...     233048.970            233048.970   \n",
      "4                22924.890  ...     453919.455            453919.455   \n",
      "\n",
      "   CNT_DRAWINGS_ATM_CURRENT  CNT_DRAWINGS_CURRENT  CNT_DRAWINGS_OTHER_CURRENT  \\\n",
      "0                       0.0                     1                         0.0   \n",
      "1                       1.0                     1                         0.0   \n",
      "2                       0.0                     0                         0.0   \n",
      "3                       1.0                     1                         0.0   \n",
      "4                       0.0                     1                         0.0   \n",
      "\n",
      "   CNT_DRAWINGS_POS_CURRENT  CNT_INSTALMENT_MATURE_CUM  NAME_CONTRACT_STATUS  \\\n",
      "0                       1.0                       35.0                Active   \n",
      "1                       0.0                       69.0                Active   \n",
      "2                       0.0                       30.0                Active   \n",
      "3                       0.0                       10.0                Active   \n",
      "4                       1.0                      101.0                Active   \n",
      "\n",
      "   SK_DPD  SK_DPD_DEF  \n",
      "0       0           0  \n",
      "1       0           0  \n",
      "2       0           0  \n",
      "3       0           0  \n",
      "4       0           0  \n",
      "\n",
      "[5 rows x 23 columns]\n"
     ]
    }
   ],
   "source": [
    "# Afficher les premières lignes du DataFrame\n",
    "print(credit_card_balance.head())"
   ]
  },
  {
   "cell_type": "code",
   "execution_count": 4,
   "metadata": {},
   "outputs": [
    {
     "name": "stdout",
     "output_type": "stream",
     "text": [
      "Nombre de lignes après la sélection des colonnes : 3840312\n",
      "SK_ID_PREV                         0\n",
      "SK_ID_CURR                         0\n",
      "MONTHS_BALANCE                     0\n",
      "AMT_BALANCE                        0\n",
      "AMT_CREDIT_LIMIT_ACTUAL            0\n",
      "AMT_DRAWINGS_ATM_CURRENT      749816\n",
      "AMT_DRAWINGS_CURRENT               0\n",
      "AMT_DRAWINGS_OTHER_CURRENT    749816\n",
      "AMT_DRAWINGS_POS_CURRENT      749816\n",
      "AMT_INST_MIN_REGULARITY       305236\n",
      "dtype: int64\n"
     ]
    }
   ],
   "source": [
    "# Sélectionner les colonnes pertinentes\n",
    "selected_columns_credit_card_balance = [\n",
    "    'SK_ID_PREV', 'SK_ID_CURR', 'MONTHS_BALANCE', 'AMT_BALANCE',\n",
    "    'AMT_CREDIT_LIMIT_ACTUAL', 'AMT_DRAWINGS_ATM_CURRENT',\n",
    "    'AMT_DRAWINGS_CURRENT', 'AMT_DRAWINGS_OTHER_CURRENT',\n",
    "    'AMT_DRAWINGS_POS_CURRENT', 'AMT_INST_MIN_REGULARITY'\n",
    "]\n",
    "\n",
    "credit_card_balance_selected = credit_card_balance[selected_columns_credit_card_balance].copy()\n",
    "\n",
    "# Vérifier le nombre de lignes après la sélection des colonnes\n",
    "print(f\"Nombre de lignes après la sélection des colonnes : {len(credit_card_balance_selected)}\")\n",
    "\n",
    "# Afficher le nombre de valeurs manquantes par colonne\n",
    "print(credit_card_balance_selected.isnull().sum())"
   ]
  },
  {
   "cell_type": "code",
   "execution_count": 5,
   "metadata": {},
   "outputs": [],
   "source": [
    "# Traiter les valeurs manquantes en utilisant .loc\n",
    "credit_card_balance_selected.loc[:, 'AMT_DRAWINGS_ATM_CURRENT'] = credit_card_balance_selected['AMT_DRAWINGS_ATM_CURRENT'].fillna(0)\n",
    "credit_card_balance_selected.loc[:, 'AMT_DRAWINGS_OTHER_CURRENT'] = credit_card_balance_selected['AMT_DRAWINGS_OTHER_CURRENT'].fillna(0)\n",
    "credit_card_balance_selected.loc[:, 'AMT_DRAWINGS_POS_CURRENT'] = credit_card_balance_selected['AMT_DRAWINGS_POS_CURRENT'].fillna(0)\n",
    "credit_card_balance_selected.loc[:, 'AMT_INST_MIN_REGULARITY'] = credit_card_balance_selected['AMT_INST_MIN_REGULARITY'].fillna(credit_card_balance_selected['AMT_INST_MIN_REGULARITY'].median())"
   ]
  },
  {
   "cell_type": "code",
   "execution_count": 6,
   "metadata": {},
   "outputs": [],
   "source": [
    "# 4. Transformation logarithmique pour les colonnes financières\n",
    "columns_to_log_transform = [\n",
    "    'AMT_BALANCE', 'AMT_CREDIT_LIMIT_ACTUAL', 'AMT_DRAWINGS_ATM_CURRENT', \n",
    "    'AMT_DRAWINGS_CURRENT', 'AMT_DRAWINGS_OTHER_CURRENT', 'AMT_DRAWINGS_POS_CURRENT',\n",
    "    'AMT_INST_MIN_REGULARITY'\n",
    "]\n",
    "\n",
    "for col in columns_to_log_transform:\n",
    "    credit_card_balance_selected[col] = credit_card_balance_selected[col].apply(lambda x: np.log1p(x) if x > 0 else 0)\n"
   ]
  },
  {
   "cell_type": "code",
   "execution_count": 7,
   "metadata": {},
   "outputs": [],
   "source": [
    "# 5. Imputation des valeurs aberrantes\n",
    "numerical_cols_credit_card_balance = [\n",
    "    'AMT_BALANCE', 'AMT_CREDIT_LIMIT_ACTUAL', 'AMT_DRAWINGS_ATM_CURRENT', \n",
    "    'AMT_DRAWINGS_CURRENT', 'AMT_DRAWINGS_OTHER_CURRENT', 'AMT_DRAWINGS_POS_CURRENT',\n",
    "    'AMT_INST_MIN_REGULARITY'\n",
    "]\n",
    "\n",
    "for col in numerical_cols_credit_card_balance:\n",
    "    q_low = credit_card_balance_selected[col].quantile(0.01)\n",
    "    q_high = credit_card_balance_selected[col].quantile(0.99)\n",
    "    \n",
    "    median_value = credit_card_balance_selected[col].median()\n",
    "    credit_card_balance_selected[col] = credit_card_balance_selected[col].mask((credit_card_balance_selected[col] < q_low) | (credit_card_balance_selected[col] > q_high), median_value)"
   ]
  },
  {
   "cell_type": "code",
   "execution_count": 8,
   "metadata": {},
   "outputs": [],
   "source": [
    "# 6. Réduction de la taille des données pour l'Isolation Forest\n",
    "credit_card_balance_sampled = credit_card_balance_selected.sample(frac=0.1, random_state=42)"
   ]
  },
  {
   "cell_type": "code",
   "execution_count": 9,
   "metadata": {},
   "outputs": [],
   "source": [
    "# 7. Application de l'Isolation Forest pour la détection des anomalies\n",
    "iso = IsolationForest(contamination=0.01, random_state=42)\n",
    "yhat = iso.fit_predict(credit_card_balance_sampled[numerical_cols_credit_card_balance])\n",
    "\n",
    "credit_card_balance_sampled = credit_card_balance_sampled[yhat != -1]"
   ]
  },
  {
   "cell_type": "code",
   "execution_count": 10,
   "metadata": {},
   "outputs": [],
   "source": [
    "# 8. Fusionner les résultats\n",
    "credit_card_balance_selected = pd.concat([credit_card_balance_selected[~credit_card_balance_selected.index.isin(credit_card_balance_sampled.index)], credit_card_balance_sampled])"
   ]
  },
  {
   "cell_type": "code",
   "execution_count": 11,
   "metadata": {},
   "outputs": [
    {
     "name": "stdout",
     "output_type": "stream",
     "text": [
      "<class 'pandas.core.frame.DataFrame'>\n",
      "Index: 3840312 entries, 0 to 915116\n",
      "Data columns (total 10 columns):\n",
      " #   Column                      Dtype  \n",
      "---  ------                      -----  \n",
      " 0   SK_ID_PREV                  int64  \n",
      " 1   SK_ID_CURR                  int64  \n",
      " 2   MONTHS_BALANCE              int64  \n",
      " 3   AMT_BALANCE                 float64\n",
      " 4   AMT_CREDIT_LIMIT_ACTUAL     float64\n",
      " 5   AMT_DRAWINGS_ATM_CURRENT    float64\n",
      " 6   AMT_DRAWINGS_CURRENT        float64\n",
      " 7   AMT_DRAWINGS_OTHER_CURRENT  float64\n",
      " 8   AMT_DRAWINGS_POS_CURRENT    float64\n",
      " 9   AMT_INST_MIN_REGULARITY     float64\n",
      "dtypes: float64(7), int64(3)\n",
      "memory usage: 322.3 MB\n",
      "None\n"
     ]
    }
   ],
   "source": [
    "# Vérifier les types de données\n",
    "print(credit_card_balance_selected.info())"
   ]
  },
  {
   "cell_type": "code",
   "execution_count": 12,
   "metadata": {},
   "outputs": [
    {
     "name": "stdout",
     "output_type": "stream",
     "text": [
      "SK_ID_PREV                    0\n",
      "SK_ID_CURR                    0\n",
      "MONTHS_BALANCE                0\n",
      "AMT_BALANCE                   0\n",
      "AMT_CREDIT_LIMIT_ACTUAL       0\n",
      "AMT_DRAWINGS_ATM_CURRENT      0\n",
      "AMT_DRAWINGS_CURRENT          0\n",
      "AMT_DRAWINGS_OTHER_CURRENT    0\n",
      "AMT_DRAWINGS_POS_CURRENT      0\n",
      "AMT_INST_MIN_REGULARITY       0\n",
      "dtype: int64\n"
     ]
    }
   ],
   "source": [
    "# 9. Vérification finale et sauvegarde des données\n",
    "print(credit_card_balance_selected.isnull().sum())"
   ]
  },
  {
   "cell_type": "code",
   "execution_count": 13,
   "metadata": {},
   "outputs": [
    {
     "name": "stdout",
     "output_type": "stream",
     "text": [
      "Nombre de lignes après la sélection des colonnes : 3840312\n"
     ]
    }
   ],
   "source": [
    "print(f\"Nombre de lignes après la sélection des colonnes : {len(credit_card_balance_selected)}\")"
   ]
  },
  {
   "cell_type": "code",
   "execution_count": 14,
   "metadata": {},
   "outputs": [],
   "source": [
    "# Sauvegarder les données nettoyées\n",
    "credit_card_balance_selected.to_csv(r'C:\\Users\\jason\\Desktop\\Cours MS2D\\Bejaoui\\IA\\Credit scoring project\\credit_card_balance_clean.csv', index=False)"
   ]
  }
 ],
 "metadata": {
  "kernelspec": {
   "display_name": "base",
   "language": "python",
   "name": "python3"
  },
  "language_info": {
   "codemirror_mode": {
    "name": "ipython",
    "version": 3
   },
   "file_extension": ".py",
   "mimetype": "text/x-python",
   "name": "python",
   "nbconvert_exporter": "python",
   "pygments_lexer": "ipython3",
   "version": "3.11.5"
  }
 },
 "nbformat": 4,
 "nbformat_minor": 2
}
