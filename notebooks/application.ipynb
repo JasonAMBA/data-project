{
 "cells": [
  {
   "cell_type": "code",
   "execution_count": 20,
   "metadata": {},
   "outputs": [],
   "source": [
    "import pandas as pd"
   ]
  },
  {
   "cell_type": "code",
   "execution_count": 21,
   "metadata": {},
   "outputs": [],
   "source": [
    "# Charger le fichier CSV\n",
    "application = pd.read_csv(r'C:\\Users\\jason\\Desktop\\Cours MS2D\\Bejaoui\\IA\\Credit scoring project\\application_train.csv')"
   ]
  },
  {
   "cell_type": "code",
   "execution_count": 22,
   "metadata": {},
   "outputs": [
    {
     "name": "stdout",
     "output_type": "stream",
     "text": [
      "   SK_ID_CURR  TARGET NAME_CONTRACT_TYPE CODE_GENDER FLAG_OWN_CAR  \\\n",
      "0      100002       1         Cash loans           M            N   \n",
      "1      100003       0         Cash loans           F            N   \n",
      "2      100004       0    Revolving loans           M            Y   \n",
      "3      100006       0         Cash loans           F            N   \n",
      "4      100007       0         Cash loans           M            N   \n",
      "\n",
      "  FLAG_OWN_REALTY  CNT_CHILDREN  AMT_INCOME_TOTAL  AMT_CREDIT  AMT_ANNUITY  \\\n",
      "0               Y             0          202500.0    406597.5      24700.5   \n",
      "1               N             0          270000.0   1293502.5      35698.5   \n",
      "2               Y             0           67500.0    135000.0       6750.0   \n",
      "3               Y             0          135000.0    312682.5      29686.5   \n",
      "4               Y             0          121500.0    513000.0      21865.5   \n",
      "\n",
      "   ...  FLAG_DOCUMENT_18 FLAG_DOCUMENT_19 FLAG_DOCUMENT_20 FLAG_DOCUMENT_21  \\\n",
      "0  ...                 0                0                0                0   \n",
      "1  ...                 0                0                0                0   \n",
      "2  ...                 0                0                0                0   \n",
      "3  ...                 0                0                0                0   \n",
      "4  ...                 0                0                0                0   \n",
      "\n",
      "  AMT_REQ_CREDIT_BUREAU_HOUR AMT_REQ_CREDIT_BUREAU_DAY  \\\n",
      "0                        0.0                       0.0   \n",
      "1                        0.0                       0.0   \n",
      "2                        0.0                       0.0   \n",
      "3                        NaN                       NaN   \n",
      "4                        0.0                       0.0   \n",
      "\n",
      "   AMT_REQ_CREDIT_BUREAU_WEEK  AMT_REQ_CREDIT_BUREAU_MON  \\\n",
      "0                         0.0                        0.0   \n",
      "1                         0.0                        0.0   \n",
      "2                         0.0                        0.0   \n",
      "3                         NaN                        NaN   \n",
      "4                         0.0                        0.0   \n",
      "\n",
      "   AMT_REQ_CREDIT_BUREAU_QRT  AMT_REQ_CREDIT_BUREAU_YEAR  \n",
      "0                        0.0                         1.0  \n",
      "1                        0.0                         0.0  \n",
      "2                        0.0                         0.0  \n",
      "3                        NaN                         NaN  \n",
      "4                        0.0                         0.0  \n",
      "\n",
      "[5 rows x 122 columns]\n"
     ]
    }
   ],
   "source": [
    "# Afficher les premières lignes du DataFrame\n",
    "print(application.head())"
   ]
  },
  {
   "cell_type": "code",
   "execution_count": 23,
   "metadata": {},
   "outputs": [],
   "source": [
    "# Sélectionner les colonnes pertinentes\n",
    "selected_columns = ['SK_ID_CURR', 'TARGET', 'NAME_CONTRACT_TYPE', 'CODE_GENDER', 'FLAG_OWN_CAR', 'FLAG_OWN_REALTY', \n",
    "                    'CNT_CHILDREN', 'AMT_INCOME_TOTAL', 'AMT_CREDIT', 'AMT_ANNUITY']\n",
    "\n",
    "application_selected = application[selected_columns].copy()  # Utiliser .copy() pour éviter les SettingWithCopyWarning"
   ]
  },
  {
   "cell_type": "code",
   "execution_count": 24,
   "metadata": {},
   "outputs": [
    {
     "name": "stdout",
     "output_type": "stream",
     "text": [
      "SK_ID_CURR             0\n",
      "TARGET                 0\n",
      "NAME_CONTRACT_TYPE     0\n",
      "CODE_GENDER            0\n",
      "FLAG_OWN_CAR           0\n",
      "FLAG_OWN_REALTY        0\n",
      "CNT_CHILDREN           0\n",
      "AMT_INCOME_TOTAL       0\n",
      "AMT_CREDIT             0\n",
      "AMT_ANNUITY           12\n",
      "dtype: int64\n"
     ]
    }
   ],
   "source": [
    "# Afficher le nombre de valeurs manquantes par colonne\n",
    "print(application_selected.isnull().sum())"
   ]
  },
  {
   "cell_type": "code",
   "execution_count": 25,
   "metadata": {},
   "outputs": [],
   "source": [
    "# Traiter les valeurs manquantes pour la colonne AMT_ANNUITY\n",
    "application_selected.loc[:, 'AMT_ANNUITY'] = application_selected['AMT_ANNUITY'].fillna(application_selected['AMT_ANNUITY'].median())"
   ]
  },
  {
   "cell_type": "code",
   "execution_count": 26,
   "metadata": {},
   "outputs": [
    {
     "name": "stdout",
     "output_type": "stream",
     "text": [
      "NAME_CONTRACT_TYPE    2\n",
      "CODE_GENDER           3\n",
      "FLAG_OWN_CAR          2\n",
      "FLAG_OWN_REALTY       2\n",
      "dtype: int64\n",
      "Valeurs uniques pour NAME_CONTRACT_TYPE:\n",
      "['Cash loans' 'Revolving loans']\n",
      "\n",
      "Valeurs uniques pour CODE_GENDER:\n",
      "['M' 'F' 'XNA']\n",
      "\n",
      "Valeurs uniques pour FLAG_OWN_CAR:\n",
      "['N' 'Y']\n",
      "\n",
      "Valeurs uniques pour FLAG_OWN_REALTY:\n",
      "['Y' 'N']\n",
      "\n"
     ]
    }
   ],
   "source": [
    "# Sélectionner les colonnes de type 'object' et obtenir le nombre de valeurs uniques\n",
    "object_columns_unique_counts = application_selected.select_dtypes('object').apply(pd.Series.nunique, axis=0)\n",
    "print(object_columns_unique_counts)\n",
    "\n",
    "# Afficher les valeurs uniques pour chaque colonne de type 'object'\n",
    "for column in application_selected.select_dtypes('object').columns:\n",
    "    print(f\"Valeurs uniques pour {column}:\")\n",
    "    print(application_selected[column].unique())\n",
    "    print()"
   ]
  },
  {
   "cell_type": "code",
   "execution_count": 27,
   "metadata": {},
   "outputs": [],
   "source": [
    "# Correction des valeurs anormales\n",
    "# Liste des valeurs valides pour chaque colonne (à adapter selon le besoin)\n",
    "valid_values = {\n",
    "    'NAME_CONTRACT_TYPE': ['Cash loans', 'Revolving loans'],\n",
    "    'CODE_GENDER': ['M', 'F'],\n",
    "    'FLAG_OWN_CAR': ['Y', 'N'],\n",
    "    'FLAG_OWN_REALTY': ['Y', 'N']\n",
    "}"
   ]
  },
  {
   "cell_type": "code",
   "execution_count": 28,
   "metadata": {},
   "outputs": [
    {
     "name": "stdout",
     "output_type": "stream",
     "text": [
      "Valeurs uniques avant correction pour NAME_CONTRACT_TYPE:\n",
      "['Cash loans' 'Revolving loans']\n",
      "Valeurs uniques après correction pour NAME_CONTRACT_TYPE:\n",
      "['Cash loans' 'Revolving loans']\n",
      "Valeurs uniques avant correction pour CODE_GENDER:\n",
      "['M' 'F' 'XNA']\n",
      "Valeurs uniques après correction pour CODE_GENDER:\n",
      "['M' 'F']\n",
      "Valeurs uniques avant correction pour FLAG_OWN_CAR:\n",
      "['N' 'Y']\n",
      "Valeurs uniques après correction pour FLAG_OWN_CAR:\n",
      "['N' 'Y']\n",
      "Valeurs uniques avant correction pour FLAG_OWN_REALTY:\n",
      "['Y' 'N']\n",
      "Valeurs uniques après correction pour FLAG_OWN_REALTY:\n",
      "['Y' 'N']\n"
     ]
    }
   ],
   "source": [
    "# Fonction pour corriger les valeurs anormales dans les colonnes de type 'object'\n",
    "def correct_anomalies(df, column, correct_values):\n",
    "    unique_values = df[column].unique()\n",
    "    print(f\"Valeurs uniques avant correction pour {column}:\")\n",
    "    print(unique_values)\n",
    "    # Remplacer 'XNA' par la valeur majoritaire dans CODE_GENDER\n",
    "    if column == 'CODE_GENDER':\n",
    "        majority_value = df[column].mode()[0]\n",
    "        df[column] = df[column].replace('XNA', majority_value)\n",
    "    unique_values_corrected = df[column].unique()\n",
    "    print(f\"Valeurs uniques après correction pour {column}:\")\n",
    "    print(unique_values_corrected)\n",
    "\n",
    "# Corriger les valeurs anormales pour chaque colonne de type 'object'\n",
    "for column, values in valid_values.items():\n",
    "    correct_anomalies(application_selected, column, values)"
   ]
  },
  {
   "cell_type": "code",
   "execution_count": 29,
   "metadata": {},
   "outputs": [
    {
     "name": "stdout",
     "output_type": "stream",
     "text": [
      "NAME_CONTRACT_TYPE    2\n",
      "CODE_GENDER           2\n",
      "FLAG_OWN_CAR          2\n",
      "FLAG_OWN_REALTY       2\n",
      "dtype: int64\n"
     ]
    }
   ],
   "source": [
    "# Vérifier les valeurs uniques après correction\n",
    "object_columns_unique_counts_corrected = application_selected.select_dtypes('object').apply(pd.Series.nunique, axis=0)\n",
    "print(object_columns_unique_counts_corrected)"
   ]
  },
  {
   "cell_type": "code",
   "execution_count": 30,
   "metadata": {},
   "outputs": [
    {
     "name": "stdout",
     "output_type": "stream",
     "text": [
      "<class 'pandas.core.frame.DataFrame'>\n",
      "RangeIndex: 307511 entries, 0 to 307510\n",
      "Data columns (total 10 columns):\n",
      " #   Column              Non-Null Count   Dtype  \n",
      "---  ------              --------------   -----  \n",
      " 0   SK_ID_CURR          307511 non-null  int64  \n",
      " 1   TARGET              307511 non-null  int64  \n",
      " 2   NAME_CONTRACT_TYPE  307511 non-null  object \n",
      " 3   CODE_GENDER         307511 non-null  object \n",
      " 4   FLAG_OWN_CAR        307511 non-null  object \n",
      " 5   FLAG_OWN_REALTY     307511 non-null  object \n",
      " 6   CNT_CHILDREN        307511 non-null  int64  \n",
      " 7   AMT_INCOME_TOTAL    307511 non-null  float64\n",
      " 8   AMT_CREDIT          307511 non-null  float64\n",
      " 9   AMT_ANNUITY         307511 non-null  float64\n",
      "dtypes: float64(3), int64(3), object(4)\n",
      "memory usage: 23.5+ MB\n",
      "None\n"
     ]
    }
   ],
   "source": [
    "# Vérifier les types de données\n",
    "print(application_selected.info())"
   ]
  },
  {
   "cell_type": "code",
   "execution_count": 31,
   "metadata": {},
   "outputs": [],
   "source": [
    "# Traiter les valeurs aberrantes pour les colonnes numériques\n",
    "numerical_cols = ['AMT_INCOME_TOTAL', 'AMT_CREDIT', 'AMT_ANNUITY']\n",
    "for col in numerical_cols:\n",
    "    q_low = application_selected[col].quantile(0.01)\n",
    "    q_high = application_selected[col].quantile(0.99)\n",
    "    application_selected = application_selected[(application_selected[col] > q_low) & (application_selected[col] < q_high)]"
   ]
  },
  {
   "cell_type": "code",
   "execution_count": 32,
   "metadata": {},
   "outputs": [
    {
     "name": "stdout",
     "output_type": "stream",
     "text": [
      "SK_ID_CURR            0\n",
      "TARGET                0\n",
      "NAME_CONTRACT_TYPE    0\n",
      "CODE_GENDER           0\n",
      "FLAG_OWN_CAR          0\n",
      "FLAG_OWN_REALTY       0\n",
      "CNT_CHILDREN          0\n",
      "AMT_INCOME_TOTAL      0\n",
      "AMT_CREDIT            0\n",
      "AMT_ANNUITY           0\n",
      "dtype: int64\n"
     ]
    }
   ],
   "source": [
    "# Vérifier que toutes les valeurs manquantes ont été traitées\n",
    "print(application_selected.isnull().sum())"
   ]
  },
  {
   "cell_type": "code",
   "execution_count": 34,
   "metadata": {},
   "outputs": [],
   "source": [
    "# Sauvegarder les données nettoyées\n",
    "application_selected.to_csv(r'C:\\Users\\jason\\Desktop\\Cours MS2D\\Bejaoui\\IA\\Credit scoring project\\application_train_clean.csv', index=False)"
   ]
  }
 ],
 "metadata": {
  "kernelspec": {
   "display_name": "base",
   "language": "python",
   "name": "python3"
  },
  "language_info": {
   "codemirror_mode": {
    "name": "ipython",
    "version": 3
   },
   "file_extension": ".py",
   "mimetype": "text/x-python",
   "name": "python",
   "nbconvert_exporter": "python",
   "pygments_lexer": "ipython3",
   "version": "3.11.5"
  }
 },
 "nbformat": 4,
 "nbformat_minor": 2
}
